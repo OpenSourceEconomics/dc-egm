{
 "cells": [
  {
   "cell_type": "code",
   "execution_count": 1,
   "id": "0ed8eee6-6946-46ed-9064-f0be2aebb19c",
   "metadata": {},
   "outputs": [],
   "source": [
    "import numpy as np\n",
    "import jax.numpy as jnp\n",
    "import jax"
   ]
  },
  {
   "cell_type": "code",
   "execution_count": null,
   "id": "dd0bbeea-7c35-45ff-ba12-bb4bcfce97bf",
   "metadata": {},
   "outputs": [],
   "source": [
    "OPTIONS = {}"
   ]
  }
 ],
 "metadata": {
  "kernelspec": {
   "display_name": "Python 3 (ipykernel)",
   "language": "python",
   "name": "python3"
  },
  "language_info": {
   "codemirror_mode": {
    "name": "ipython",
    "version": 3
   },
   "file_extension": ".py",
   "mimetype": "text/x-python",
   "name": "python",
   "nbconvert_exporter": "python",
   "pygments_lexer": "ipython3",
   "version": "3.10.14"
  }
 },
 "nbformat": 4,
 "nbformat_minor": 5
}
