{
 "cells": [
  {
   "cell_type": "code",
   "execution_count": 12,
   "id": "597c9fcc",
   "metadata": {},
   "outputs": [
    {
     "name": "stdout",
     "output_type": "stream",
     "text": [
      "The autoreload extension is already loaded. To reload it, use:\n",
      "  %reload_ext autoreload\n"
     ]
    }
   ],
   "source": [
    "%load_ext autoreload\n",
    "\n",
    "%autoreload 2\n",
    "\n",
    "import jax\n",
    "import jax.numpy as jnp\n",
    "from jax import vmap, jit\n",
    "from jax import profiler\n",
    "import os\n",
    "from dcegm.solve import solve_dcegm, get_solve_function\n",
    "from functools import partial\n",
    "from dcegm.fast_upper_envelope import fast_upper_envelope\n",
    "import pandas as pd\n",
    "import yaml\n",
    "from dcegm.pre_processing import convert_params_to_dict\n",
    "import numpy as np\n",
    "\n",
    "\n",
    "TEST_RESOURCES_DIR = \"../resources/\""
   ]
  },
  {
   "cell_type": "markdown",
   "id": "c65960db-a9a2-461b-8092-724199ef6a8a",
   "metadata": {},
   "source": [
    "# Import toy model"
   ]
  },
  {
   "cell_type": "code",
   "execution_count": 2,
   "id": "85348e0c-3b80-43a8-9a55-3b7a59981de5",
   "metadata": {},
   "outputs": [],
   "source": [
    "from toy_models.consumption_retirement_model.budget_functions import budget_constraint\n",
    "from toy_models.consumption_retirement_model.exogenous_processes import (\n",
    "    get_transition_matrix_by_state,\n",
    ")\n",
    "from toy_models.consumption_retirement_model.final_period_solution import (\n",
    "    solve_final_period_scalar,\n",
    ")\n",
    "from toy_models.consumption_retirement_model.state_space_objects import (\n",
    "    create_state_space,\n",
    ")\n",
    "from toy_models.consumption_retirement_model.state_space_objects import (\n",
    "    get_state_specific_feasible_choice_set,\n",
    ")\n",
    "from toy_models.consumption_retirement_model.utility_functions import (\n",
    "    inverse_marginal_utility_crra,\n",
    ")\n",
    "from toy_models.consumption_retirement_model.utility_functions import (\n",
    "    marginal_utility_crra,\n",
    ")\n",
    "from toy_models.consumption_retirement_model.utility_functions import (\n",
    "    utiility_func_log_crra,\n",
    ")\n",
    "from toy_models.consumption_retirement_model.utility_functions import utility_func_crra"
   ]
  },
  {
   "cell_type": "code",
   "execution_count": 3,
   "id": "741854f1-8cda-4700-8038-1dc71fadfef5",
   "metadata": {},
   "outputs": [],
   "source": [
    "utility_functions = {\n",
    "    \"utility\": utility_func_crra,\n",
    "    \"inverse_marginal_utility\": inverse_marginal_utility_crra,\n",
    "    \"marginal_utility\": marginal_utility_crra,\n",
    "}"
   ]
  },
  {
   "cell_type": "code",
   "execution_count": 4,
   "id": "c4987593-2be2-4d43-9d39-a2a2cf49ed15",
   "metadata": {},
   "outputs": [],
   "source": [
    "state_space_functions = {\n",
    "    \"create_state_space\": create_state_space,\n",
    "    \"get_state_specific_choice_set\": get_state_specific_feasible_choice_set,\n",
    "}"
   ]
  },
  {
   "cell_type": "code",
   "execution_count": 5,
   "id": "9a8ac104-b90f-4663-b482-13eabbc0ea90",
   "metadata": {},
   "outputs": [
    {
     "name": "stderr",
     "output_type": "stream",
     "text": [
      "No GPU/TPU found, falling back to CPU. (Set TF_CPP_MIN_LOG_LEVEL=0 and rerun for more info.)\n"
     ]
    }
   ],
   "source": [
    "TEST_RESOURCES_DIR = \"../resources/\"\n",
    "params = pd.read_csv(\n",
    "    TEST_RESOURCES_DIR + \"retirement_taste_shocks.csv\", index_col=[\"category\", \"name\"]\n",
    ")\n",
    "options = yaml.safe_load(\n",
    "    open(TEST_RESOURCES_DIR + \"retirement_taste_shocks.yaml\", \"rb\")\n",
    ")\n",
    "options[\"n_exog_states\"] = 1\n",
    "exog_savings_grid = jnp.linspace(0, options[\"max_wealth\"], options[\"n_grid_points\"])"
   ]
  },
  {
   "cell_type": "markdown",
   "id": "7ace46a1-3294-4eb1-b868-020b10b7cb36",
   "metadata": {},
   "source": [
    "# Timeit"
   ]
  },
  {
   "cell_type": "code",
   "execution_count": 8,
   "id": "fe4de387-c44e-44a1-b4cb-a7ab6dabf57d",
   "metadata": {},
   "outputs": [],
   "source": [
    "backwards_jit = get_solve_function(\n",
    "    options=options,\n",
    "    exog_savings_grid=exog_savings_grid,\n",
    "    utility_functions=utility_functions,\n",
    "    budget_constraint=budget_constraint,\n",
    "    final_period_solution=solve_final_period_scalar,\n",
    "    state_space_functions=state_space_functions,\n",
    "    transition_function=get_transition_matrix_by_state,\n",
    ")"
   ]
  },
  {
   "cell_type": "code",
   "execution_count": 9,
   "id": "9118060d-c787-4320-bee6-6ec52fdb8750",
   "metadata": {},
   "outputs": [
    {
     "name": "stdout",
     "output_type": "stream",
     "text": [
      "58.8 ms ± 2.36 ms per loop (mean ± std. dev. of 7 runs, 10 loops each)\n"
     ]
    }
   ],
   "source": [
    "backwards_jit(params).block_until_ready()\n",
    "%timeit backwards_jit(params).block_until_ready()"
   ]
  },
  {
   "cell_type": "code",
   "execution_count": 14,
   "id": "2e56bf97",
   "metadata": {},
   "outputs": [],
   "source": [
    "policy_egm = jnp.array(\n",
    "    np.genfromtxt(TEST_RESOURCES_DIR + \"period_tests/pol10.csv\", delimiter=\",\")\n",
    ")\n",
    "value_egm = jnp.array(\n",
    "    np.genfromtxt(TEST_RESOURCES_DIR + \"period_tests/val10.csv\", delimiter=\",\")\n",
    ")"
   ]
  },
  {
   "cell_type": "code",
   "execution_count": 21,
   "id": "1acaf6c9",
   "metadata": {},
   "outputs": [],
   "source": [
    "test_upp_env = jit(partial(fast_upper_envelope, num_iter=int(value_egm.shape[1])))"
   ]
  },
  {
   "cell_type": "code",
   "execution_count": 22,
   "id": "debf8987",
   "metadata": {},
   "outputs": [
    {
     "name": "stdout",
     "output_type": "stream",
     "text": [
      "2.55 ms ± 23.9 µs per loop (mean ± std. dev. of 7 runs, 100 loops each)\n"
     ]
    }
   ],
   "source": [
    "test_upp_env(\n",
    "    endog_grid=policy_egm[0, 1:],\n",
    "    value=value_egm[1, 1:],\n",
    "    policy=policy_egm[1, 1:],\n",
    "    expected_value_zero_savings=value_egm[1, 0],\n",
    ").block_until_ready()\n",
    "%timeit test_upp_env(endog_grid=policy_egm[0, 1:], value=value_egm[1, 1:], policy=policy_egm[1, 1:], expected_value_zero_savings=value_egm[1, 0]).block_until_ready()"
   ]
  },
  {
   "cell_type": "code",
   "execution_count": null,
   "id": "d3d8a346-f977-46ac-8767-f180d0285661",
   "metadata": {},
   "outputs": [],
   "source": []
  }
 ],
 "metadata": {
  "kernelspec": {
   "display_name": "Python 3 (ipykernel)",
   "language": "python",
   "name": "python3"
  },
  "language_info": {
   "codemirror_mode": {
    "name": "ipython",
    "version": 3
   },
   "file_extension": ".py",
   "mimetype": "text/x-python",
   "name": "python",
   "nbconvert_exporter": "python",
   "pygments_lexer": "ipython3",
   "version": "3.10.12"
  },
  "vscode": {
   "interpreter": {
    "hash": "295b01d53423e068cbaf4d863176c39060942e8a93c7af67a14cfbcb461e6a22"
   }
  }
 },
 "nbformat": 4,
 "nbformat_minor": 5
}
