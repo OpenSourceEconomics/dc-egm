{
 "cells": [
  {
   "cell_type": "code",
   "execution_count": 1,
   "id": "597c9fcc",
   "metadata": {},
   "outputs": [],
   "source": [
    "%load_ext autoreload\n",
    "\n",
    "%autoreload 2\n",
    "\n",
    "import jax\n",
    "import jax.numpy as jnp\n",
    "from jax import vmap, jit\n",
    "from jax import profiler\n",
    "import os\n",
    "from dcegm.solve import solve_dcegm, get_solve_function\n",
    "from functools import partial\n",
    "from dcegm.fast_upper_envelope import fast_upper_envelope, fast_upper_envelope_wrapper\n",
    "import pandas as pd\n",
    "import yaml\n",
    "from dcegm.pre_processing import convert_params_to_dict, get_partial_functions\n",
    "import numpy as np\n",
    "\n",
    "\n",
    "TEST_RESOURCES_DIR = \"../resources/\""
   ]
  },
  {
   "cell_type": "markdown",
   "id": "c65960db-a9a2-461b-8092-724199ef6a8a",
   "metadata": {},
   "source": [
    "# Import toy model"
   ]
  },
  {
   "cell_type": "code",
   "execution_count": 2,
   "id": "85348e0c-3b80-43a8-9a55-3b7a59981de5",
   "metadata": {},
   "outputs": [],
   "source": [
    "from toy_models.consumption_retirement_model.budget_functions import budget_constraint\n",
    "from toy_models.consumption_retirement_model.exogenous_processes import (\n",
    "    get_transition_matrix_by_state,\n",
    ")\n",
    "from toy_models.consumption_retirement_model.final_period_solution import (\n",
    "    solve_final_period_scalar,\n",
    ")\n",
    "from toy_models.consumption_retirement_model.state_space_objects import (\n",
    "    create_state_space,\n",
    ")\n",
    "from toy_models.consumption_retirement_model.state_space_objects import (\n",
    "    get_state_specific_feasible_choice_set,\n",
    ")\n",
    "from toy_models.consumption_retirement_model.utility_functions import (\n",
    "    inverse_marginal_utility_crra,\n",
    ")\n",
    "from toy_models.consumption_retirement_model.utility_functions import (\n",
    "    marginal_utility_crra,\n",
    ")\n",
    "from toy_models.consumption_retirement_model.utility_functions import (\n",
    "    utiility_func_log_crra,\n",
    ")\n",
    "from toy_models.consumption_retirement_model.utility_functions import utility_func_crra"
   ]
  },
  {
   "cell_type": "code",
   "execution_count": 3,
   "id": "741854f1-8cda-4700-8038-1dc71fadfef5",
   "metadata": {},
   "outputs": [],
   "source": [
    "utility_functions = {\n",
    "    \"utility\": utility_func_crra,\n",
    "    \"inverse_marginal_utility\": inverse_marginal_utility_crra,\n",
    "    \"marginal_utility\": marginal_utility_crra,\n",
    "}"
   ]
  },
  {
   "cell_type": "code",
   "execution_count": 4,
   "id": "c4987593-2be2-4d43-9d39-a2a2cf49ed15",
   "metadata": {},
   "outputs": [],
   "source": [
    "state_space_functions = {\n",
    "    \"create_state_space\": create_state_space,\n",
    "    \"get_state_specific_choice_set\": get_state_specific_feasible_choice_set,\n",
    "}"
   ]
  },
  {
   "cell_type": "markdown",
   "id": "7ace46a1-3294-4eb1-b868-020b10b7cb36",
   "metadata": {},
   "source": [
    "# Timeit overall solve"
   ]
  },
  {
   "cell_type": "code",
   "execution_count": 5,
   "id": "9a8ac104-b90f-4663-b482-13eabbc0ea90",
   "metadata": {},
   "outputs": [
    {
     "name": "stderr",
     "output_type": "stream",
     "text": [
      "No GPU/TPU found, falling back to CPU. (Set TF_CPP_MIN_LOG_LEVEL=0 and rerun for more info.)\n"
     ]
    }
   ],
   "source": [
    "model = \"retirement_taste_shocks\"\n",
    "TEST_RESOURCES_DIR = \"../resources/\"\n",
    "\n",
    "params = pd.read_csv(\n",
    "    TEST_RESOURCES_DIR + f\"{model}.csv\", index_col=[\"category\", \"name\"]\n",
    ")\n",
    "options = yaml.safe_load(open(TEST_RESOURCES_DIR + f\"{model}.yaml\", \"rb\"))\n",
    "options[\"n_exog_states\"] = 1\n",
    "# options[\"n_periods\"] = 3\n",
    "exog_savings_grid = jnp.linspace(0, options[\"max_wealth\"], options[\"n_grid_points\"])"
   ]
  },
  {
   "cell_type": "code",
   "execution_count": 46,
   "id": "fe4de387-c44e-44a1-b4cb-a7ab6dabf57d",
   "metadata": {},
   "outputs": [],
   "source": [
    "backwards_jit = get_solve_function(\n",
    "    options=options,\n",
    "    exog_savings_grid=exog_savings_grid,\n",
    "    utility_functions=utility_functions,\n",
    "    budget_constraint=budget_constraint,\n",
    "    final_period_solution=solve_final_period_scalar,\n",
    "    state_space_functions=state_space_functions,\n",
    "    transition_function=get_transition_matrix_by_state,\n",
    ")"
   ]
  },
  {
   "cell_type": "code",
   "execution_count": 47,
   "id": "9118060d-c787-4320-bee6-6ec52fdb8750",
   "metadata": {},
   "outputs": [
    {
     "name": "stdout",
     "output_type": "stream",
     "text": [
      "3.91 ms ± 191 µs per loop (mean ± std. dev. of 7 runs, 100 loops each)\n"
     ]
    }
   ],
   "source": [
    "backwards_jit(params).block_until_ready()\n",
    "%timeit backwards_jit(params).block_until_ready()"
   ]
  },
  {
   "cell_type": "markdown",
   "id": "e5cbdf6a-45da-4fe2-9226-0ba58260f2ed",
   "metadata": {},
   "source": [
    "# Timeit upper envelope"
   ]
  },
  {
   "cell_type": "code",
   "execution_count": 6,
   "id": "2e56bf97",
   "metadata": {},
   "outputs": [],
   "source": [
    "policy_egm = jnp.array(\n",
    "    np.genfromtxt(TEST_RESOURCES_DIR + \"period_tests/pol10.csv\", delimiter=\",\")\n",
    ")\n",
    "value_egm = jnp.array(\n",
    "    np.genfromtxt(TEST_RESOURCES_DIR + \"period_tests/val10.csv\", delimiter=\",\")\n",
    ")\n",
    "params_dict = convert_params_to_dict(params)\n",
    "(\n",
    "    compute_utility,\n",
    "    compute_marginal_utility,\n",
    "    compute_inverse_marginal_utility,\n",
    "    compute_value,\n",
    "    compute_next_period_wealth,\n",
    "    compute_upper_envelope,\n",
    "    transition_vector_by_state,\n",
    ") = get_partial_functions(\n",
    "    options,\n",
    "    user_utility_functions=utility_functions,\n",
    "    user_budget_constraint=budget_constraint,\n",
    "    exogenous_transition_function=get_transition_matrix_by_state,\n",
    ")"
   ]
  },
  {
   "cell_type": "code",
   "execution_count": 14,
   "id": "1acaf6c9",
   "metadata": {},
   "outputs": [],
   "source": [
    "# test_upp_env = jit(partial(fast_upper_envelope_wrapper, choice=1, params=params_dict, compute_value=compute_value))\n",
    "test_upp_env = jit(partial(fast_upper_envelope, num_iter=int(value_egm.shape[1])))"
   ]
  },
  {
   "cell_type": "code",
   "execution_count": 15,
   "id": "debf8987",
   "metadata": {},
   "outputs": [
    {
     "name": "stdout",
     "output_type": "stream",
     "text": [
      "2.5 ms ± 45.4 µs per loop (mean ± std. dev. of 7 runs, 100 loops each)\n"
     ]
    }
   ],
   "source": [
    "test_upp_env(\n",
    "    endog_grid=policy_egm[0, 1:],\n",
    "    value=value_egm[1, 1:],\n",
    "    policy=policy_egm[1, 1:],\n",
    "    expected_value_zero_savings=value_egm[1, 0],\n",
    ").block_until_ready()\n",
    "%timeit test_upp_env(endog_grid=policy_egm[0, 1:], value=value_egm[1, 1:], policy=policy_egm[1, 1:], expected_value_zero_savings=value_egm[1, 0]).block_until_ready()"
   ]
  },
  {
   "cell_type": "markdown",
   "id": "b411e458-3419-4721-9077-e0989151878c",
   "metadata": {},
   "source": [
    "# Timing of jax.lax.scan"
   ]
  },
  {
   "cell_type": "code",
   "execution_count": 26,
   "id": "a0d778e8-c228-44d5-9120-8c2a07f5dbbd",
   "metadata": {},
   "outputs": [],
   "source": [
    "def body_1(carry, _it_step):\n",
    "    new_carry = carry + 1.5\n",
    "    return new_carry, new_carry\n",
    "\n",
    "\n",
    "def body_2(carry, _it_step):\n",
    "    new_carry = carry + 1\n",
    "    return new_carry, new_carry\n",
    "\n",
    "test_body_1 = jit(lambda start: jax.lax.scan(body_1, start, xs=None, length=5000))\n",
    "test_body_2 = jit(lambda start: jax.lax.scan(body_2, start, xs=None, length=5000))"
   ]
  },
  {
   "cell_type": "code",
   "execution_count": 27,
   "id": "af5ee5a4-5762-4af4-80d9-275a080011fc",
   "metadata": {},
   "outputs": [
    {
     "name": "stdout",
     "output_type": "stream",
     "text": [
      "23.3 µs ± 184 ns per loop (mean ± std. dev. of 7 runs, 10,000 loops each)\n"
     ]
    }
   ],
   "source": [
    "test_body_1(1.0)\n",
    "%timeit test_body_1(1.0)"
   ]
  },
  {
   "cell_type": "code",
   "execution_count": 28,
   "id": "ca493800-af2e-47e8-9011-5697782384f7",
   "metadata": {},
   "outputs": [
    {
     "name": "stdout",
     "output_type": "stream",
     "text": [
      "12 µs ± 59.4 ns per loop (mean ± std. dev. of 7 runs, 100,000 loops each)\n"
     ]
    }
   ],
   "source": [
    "test_body_2(1)\n",
    "%timeit test_body_2(1)"
   ]
  },
  {
   "cell_type": "code",
   "execution_count": null,
   "id": "29f832b6-6f30-4be6-9148-be932ce44e03",
   "metadata": {},
   "outputs": [],
   "source": []
  }
 ],
 "metadata": {
  "kernelspec": {
   "display_name": "Python 3 (ipykernel)",
   "language": "python",
   "name": "python3"
  },
  "language_info": {
   "codemirror_mode": {
    "name": "ipython",
    "version": 3
   },
   "file_extension": ".py",
   "mimetype": "text/x-python",
   "name": "python",
   "nbconvert_exporter": "python",
   "pygments_lexer": "ipython3",
   "version": "3.10.12"
  },
  "vscode": {
   "interpreter": {
    "hash": "295b01d53423e068cbaf4d863176c39060942e8a93c7af67a14cfbcb461e6a22"
   }
  }
 },
 "nbformat": 4,
 "nbformat_minor": 5
}
