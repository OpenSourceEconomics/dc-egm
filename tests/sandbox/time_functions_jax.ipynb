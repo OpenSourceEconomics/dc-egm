{
 "cells": [
  {
   "cell_type": "code",
   "execution_count": 1,
   "id": "35ab80e3",
   "metadata": {},
   "outputs": [],
   "source": [
    "from jax import vmap, jit\n",
    "import pickle\n",
    "import pandas as pd\n",
    "import io\n",
    "import yaml\n",
    "from functools import partial\n",
    "import jax.numpy as jnp"
   ]
  },
  {
   "cell_type": "code",
   "execution_count": 9,
   "id": "0b0e10cc-4ec8-49b9-bc82-b165a0bed712",
   "metadata": {},
   "outputs": [],
   "source": [
    "test_a = jnp.arange(5, dtype=float)"
   ]
  },
  {
   "cell_type": "code",
   "execution_count": 19,
   "id": "a1d11fa7-26b6-47c8-a9a2-3b41e505a984",
   "metadata": {},
   "outputs": [
    {
     "name": "stdout",
     "output_type": "stream",
     "text": [
      "140 µs ± 25.3 µs per loop (mean ± std. dev. of 7 runs, 10,000 loops each)\n"
     ]
    }
   ],
   "source": [
    "jnp.nansum()"
   ]
  },
  {
   "cell_type": "code",
   "execution_count": 7,
   "id": "66daaddc",
   "metadata": {},
   "outputs": [],
   "source": [
    "def squared_num(a):\n",
    "    return a**2\n",
    "\n",
    "\n",
    "def square_and_select(ind, array):\n",
    "    return array[ind] ** 2\n",
    "\n",
    "\n",
    "def ex_ante_select(indices, array_to_select):\n",
    "    selected_array = jnp.take(array_to_select, indices)\n",
    "    return vmap(squared_num, in_axes=(0))(selected_array)\n",
    "\n",
    "\n",
    "def select_on_the_go(indices, array_to_select):\n",
    "    return vmap(square_and_select, in_axes=(0, None))(indices, array_to_select)"
   ]
  },
  {
   "cell_type": "code",
   "execution_count": 3,
   "id": "b70a9d99-9e90-40c4-a5f1-46cfb2a85049",
   "metadata": {},
   "outputs": [
    {
     "name": "stderr",
     "output_type": "stream",
     "text": [
      "No GPU/TPU found, falling back to CPU. (Set TF_CPP_MIN_LOG_LEVEL=0 and rerun for more info.)\n"
     ]
    }
   ],
   "source": [
    "size_ind = 100_000_000\n",
    "to_select_test = jnp.array([2, 4])\n",
    "indices_test = jnp.append(jnp.zeros(size_ind), jnp.ones(size_ind)).astype(int)"
   ]
  },
  {
   "cell_type": "code",
   "execution_count": 8,
   "id": "b371accc-6107-43e9-9771-58363574fabc",
   "metadata": {},
   "outputs": [],
   "source": [
    "jit_exante = jit(ex_ante_select)\n",
    "jit_expost = jit(select_on_the_go)"
   ]
  },
  {
   "cell_type": "code",
   "execution_count": 5,
   "id": "3aa40827-d149-40cc-a7ad-ca2ca6767957",
   "metadata": {},
   "outputs": [
    {
     "name": "stdout",
     "output_type": "stream",
     "text": [
      "154 ms ± 2.34 ms per loop (mean ± std. dev. of 7 runs, 10 loops each)\n"
     ]
    }
   ],
   "source": [
    "jit_exante(indices_test, to_select_test)\n",
    "%timeit jit_exante(indices_test, to_select_test)"
   ]
  },
  {
   "cell_type": "code",
   "execution_count": 9,
   "id": "5657a271-b432-411d-a4bd-6c00c0b97d5e",
   "metadata": {},
   "outputs": [
    {
     "name": "stdout",
     "output_type": "stream",
     "text": [
      "156 ms ± 2.15 ms per loop (mean ± std. dev. of 7 runs, 10 loops each)\n"
     ]
    }
   ],
   "source": [
    "jit_expost(indices_test, to_select_test)\n",
    "%timeit jit_expost(indices_test, to_select_test)"
   ]
  },
  {
   "cell_type": "code",
   "execution_count": null,
   "id": "a9e937e0-61be-43ef-a4c5-53be190f4a58",
   "metadata": {},
   "outputs": [],
   "source": []
  }
 ],
 "metadata": {
  "kernelspec": {
   "display_name": "Python 3 (ipykernel)",
   "language": "python",
   "name": "python3"
  },
  "language_info": {
   "codemirror_mode": {
    "name": "ipython",
    "version": 3
   },
   "file_extension": ".py",
   "mimetype": "text/x-python",
   "name": "python",
   "nbconvert_exporter": "python",
   "pygments_lexer": "ipython3",
   "version": "3.10.12"
  }
 },
 "nbformat": 4,
 "nbformat_minor": 5
}
