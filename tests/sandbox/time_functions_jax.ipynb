{
 "cells": [
  {
   "cell_type": "code",
   "execution_count": 1,
   "id": "35ab80e3",
   "metadata": {},
   "outputs": [],
   "source": [
    "from jax import vmap, jit\n",
    "import pickle\n",
    "import pandas as pd\n",
    "import io\n",
    "import yaml\n",
    "from functools import partial\n",
    "import jax.numpy as jnp"
   ]
  },
  {
   "cell_type": "code",
   "execution_count": 2,
   "id": "66daaddc",
   "metadata": {},
   "outputs": [],
   "source": [
    "def squared_num(a):\n",
    "    return a**2\n",
    "\n",
    "\n",
    "def square_and_select(ind, array):\n",
    "    return array[ind] ** 2\n",
    "\n",
    "\n",
    "def ex_ante_select(indices, array_to_select):\n",
    "    selected_array = jnp.take(array_to_select, indices)\n",
    "    return vmap(squared_num, in_axes=(0))(selected_array)\n",
    "\n",
    "\n",
    "def select_on_the_go(indices, array_to_select):\n",
    "    return vmap(square_and_select, in_axes=(0, None))(indices, array_to_select)\n",
    "\n",
    "\n",
    "def select_dict_with_loop(input_array):\n",
    "    out = {}\n",
    "    for i in range(input_array.shape[0]):\n",
    "        out[i] = jnp.sum(input_array[i, :])\n",
    "    return out\n",
    "\n",
    "\n",
    "def append_array(input_array):\n",
    "    out_array = jnp.array([])\n",
    "    for i in range(input_array.shape[0]):\n",
    "        out_array = jnp.append(out_array, jnp.sum(input_array[i, :]))\n",
    "    return out_array"
   ]
  },
  {
   "cell_type": "code",
   "execution_count": 3,
   "id": "b70a9d99-9e90-40c4-a5f1-46cfb2a85049",
   "metadata": {},
   "outputs": [
    {
     "name": "stderr",
     "output_type": "stream",
     "text": [
      "No GPU/TPU found, falling back to CPU. (Set TF_CPP_MIN_LOG_LEVEL=0 and rerun for more info.)\n"
     ]
    }
   ],
   "source": [
    "size_ind = 100_000_000\n",
    "to_select_test = jnp.array([2, 4])\n",
    "indices_test = jnp.append(jnp.zeros(size_ind), jnp.ones(size_ind)).astype(int)"
   ]
  },
  {
   "cell_type": "code",
   "execution_count": 4,
   "id": "b371accc-6107-43e9-9771-58363574fabc",
   "metadata": {},
   "outputs": [],
   "source": [
    "jit_exante = jit(ex_ante_select)\n",
    "jit_expost = jit(select_on_the_go)"
   ]
  },
  {
   "cell_type": "code",
   "execution_count": 5,
   "id": "3aa40827-d149-40cc-a7ad-ca2ca6767957",
   "metadata": {},
   "outputs": [
    {
     "name": "stdout",
     "output_type": "stream",
     "text": [
      "224 ms ± 10.1 ms per loop (mean ± std. dev. of 7 runs, 1 loop each)\n"
     ]
    }
   ],
   "source": [
    "jit_exante(indices_test, to_select_test)\n",
    "%timeit jit_exante(indices_test, to_select_test)"
   ]
  },
  {
   "cell_type": "code",
   "execution_count": 6,
   "id": "5657a271-b432-411d-a4bd-6c00c0b97d5e",
   "metadata": {},
   "outputs": [
    {
     "name": "stdout",
     "output_type": "stream",
     "text": [
      "221 ms ± 14.3 ms per loop (mean ± std. dev. of 7 runs, 1 loop each)\n"
     ]
    }
   ],
   "source": [
    "jit_expost(indices_test, to_select_test)\n",
    "%timeit jit_expost(indices_test, to_select_test)"
   ]
  },
  {
   "cell_type": "code",
   "execution_count": 7,
   "id": "a9e937e0-61be-43ef-a4c5-53be190f4a58",
   "metadata": {},
   "outputs": [],
   "source": [
    "size_loop = 50\n",
    "size_sum = 10_000\n",
    "multi_dim = jnp.empty((size_loop, size_sum))\n",
    "\n",
    "jit_dict_select = jit(select_dict_with_loop)\n",
    "jit_append = jit(append_array)"
   ]
  },
  {
   "cell_type": "code",
   "execution_count": 8,
   "id": "92833c1e-2d01-46fb-8fc3-69df3ea8739b",
   "metadata": {},
   "outputs": [
    {
     "name": "stdout",
     "output_type": "stream",
     "text": [
      "275 µs ± 4.2 µs per loop (mean ± std. dev. of 7 runs, 1,000 loops each)\n"
     ]
    }
   ],
   "source": [
    "jit_dict_select(multi_dim)\n",
    "%timeit jit_dict_select(multi_dim)"
   ]
  },
  {
   "cell_type": "code",
   "execution_count": 9,
   "id": "bffaa176-b5e8-4f49-9a31-9fffdb3ad2f3",
   "metadata": {},
   "outputs": [
    {
     "name": "stdout",
     "output_type": "stream",
     "text": [
      "215 µs ± 7.21 µs per loop (mean ± std. dev. of 7 runs, 1,000 loops each)\n"
     ]
    }
   ],
   "source": [
    "jit_append(multi_dim)\n",
    "%timeit jit_append(multi_dim)"
   ]
  },
  {
   "cell_type": "code",
   "execution_count": 14,
   "id": "a553c22f-1911-4a84-a330-14d330c29c30",
   "metadata": {},
   "outputs": [
    {
     "data": {
      "text/plain": [
       "Array([[ 0.,  0.,  0., ...,  0.,  0.,  0.],\n",
       "       [ 0.,  0.,  0., ...,  0.,  0.,  0.],\n",
       "       [nan, nan, nan, ..., nan, nan, nan]], dtype=float32)"
      ]
     },
     "execution_count": 14,
     "metadata": {},
     "output_type": "execute_result"
    }
   ],
   "source": [
    "jnp.take(multi_dim, jnp.array([10, 20, -99]), axis=0)"
   ]
  },
  {
   "cell_type": "code",
   "execution_count": null,
   "id": "acb64e6b-9ef5-4537-96d6-f6268b7ffc34",
   "metadata": {},
   "outputs": [],
   "source": []
  }
 ],
 "metadata": {
  "kernelspec": {
   "display_name": "Python 3 (ipykernel)",
   "language": "python",
   "name": "python3"
  },
  "language_info": {
   "codemirror_mode": {
    "name": "ipython",
    "version": 3
   },
   "file_extension": ".py",
   "mimetype": "text/x-python",
   "name": "python",
   "nbconvert_exporter": "python",
   "pygments_lexer": "ipython3",
   "version": "3.10.12"
  }
 },
 "nbformat": 4,
 "nbformat_minor": 5
}
