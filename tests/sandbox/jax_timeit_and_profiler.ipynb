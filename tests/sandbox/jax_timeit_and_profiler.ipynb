{
 "cells": [
  {
   "cell_type": "code",
   "execution_count": 1,
   "id": "89246243",
   "metadata": {},
   "outputs": [],
   "source": [
    "%load_ext autoreload\n",
    "\n",
    "%autoreload 2\n",
    "\n",
    "import jax\n",
    "import jax.numpy as jnp\n",
    "from jax import vmap, jit\n",
    "from jax import profiler\n",
    "import os\n",
    "from dcegm.solve import solve_dcegm, get_solve_function\n",
    "from functools import partial\n",
    "from dcegm.fast_upper_envelope import fast_upper_envelope, fast_upper_envelope_wrapper\n",
    "import pandas as pd\n",
    "import yaml\n",
    "from dcegm.pre_processing import convert_params_to_dict, get_partial_functions\n",
    "import numpy as np\n",
    "\n",
    "\n",
    "TEST_RESOURCES_DIR = \"../resources/\""
   ]
  },
  {
   "cell_type": "markdown",
   "id": "d0f256d7",
   "metadata": {},
   "source": [
    "## Import toy model\n"
   ]
  },
  {
   "cell_type": "code",
   "execution_count": 6,
   "id": "86a3197a",
   "metadata": {},
   "outputs": [],
   "source": [
    "from toy_models.consumption_retirement_model.budget_functions import budget_constraint\n",
    "from toy_models.consumption_retirement_model.exogenous_processes import (\n",
    "    get_transition_matrix_by_state,\n",
    ")\n",
    "from toy_models.consumption_retirement_model.final_period_solution import (\n",
    "    solve_final_period_scalar,\n",
    ")\n",
    "from toy_models.consumption_retirement_model.state_space_objects import (\n",
    "    create_state_space,\n",
    ")\n",
    "from toy_models.consumption_retirement_model.state_space_objects import (\n",
    "    get_state_specific_feasible_choice_set,\n",
    ")\n",
    "from toy_models.consumption_retirement_model.utility_functions import (\n",
    "    inverse_marginal_utility_crra,\n",
    ")\n",
    "from toy_models.consumption_retirement_model.utility_functions import (\n",
    "    marginal_utility_crra,\n",
    ")\n",
    "from toy_models.consumption_retirement_model.utility_functions import (\n",
    "    utiility_func_log_crra,\n",
    ")\n",
    "from toy_models.consumption_retirement_model.utility_functions import utility_func_crra"
   ]
  },
  {
   "cell_type": "code",
   "execution_count": 2,
   "id": "6b1cbdc3",
   "metadata": {},
   "outputs": [
    {
     "name": "stderr",
     "output_type": "stream",
     "text": [
      "No GPU/TPU found, falling back to CPU. (Set TF_CPP_MIN_LOG_LEVEL=0 and rerun for more info.)\n"
     ]
    }
   ],
   "source": [
    "model = \"retirement_taste_shocks\"\n",
    "\n",
    "params = pd.read_csv(\n",
    "    TEST_RESOURCES_DIR + f\"{model}.csv\", index_col=[\"category\", \"name\"]\n",
    ")\n",
    "options = yaml.safe_load(open(TEST_RESOURCES_DIR + f\"{model}.yaml\", \"rb\"))\n",
    "options[\"n_exog_states\"] = 1\n",
    "# options[\"n_periods\"] = 3\n",
    "exog_savings_grid = jnp.linspace(0, options[\"max_wealth\"], options[\"n_grid_points\"])"
   ]
  },
  {
   "cell_type": "code",
   "execution_count": 7,
   "id": "5e3093a4",
   "metadata": {},
   "outputs": [],
   "source": [
    "utility_functions = {\n",
    "    \"utility\": utility_func_crra,\n",
    "    \"inverse_marginal_utility\": inverse_marginal_utility_crra,\n",
    "    \"marginal_utility\": marginal_utility_crra,\n",
    "}"
   ]
  },
  {
   "cell_type": "markdown",
   "id": "27f4ad49",
   "metadata": {},
   "source": [
    "## Timeit overall solve"
   ]
  },
  {
   "cell_type": "code",
   "execution_count": 8,
   "id": "20596a54",
   "metadata": {},
   "outputs": [],
   "source": [
    "state_space_functions = {\n",
    "    \"create_state_space\": create_state_space,\n",
    "    \"get_state_specific_choice_set\": get_state_specific_feasible_choice_set,\n",
    "}"
   ]
  },
  {
   "cell_type": "code",
   "execution_count": 12,
   "id": "ed23333a",
   "metadata": {},
   "outputs": [],
   "source": [
    "backwards_jit = get_solve_function(\n",
    "    options=options,\n",
    "    exog_savings_grid=exog_savings_grid,\n",
    "    utility_functions=utility_functions,\n",
    "    budget_constraint=budget_constraint,\n",
    "    final_period_solution=solve_final_period_scalar,\n",
    "    state_space_functions=state_space_functions,\n",
    "    transition_function=get_transition_matrix_by_state,\n",
    ")"
   ]
  },
  {
   "cell_type": "code",
   "execution_count": 13,
   "id": "d426911d",
   "metadata": {},
   "outputs": [
    {
     "name": "stdout",
     "output_type": "stream",
     "text": [
      "98.3 ms ± 1.88 ms per loop (mean ± std. dev. of 7 runs, 10 loops each)\n"
     ]
    }
   ],
   "source": [
    "# https://github.com/google/jax/discussions/11169\n",
    "\n",
    "jax.block_until_ready(backwards_jit(params))\n",
    "%timeit jax.block_until_ready(backwards_jit(params))"
   ]
  },
  {
   "cell_type": "markdown",
   "id": "d5dc006a",
   "metadata": {},
   "source": [
    "## Timeit upper envelope"
   ]
  },
  {
   "cell_type": "code",
   "execution_count": 10,
   "id": "246489e0",
   "metadata": {},
   "outputs": [],
   "source": [
    "policy_egm = jnp.array(\n",
    "    np.genfromtxt(TEST_RESOURCES_DIR + \"period_tests/pol10.csv\", delimiter=\",\")\n",
    ")\n",
    "value_egm = jnp.array(\n",
    "    np.genfromtxt(TEST_RESOURCES_DIR + \"period_tests/val10.csv\", delimiter=\",\")\n",
    ")\n",
    "params_dict = convert_params_to_dict(params)"
   ]
  },
  {
   "cell_type": "code",
   "execution_count": 11,
   "id": "b0a71a55",
   "metadata": {},
   "outputs": [],
   "source": [
    "# test_upp_env = jit(partial(fast_upper_envelope_wrapper, choice=1, params=params_dict, compute_value=compute_value))\n",
    "test_upp_env = jit(partial(fast_upper_envelope, num_iter=int(value_egm.shape[1])))"
   ]
  },
  {
   "cell_type": "code",
   "execution_count": 12,
   "id": "9e675bb0",
   "metadata": {},
   "outputs": [
    {
     "name": "stdout",
     "output_type": "stream",
     "text": [
      "3.97 ms ± 42 µs per loop (mean ± std. dev. of 7 runs, 100 loops each)\n"
     ]
    }
   ],
   "source": [
    "jax.block_until_ready(\n",
    "    test_upp_env(\n",
    "        endog_grid=policy_egm[0, 1:],\n",
    "        value=value_egm[1, 1:],\n",
    "        policy=policy_egm[1, 1:],\n",
    "        expected_value_zero_savings=value_egm[1, 0],\n",
    "    )\n",
    ")\n",
    "\n",
    "%timeit jax.block_until_ready(test_upp_env(endog_grid=policy_egm[0, 1:], value=value_egm[1, 1:], policy=policy_egm[1, 1:], expected_value_zero_savings=value_egm[1, 0]))"
   ]
  },
  {
   "cell_type": "code",
   "execution_count": null,
   "id": "4b27708c",
   "metadata": {},
   "outputs": [],
   "source": []
  },
  {
   "cell_type": "markdown",
   "id": "a09570f9",
   "metadata": {},
   "source": [
    "# Profiling"
   ]
  },
  {
   "cell_type": "markdown",
   "id": "d87eb26c",
   "metadata": {},
   "source": [
    "## UI Perfetto"
   ]
  },
  {
   "cell_type": "code",
   "execution_count": 19,
   "id": "76cf5732",
   "metadata": {},
   "outputs": [
    {
     "name": "stderr",
     "output_type": "stream",
     "text": [
      "2023-08-23 22:49:18.720918: E external/xla/xla/python/profiler/internal/python_hooks.cc:398] Can't import tensorflow.python.profiler.trace\n",
      "2023-08-23 22:49:18.748406: E external/xla/xla/python/profiler/internal/python_hooks.cc:398] Can't import tensorflow.python.profiler.trace\n"
     ]
    },
    {
     "name": "stdout",
     "output_type": "stream",
     "text": [
      "Open URL in browser: https://ui.perfetto.dev/#!/?url=http://127.0.0.1:9001/perfetto_trace.json.gz\n"
     ]
    },
    {
     "name": "stderr",
     "output_type": "stream",
     "text": [
      "127.0.0.1 - - [23/Aug/2023 22:49:27] code 404, message File not found\n",
      "127.0.0.1 - - [23/Aug/2023 22:49:27] \"POST /status HTTP/1.1\" 404 -\n",
      "127.0.0.1 - - [23/Aug/2023 22:49:28] \"GET /perfetto_trace.json.gz HTTP/1.1\" 200 -\n"
     ]
    }
   ],
   "source": [
    "with jax.profiler.trace(\"/tmp/jax-trace\", create_perfetto_link=True):\n",
    "    # Run the operations to be profiled\n",
    "    jax.block_until_ready(\n",
    "        test_upp_env(\n",
    "            endog_grid=policy_egm[0, 1:],\n",
    "            value=value_egm[1, 1:],\n",
    "            policy=policy_egm[1, 1:],\n",
    "            expected_value_zero_savings=value_egm[1, 0],\n",
    "        )\n",
    "    )"
   ]
  },
  {
   "cell_type": "code",
   "execution_count": null,
   "id": "93223adb",
   "metadata": {},
   "outputs": [],
   "source": []
  },
  {
   "cell_type": "markdown",
   "id": "5c9f66e7",
   "metadata": {},
   "source": [
    "## Timing of jax.lax.scan"
   ]
  },
  {
   "cell_type": "code",
   "execution_count": 20,
   "id": "817bd406",
   "metadata": {},
   "outputs": [],
   "source": [
    "def body_1(carry, _it_step):\n",
    "    new_carry = carry + 1.5\n",
    "    return new_carry, new_carry\n",
    "\n",
    "\n",
    "def body_2(carry, _it_step):\n",
    "    new_carry = carry + 1\n",
    "    return new_carry, new_carry\n",
    "\n",
    "\n",
    "test_body_1 = jit(lambda start: jax.lax.scan(body_1, start, xs=None, length=5000))\n",
    "test_body_2 = jit(lambda start: jax.lax.scan(body_2, start, xs=None, length=5000))"
   ]
  },
  {
   "cell_type": "code",
   "execution_count": 21,
   "id": "84bd8fd0",
   "metadata": {},
   "outputs": [
    {
     "name": "stdout",
     "output_type": "stream",
     "text": [
      "38.9 µs ± 54.1 ns per loop (mean ± std. dev. of 7 runs, 10,000 loops each)\n"
     ]
    }
   ],
   "source": [
    "test_body_1(1.0)\n",
    "%timeit test_body_1(1.0)"
   ]
  },
  {
   "cell_type": "code",
   "execution_count": 22,
   "id": "393cb63b",
   "metadata": {},
   "outputs": [
    {
     "name": "stdout",
     "output_type": "stream",
     "text": [
      "20 µs ± 29 ns per loop (mean ± std. dev. of 7 runs, 10,000 loops each)\n"
     ]
    }
   ],
   "source": [
    "test_body_2(1)\n",
    "%timeit test_body_2(1)"
   ]
  },
  {
   "cell_type": "code",
   "execution_count": null,
   "id": "b5e7c996-5e0a-4e52-82bd-cec5ad171276",
   "metadata": {},
   "outputs": [],
   "source": []
  }
 ],
 "metadata": {
  "kernelspec": {
   "display_name": "Python 3 (ipykernel)",
   "language": "python",
   "name": "python3"
  },
  "language_info": {
   "codemirror_mode": {
    "name": "ipython",
    "version": 3
   },
   "file_extension": ".py",
   "mimetype": "text/x-python",
   "name": "python",
   "nbconvert_exporter": "python",
   "pygments_lexer": "ipython3",
   "version": "3.10.12"
  }
 },
 "nbformat": 4,
 "nbformat_minor": 5
}
