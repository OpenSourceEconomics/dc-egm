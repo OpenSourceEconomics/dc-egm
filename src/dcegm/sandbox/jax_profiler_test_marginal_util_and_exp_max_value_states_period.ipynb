{
 "cells": [
  {
   "cell_type": "markdown",
   "id": "ff91849b",
   "metadata": {},
   "source": [
    "# Jax profiler test: marginal_util_and_exp_max_value_states_period"
   ]
  },
  {
   "cell_type": "code",
   "execution_count": 56,
   "id": "366f5bd8",
   "metadata": {},
   "outputs": [],
   "source": [
    "import io\n",
    "import pickle\n",
    "from typing import Dict, List\n",
    "\n",
    "import matplotlib.pyplot as plt\n",
    "import numpy as np\n",
    "import pandas as pd\n",
    "import yaml\n",
    "#from toy_models.consumption_retirement_model import (compute_expected_value, compute_next_period_marginal_utility,inverse_marginal_utility_crra, utility_func_crra)\n",
    "from toy_models.consumption_retirement_model.utility_functions import utility_func_crra, marginal_utility_crra, inverse_marginal_utility_crra\n",
    "from toy_models.consumption_retirement_model.budget_functions import budget_constraint\n",
    "from toy_models.consumption_retirement_model.exogenous_processes import get_transition_matrix_by_state\n",
    "from dcegm.pre_processing import get_partial_functions, params_todict\n",
    "from dcegm.marg_utilities_and_exp_value import marginal_util_and_exp_max_value_states_period\n",
    "import jax\n",
    "import jax.numpy as jnp\n",
    "from jax import profiler\n",
    "import os\n",
    "from dcegm.solve import solve_dcegm"
   ]
  },
  {
   "cell_type": "markdown",
   "id": "3ceeaf37",
   "metadata": {},
   "source": [
    "## Specify *utility functions*, *params* and *options*"
   ]
  },
  {
   "cell_type": "code",
   "execution_count": 57,
   "id": "2938c3b8",
   "metadata": {},
   "outputs": [],
   "source": [
    "utility_functions = {\n",
    "    \"utility\": utility_func_crra,\n",
    "    \"inverse_marginal_utility\": inverse_marginal_utility_crra,\n",
    "    \"marginal_utility\": marginal_utility_crra,\n",
    "}"
   ]
  },
  {
   "cell_type": "code",
   "execution_count": 58,
   "id": "84209331",
   "metadata": {},
   "outputs": [],
   "source": [
    "params = \"\"\"category,name,value,comment\n",
    "beta,beta,0.95,discount factor\n",
    "delta,delta,0,disutility of work\n",
    "utility_function,theta,1,CRRA coefficient\n",
    "wage,constant,0.75,age-independent labor income\n",
    "wage,exp,0.04,return to experience\n",
    "wage,exp_squared,-0.0004,return to experience squared\n",
    "shocks,sigma,0.25,shock on labor income sigma parameter/standard deviation\n",
    "shocks,lambda,2.220400e-16,taste shock (scale) parameter\n",
    "assets,interest_rate,0.05,interest rate on capital\n",
    "assets,initial_wealth_low,0,lowest level of initial wealth (relevant for simulation)\n",
    "assets,initial_wealth_high,30,highest level of initial wealth (relevant for simulation)\n",
    "assets,max_wealth,75,maximum level of wealth\n",
    "assets,consumption_floor,0.0,consumption floor/retirement safety net (only relevant in the dc-egm retirement model)\n",
    "\"\"\""
   ]
  },
  {
   "cell_type": "code",
   "execution_count": 59,
   "id": "ec3d1e83",
   "metadata": {},
   "outputs": [
    {
     "data": {
      "text/html": [
       "<div>\n",
       "<style scoped>\n",
       "    .dataframe tbody tr th:only-of-type {\n",
       "        vertical-align: middle;\n",
       "    }\n",
       "\n",
       "    .dataframe tbody tr th {\n",
       "        vertical-align: top;\n",
       "    }\n",
       "\n",
       "    .dataframe thead th {\n",
       "        text-align: right;\n",
       "    }\n",
       "</style>\n",
       "<table border=\"1\" class=\"dataframe\">\n",
       "  <thead>\n",
       "    <tr style=\"text-align: right;\">\n",
       "      <th></th>\n",
       "      <th></th>\n",
       "      <th>value</th>\n",
       "      <th>comment</th>\n",
       "    </tr>\n",
       "    <tr>\n",
       "      <th>category</th>\n",
       "      <th>name</th>\n",
       "      <th></th>\n",
       "      <th></th>\n",
       "    </tr>\n",
       "  </thead>\n",
       "  <tbody>\n",
       "    <tr>\n",
       "      <th>beta</th>\n",
       "      <th>beta</th>\n",
       "      <td>9.500000e-01</td>\n",
       "      <td>discount factor</td>\n",
       "    </tr>\n",
       "    <tr>\n",
       "      <th>delta</th>\n",
       "      <th>delta</th>\n",
       "      <td>0.000000e+00</td>\n",
       "      <td>disutility of work</td>\n",
       "    </tr>\n",
       "    <tr>\n",
       "      <th>utility_function</th>\n",
       "      <th>theta</th>\n",
       "      <td>1.000000e+00</td>\n",
       "      <td>CRRA coefficient</td>\n",
       "    </tr>\n",
       "    <tr>\n",
       "      <th rowspan=\"3\" valign=\"top\">wage</th>\n",
       "      <th>constant</th>\n",
       "      <td>7.500000e-01</td>\n",
       "      <td>age-independent labor income</td>\n",
       "    </tr>\n",
       "    <tr>\n",
       "      <th>exp</th>\n",
       "      <td>4.000000e-02</td>\n",
       "      <td>return to experience</td>\n",
       "    </tr>\n",
       "    <tr>\n",
       "      <th>exp_squared</th>\n",
       "      <td>-4.000000e-04</td>\n",
       "      <td>return to experience squared</td>\n",
       "    </tr>\n",
       "    <tr>\n",
       "      <th rowspan=\"2\" valign=\"top\">shocks</th>\n",
       "      <th>sigma</th>\n",
       "      <td>2.500000e-01</td>\n",
       "      <td>shock on labor income sigma parameter/standard...</td>\n",
       "    </tr>\n",
       "    <tr>\n",
       "      <th>lambda</th>\n",
       "      <td>2.220400e-16</td>\n",
       "      <td>taste shock (scale) parameter</td>\n",
       "    </tr>\n",
       "    <tr>\n",
       "      <th rowspan=\"5\" valign=\"top\">assets</th>\n",
       "      <th>interest_rate</th>\n",
       "      <td>5.000000e-02</td>\n",
       "      <td>interest rate on capital</td>\n",
       "    </tr>\n",
       "    <tr>\n",
       "      <th>initial_wealth_low</th>\n",
       "      <td>0.000000e+00</td>\n",
       "      <td>lowest level of initial wealth (relevant for s...</td>\n",
       "    </tr>\n",
       "    <tr>\n",
       "      <th>initial_wealth_high</th>\n",
       "      <td>3.000000e+01</td>\n",
       "      <td>highest level of initial wealth (relevant for ...</td>\n",
       "    </tr>\n",
       "    <tr>\n",
       "      <th>max_wealth</th>\n",
       "      <td>7.500000e+01</td>\n",
       "      <td>maximum level of wealth</td>\n",
       "    </tr>\n",
       "    <tr>\n",
       "      <th>consumption_floor</th>\n",
       "      <td>0.000000e+00</td>\n",
       "      <td>consumption floor/retirement safety net (only ...</td>\n",
       "    </tr>\n",
       "  </tbody>\n",
       "</table>\n",
       "</div>"
      ],
      "text/plain": [
       "                                             value  \\\n",
       "category         name                                \n",
       "beta             beta                 9.500000e-01   \n",
       "delta            delta                0.000000e+00   \n",
       "utility_function theta                1.000000e+00   \n",
       "wage             constant             7.500000e-01   \n",
       "                 exp                  4.000000e-02   \n",
       "                 exp_squared         -4.000000e-04   \n",
       "shocks           sigma                2.500000e-01   \n",
       "                 lambda               2.220400e-16   \n",
       "assets           interest_rate        5.000000e-02   \n",
       "                 initial_wealth_low   0.000000e+00   \n",
       "                 initial_wealth_high  3.000000e+01   \n",
       "                 max_wealth           7.500000e+01   \n",
       "                 consumption_floor    0.000000e+00   \n",
       "\n",
       "                                                                                comment  \n",
       "category         name                                                                    \n",
       "beta             beta                                                   discount factor  \n",
       "delta            delta                                               disutility of work  \n",
       "utility_function theta                                                 CRRA coefficient  \n",
       "wage             constant                                  age-independent labor income  \n",
       "                 exp                                               return to experience  \n",
       "                 exp_squared                               return to experience squared  \n",
       "shocks           sigma                shock on labor income sigma parameter/standard...  \n",
       "                 lambda                                   taste shock (scale) parameter  \n",
       "assets           interest_rate                                 interest rate on capital  \n",
       "                 initial_wealth_low   lowest level of initial wealth (relevant for s...  \n",
       "                 initial_wealth_high  highest level of initial wealth (relevant for ...  \n",
       "                 max_wealth                                     maximum level of wealth  \n",
       "                 consumption_floor    consumption floor/retirement safety net (only ...  "
      ]
     },
     "execution_count": 59,
     "metadata": {},
     "output_type": "execute_result"
    }
   ],
   "source": [
    "params = pd.read_csv(io.StringIO(params), index_col=[\"category\", \"name\"])\n",
    "params"
   ]
  },
  {
   "cell_type": "code",
   "execution_count": 60,
   "id": "656442c9",
   "metadata": {},
   "outputs": [],
   "source": [
    "params_dict = params_todict(params)"
   ]
  },
  {
   "cell_type": "code",
   "execution_count": 61,
   "id": "f9d7910e",
   "metadata": {},
   "outputs": [],
   "source": [
    "options = \"\"\"n_periods: 25\n",
    "min_age: 20\n",
    "n_discrete_choices: 1\n",
    "grid_points_wealth: 100\n",
    "quadrature_points_stochastic: 10\n",
    "n_simulations: 10\n",
    "n_exog_processes: 1\n",
    "\"\"\""
   ]
  },
  {
   "cell_type": "code",
   "execution_count": 62,
   "id": "b4714517",
   "metadata": {},
   "outputs": [
    {
     "data": {
      "text/plain": [
       "{'n_periods': 25,\n",
       " 'min_age': 20,\n",
       " 'n_discrete_choices': 1,\n",
       " 'grid_points_wealth': 100,\n",
       " 'quadrature_points_stochastic': 10,\n",
       " 'n_simulations': 10,\n",
       " 'n_exog_processes': 1}"
      ]
     },
     "execution_count": 62,
     "metadata": {},
     "output_type": "execute_result"
    }
   ],
   "source": [
    "options = yaml.safe_load(options)\n",
    "options"
   ]
  },
  {
   "cell_type": "markdown",
   "id": "0232a89b",
   "metadata": {},
   "source": [
    "## Specify inputs for function **marginal_util_and_exp_max_value_states_period**"
   ]
  },
  {
   "cell_type": "code",
   "execution_count": 63,
   "id": "08812df9",
   "metadata": {},
   "outputs": [],
   "source": [
    "compute_utility,compute_marginal_utility,compute_inverse_marginal_utility, compute_value,compute_next_period_wealth, transition_function = get_partial_functions(params_dict,options,utility_functions,budget_constraint,get_transition_matrix_by_state)"
   ]
  },
  {
   "cell_type": "code",
   "execution_count": 64,
   "id": "8e233167",
   "metadata": {},
   "outputs": [],
   "source": [
    "taste_shock_scale = 2.220400e-16\n",
    "exogenous_savings_grid = pickle.load(open(\"exogenous_savings_grid.pkl\", \"rb\"))\n",
    "income_shock_draws = pickle.load(open(\"income_shock_draws.pkl\", \"rb\"))\n",
    "income_shock_weights = pickle.load(open(\"income_shock_weights.pkl\", \"rb\"))\n",
    "possible_child_states = pickle.load(open(\"possible_child_states.pkl\", \"rb\"))\n",
    "choices_child_states = pickle.load(open(\"choices_child_states.pkl\", \"rb\"))\n",
    "policies_child_states = pickle.load(open(\"policies_child_states.pkl\", \"rb\"))\n",
    "values_child_states = pickle.load(open(\"values_child_states.pkl\", \"rb\"))"
   ]
  },
  {
   "cell_type": "code",
   "execution_count": 65,
   "id": "af71a4b6",
   "metadata": {},
   "outputs": [],
   "source": [
    "marginal_util, max_exp_value = marginal_util_and_exp_max_value_states_period(compute_next_period_wealth,compute_marginal_utility,compute_value,taste_shock_scale,exogenous_savings_grid,income_shock_draws,income_shock_weights,possible_child_states,choices_child_states,policies_child_states,values_child_states)"
   ]
  },
  {
   "cell_type": "code",
   "execution_count": 66,
   "id": "8bf6b6a3",
   "metadata": {},
   "outputs": [],
   "source": [
    "# use jax profiler\n",
    "def profiled_marginal_util_and_exp_max_value_states_period(\n",
    "    compute_next_period_wealth,\n",
    "    compute_marginal_utility,\n",
    "    compute_value,\n",
    "    taste_shock_scale,\n",
    "    exogenous_savings_grid,\n",
    "    income_shock_draws,\n",
    "    income_shock_weights,\n",
    "    possible_child_states,\n",
    "    choices_child_states,\n",
    "    policies_child_states,\n",
    "    values_child_states,\n",
    "):\n",
    "    return profiler.call(marginal_util_and_exp_max_value_states_period, compute_next_period_wealth,compute_marginal_utility,compute_value,taste_shock_scale,exogenous_savings_grid,income_shock_draws,income_shock_weights,possible_child_states,choices_child_states,policies_child_states,values_child_states)"
   ]
  },
  {
   "cell_type": "code",
   "execution_count": 67,
   "id": "5397856d",
   "metadata": {},
   "outputs": [],
   "source": [
    "os.environ['JAX_PROFILE'] = '1'"
   ]
  },
  {
   "cell_type": "code",
   "execution_count": 68,
   "id": "8a758cef",
   "metadata": {},
   "outputs": [
    {
     "ename": "AttributeError",
     "evalue": "module 'jax.profiler' has no attribute 'call'",
     "output_type": "error",
     "traceback": [
      "\u001b[0;31m---------------------------------------------------------------------------\u001b[0m",
      "\u001b[0;31mAttributeError\u001b[0m                            Traceback (most recent call last)",
      "Cell \u001b[0;32mIn [68], line 1\u001b[0m\n\u001b[0;32m----> 1\u001b[0m result \u001b[38;5;241m=\u001b[39m \u001b[43mprofiled_marginal_util_and_exp_max_value_states_period\u001b[49m\u001b[43m(\u001b[49m\n\u001b[1;32m      2\u001b[0m \u001b[43m    \u001b[49m\u001b[43mcompute_next_period_wealth\u001b[49m\u001b[43m,\u001b[49m\n\u001b[1;32m      3\u001b[0m \u001b[43m    \u001b[49m\u001b[43mcompute_marginal_utility\u001b[49m\u001b[43m,\u001b[49m\n\u001b[1;32m      4\u001b[0m \u001b[43m    \u001b[49m\u001b[43mcompute_value\u001b[49m\u001b[43m,\u001b[49m\n\u001b[1;32m      5\u001b[0m \u001b[43m    \u001b[49m\u001b[43mtaste_shock_scale\u001b[49m\u001b[43m,\u001b[49m\n\u001b[1;32m      6\u001b[0m \u001b[43m    \u001b[49m\u001b[43mexogenous_savings_grid\u001b[49m\u001b[43m,\u001b[49m\n\u001b[1;32m      7\u001b[0m \u001b[43m    \u001b[49m\u001b[43mincome_shock_draws\u001b[49m\u001b[43m,\u001b[49m\n\u001b[1;32m      8\u001b[0m \u001b[43m    \u001b[49m\u001b[43mincome_shock_weights\u001b[49m\u001b[43m,\u001b[49m\n\u001b[1;32m      9\u001b[0m \u001b[43m    \u001b[49m\u001b[43mpossible_child_states\u001b[49m\u001b[43m,\u001b[49m\n\u001b[1;32m     10\u001b[0m \u001b[43m    \u001b[49m\u001b[43mchoices_child_states\u001b[49m\u001b[43m,\u001b[49m\n\u001b[1;32m     11\u001b[0m \u001b[43m    \u001b[49m\u001b[43mpolicies_child_states\u001b[49m\u001b[43m,\u001b[49m\n\u001b[1;32m     12\u001b[0m \u001b[43m    \u001b[49m\u001b[43mvalues_child_states\u001b[49m\u001b[43m,\u001b[49m\n\u001b[1;32m     13\u001b[0m \u001b[43m)\u001b[49m\n",
      "Cell \u001b[0;32mIn [66], line 15\u001b[0m, in \u001b[0;36mprofiled_marginal_util_and_exp_max_value_states_period\u001b[0;34m(compute_next_period_wealth, compute_marginal_utility, compute_value, taste_shock_scale, exogenous_savings_grid, income_shock_draws, income_shock_weights, possible_child_states, choices_child_states, policies_child_states, values_child_states)\u001b[0m\n\u001b[1;32m      2\u001b[0m \u001b[38;5;28;01mdef\u001b[39;00m \u001b[38;5;21mprofiled_marginal_util_and_exp_max_value_states_period\u001b[39m(\n\u001b[1;32m      3\u001b[0m     compute_next_period_wealth,\n\u001b[1;32m      4\u001b[0m     compute_marginal_utility,\n\u001b[0;32m   (...)\u001b[0m\n\u001b[1;32m     13\u001b[0m     values_child_states,\n\u001b[1;32m     14\u001b[0m ):\n\u001b[0;32m---> 15\u001b[0m     \u001b[38;5;28;01mreturn\u001b[39;00m \u001b[43mprofiler\u001b[49m\u001b[38;5;241;43m.\u001b[39;49m\u001b[43mcall\u001b[49m(marginal_util_and_exp_max_value_states_period, compute_next_period_wealth,compute_marginal_utility,compute_value,taste_shock_scale,exogenous_savings_grid,income_shock_draws,income_shock_weights,possible_child_states,choices_child_states,policies_child_states,values_child_states)\n",
      "\u001b[0;31mAttributeError\u001b[0m: module 'jax.profiler' has no attribute 'call'"
     ]
    }
   ],
   "source": [
    "result = profiled_marginal_util_and_exp_max_value_states_period(\n",
    "    compute_next_period_wealth,\n",
    "    compute_marginal_utility,\n",
    "    compute_value,\n",
    "    taste_shock_scale,\n",
    "    exogenous_savings_grid,\n",
    "    income_shock_draws,\n",
    "    income_shock_weights,\n",
    "    possible_child_states,\n",
    "    choices_child_states,\n",
    "    policies_child_states,\n",
    "    values_child_states,\n",
    ")"
   ]
  },
  {
   "cell_type": "code",
   "execution_count": 69,
   "id": "5bdfada5",
   "metadata": {},
   "outputs": [
    {
     "ename": "AttributeError",
     "evalue": "module 'jax.profiler' has no attribute 'print_summary'",
     "output_type": "error",
     "traceback": [
      "\u001b[0;31m---------------------------------------------------------------------------\u001b[0m",
      "\u001b[0;31mAttributeError\u001b[0m                            Traceback (most recent call last)",
      "Cell \u001b[0;32mIn [69], line 1\u001b[0m\n\u001b[0;32m----> 1\u001b[0m \u001b[43mprofiler\u001b[49m\u001b[38;5;241;43m.\u001b[39;49m\u001b[43mprint_summary\u001b[49m()\n",
      "\u001b[0;31mAttributeError\u001b[0m: module 'jax.profiler' has no attribute 'print_summary'"
     ]
    }
   ],
   "source": [
    "profiler.print_summary()"
   ]
  },
  {
   "cell_type": "code",
   "execution_count": null,
   "id": "b3ac1688",
   "metadata": {},
   "outputs": [],
   "source": []
  }
 ],
 "metadata": {
  "kernelspec": {
   "display_name": "Python 3 (ipykernel)",
   "language": "python",
   "name": "python3"
  },
  "language_info": {
   "codemirror_mode": {
    "name": "ipython",
    "version": 3
   },
   "file_extension": ".py",
   "mimetype": "text/x-python",
   "name": "python",
   "nbconvert_exporter": "python",
   "pygments_lexer": "ipython3",
   "version": "3.9.15"
  },
  "vscode": {
   "interpreter": {
    "hash": "295b01d53423e068cbaf4d863176c39060942e8a93c7af67a14cfbcb461e6a22"
   }
  }
 },
 "nbformat": 4,
 "nbformat_minor": 5
}
