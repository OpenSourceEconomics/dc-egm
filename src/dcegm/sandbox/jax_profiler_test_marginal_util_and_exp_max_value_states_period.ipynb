{
 "cells": [
  {
   "cell_type": "markdown",
   "id": "ff91849b",
   "metadata": {},
   "source": [
    "# Jax profiler test: marginal_util_and_exp_max_value_states_period"
   ]
  },
  {
   "cell_type": "code",
   "execution_count": 1,
   "id": "366f5bd8",
   "metadata": {},
   "outputs": [],
   "source": [
    "import io\n",
    "import pickle\n",
    "from typing import Dict, List\n",
    "\n",
    "import matplotlib.pyplot as plt\n",
    "import numpy as np\n",
    "import pandas as pd\n",
    "import yaml\n",
    "#from toy_models.consumption_retirement_model import (compute_expected_value, compute_next_period_marginal_utility,inverse_marginal_utility_crra, utility_func_crra)\n",
    "from toy_models.consumption_retirement_model.utility_functions import utility_func_crra, marginal_utility_crra, inverse_marginal_utility_crra\n",
    "from toy_models.consumption_retirement_model.budget_functions import budget_constraint\n",
    "from toy_models.consumption_retirement_model.exogenous_processes import get_transition_matrix_by_state\n",
    "from dcegm.pre_processing import get_partial_functions, params_todict\n",
    "from dcegm.marg_utilities_and_exp_value import marginal_util_and_exp_max_value_states_period\n",
    "import jax\n",
    "import jax.numpy as jnp\n",
    "from jax import profiler\n",
    "import os\n",
    "from dcegm.solve import solve_dcegm"
   ]
  },
  {
   "cell_type": "markdown",
   "id": "3ceeaf37",
   "metadata": {},
   "source": [
    "## Specify *utility functions*, *params* and *options*"
   ]
  },
  {
   "cell_type": "code",
   "execution_count": 2,
   "id": "2938c3b8",
   "metadata": {},
   "outputs": [],
   "source": [
    "utility_functions = {\n",
    "    \"utility\": utility_func_crra,\n",
    "    \"inverse_marginal_utility\": inverse_marginal_utility_crra,\n",
    "    \"marginal_utility\": marginal_utility_crra,\n",
    "}"
   ]
  },
  {
   "cell_type": "code",
   "execution_count": 3,
   "id": "84209331",
   "metadata": {},
   "outputs": [],
   "source": [
    "params = \"\"\"category,name,value,comment\n",
    "beta,beta,0.95,discount factor\n",
    "delta,delta,0,disutility of work\n",
    "utility_function,theta,1,CRRA coefficient\n",
    "wage,constant,0.75,age-independent labor income\n",
    "wage,exp,0.04,return to experience\n",
    "wage,exp_squared,-0.0004,return to experience squared\n",
    "shocks,sigma,0.25,shock on labor income sigma parameter/standard deviation\n",
    "shocks,lambda,2.220400e-16,taste shock (scale) parameter\n",
    "assets,interest_rate,0.05,interest rate on capital\n",
    "assets,initial_wealth_low,0,lowest level of initial wealth (relevant for simulation)\n",
    "assets,initial_wealth_high,30,highest level of initial wealth (relevant for simulation)\n",
    "assets,max_wealth,75,maximum level of wealth\n",
    "assets,consumption_floor,0.0,consumption floor/retirement safety net (only relevant in the dc-egm retirement model)\n",
    "\"\"\""
   ]
  },
  {
   "cell_type": "code",
   "execution_count": 4,
   "id": "ec3d1e83",
   "metadata": {},
   "outputs": [
    {
     "data": {
      "text/html": [
       "<div>\n",
       "<style scoped>\n",
       "    .dataframe tbody tr th:only-of-type {\n",
       "        vertical-align: middle;\n",
       "    }\n",
       "\n",
       "    .dataframe tbody tr th {\n",
       "        vertical-align: top;\n",
       "    }\n",
       "\n",
       "    .dataframe thead th {\n",
       "        text-align: right;\n",
       "    }\n",
       "</style>\n",
       "<table border=\"1\" class=\"dataframe\">\n",
       "  <thead>\n",
       "    <tr style=\"text-align: right;\">\n",
       "      <th></th>\n",
       "      <th></th>\n",
       "      <th>value</th>\n",
       "      <th>comment</th>\n",
       "    </tr>\n",
       "    <tr>\n",
       "      <th>category</th>\n",
       "      <th>name</th>\n",
       "      <th></th>\n",
       "      <th></th>\n",
       "    </tr>\n",
       "  </thead>\n",
       "  <tbody>\n",
       "    <tr>\n",
       "      <th>beta</th>\n",
       "      <th>beta</th>\n",
       "      <td>9.500000e-01</td>\n",
       "      <td>discount factor</td>\n",
       "    </tr>\n",
       "    <tr>\n",
       "      <th>delta</th>\n",
       "      <th>delta</th>\n",
       "      <td>0.000000e+00</td>\n",
       "      <td>disutility of work</td>\n",
       "    </tr>\n",
       "    <tr>\n",
       "      <th>utility_function</th>\n",
       "      <th>theta</th>\n",
       "      <td>1.000000e+00</td>\n",
       "      <td>CRRA coefficient</td>\n",
       "    </tr>\n",
       "    <tr>\n",
       "      <th rowspan=\"3\" valign=\"top\">wage</th>\n",
       "      <th>constant</th>\n",
       "      <td>7.500000e-01</td>\n",
       "      <td>age-independent labor income</td>\n",
       "    </tr>\n",
       "    <tr>\n",
       "      <th>exp</th>\n",
       "      <td>4.000000e-02</td>\n",
       "      <td>return to experience</td>\n",
       "    </tr>\n",
       "    <tr>\n",
       "      <th>exp_squared</th>\n",
       "      <td>-4.000000e-04</td>\n",
       "      <td>return to experience squared</td>\n",
       "    </tr>\n",
       "    <tr>\n",
       "      <th rowspan=\"2\" valign=\"top\">shocks</th>\n",
       "      <th>sigma</th>\n",
       "      <td>2.500000e-01</td>\n",
       "      <td>shock on labor income sigma parameter/standard...</td>\n",
       "    </tr>\n",
       "    <tr>\n",
       "      <th>lambda</th>\n",
       "      <td>2.220400e-16</td>\n",
       "      <td>taste shock (scale) parameter</td>\n",
       "    </tr>\n",
       "    <tr>\n",
       "      <th rowspan=\"5\" valign=\"top\">assets</th>\n",
       "      <th>interest_rate</th>\n",
       "      <td>5.000000e-02</td>\n",
       "      <td>interest rate on capital</td>\n",
       "    </tr>\n",
       "    <tr>\n",
       "      <th>initial_wealth_low</th>\n",
       "      <td>0.000000e+00</td>\n",
       "      <td>lowest level of initial wealth (relevant for s...</td>\n",
       "    </tr>\n",
       "    <tr>\n",
       "      <th>initial_wealth_high</th>\n",
       "      <td>3.000000e+01</td>\n",
       "      <td>highest level of initial wealth (relevant for ...</td>\n",
       "    </tr>\n",
       "    <tr>\n",
       "      <th>max_wealth</th>\n",
       "      <td>7.500000e+01</td>\n",
       "      <td>maximum level of wealth</td>\n",
       "    </tr>\n",
       "    <tr>\n",
       "      <th>consumption_floor</th>\n",
       "      <td>0.000000e+00</td>\n",
       "      <td>consumption floor/retirement safety net (only ...</td>\n",
       "    </tr>\n",
       "  </tbody>\n",
       "</table>\n",
       "</div>"
      ],
      "text/plain": [
       "                                             value  \\\n",
       "category         name                                \n",
       "beta             beta                 9.500000e-01   \n",
       "delta            delta                0.000000e+00   \n",
       "utility_function theta                1.000000e+00   \n",
       "wage             constant             7.500000e-01   \n",
       "                 exp                  4.000000e-02   \n",
       "                 exp_squared         -4.000000e-04   \n",
       "shocks           sigma                2.500000e-01   \n",
       "                 lambda               2.220400e-16   \n",
       "assets           interest_rate        5.000000e-02   \n",
       "                 initial_wealth_low   0.000000e+00   \n",
       "                 initial_wealth_high  3.000000e+01   \n",
       "                 max_wealth           7.500000e+01   \n",
       "                 consumption_floor    0.000000e+00   \n",
       "\n",
       "                                                                                comment  \n",
       "category         name                                                                    \n",
       "beta             beta                                                   discount factor  \n",
       "delta            delta                                               disutility of work  \n",
       "utility_function theta                                                 CRRA coefficient  \n",
       "wage             constant                                  age-independent labor income  \n",
       "                 exp                                               return to experience  \n",
       "                 exp_squared                               return to experience squared  \n",
       "shocks           sigma                shock on labor income sigma parameter/standard...  \n",
       "                 lambda                                   taste shock (scale) parameter  \n",
       "assets           interest_rate                                 interest rate on capital  \n",
       "                 initial_wealth_low   lowest level of initial wealth (relevant for s...  \n",
       "                 initial_wealth_high  highest level of initial wealth (relevant for ...  \n",
       "                 max_wealth                                     maximum level of wealth  \n",
       "                 consumption_floor    consumption floor/retirement safety net (only ...  "
      ]
     },
     "execution_count": 4,
     "metadata": {},
     "output_type": "execute_result"
    }
   ],
   "source": [
    "params = pd.read_csv(io.StringIO(params), index_col=[\"category\", \"name\"])\n",
    "params"
   ]
  },
  {
   "cell_type": "code",
   "execution_count": 5,
   "id": "656442c9",
   "metadata": {},
   "outputs": [],
   "source": [
    "params_dict = params_todict(params)"
   ]
  },
  {
   "cell_type": "code",
   "execution_count": 6,
   "id": "f9d7910e",
   "metadata": {},
   "outputs": [],
   "source": [
    "options = \"\"\"n_periods: 25\n",
    "min_age: 20\n",
    "n_discrete_choices: 1\n",
    "grid_points_wealth: 100\n",
    "quadrature_points_stochastic: 10\n",
    "n_simulations: 10\n",
    "n_exog_processes: 1\n",
    "\"\"\""
   ]
  },
  {
   "cell_type": "code",
   "execution_count": 7,
   "id": "b4714517",
   "metadata": {},
   "outputs": [
    {
     "data": {
      "text/plain": [
       "{'n_periods': 25,\n",
       " 'min_age': 20,\n",
       " 'n_discrete_choices': 1,\n",
       " 'grid_points_wealth': 100,\n",
       " 'quadrature_points_stochastic': 10,\n",
       " 'n_simulations': 10,\n",
       " 'n_exog_processes': 1}"
      ]
     },
     "execution_count": 7,
     "metadata": {},
     "output_type": "execute_result"
    }
   ],
   "source": [
    "options = yaml.safe_load(options)\n",
    "options"
   ]
  },
  {
   "cell_type": "markdown",
   "id": "0232a89b",
   "metadata": {},
   "source": [
    "## Specify inputs for function **marginal_util_and_exp_max_value_states_period**"
   ]
  },
  {
   "cell_type": "code",
   "execution_count": 8,
   "id": "08812df9",
   "metadata": {},
   "outputs": [],
   "source": [
    "(\n",
    "    compute_utility,\n",
    "    compute_marginal_utility,\n",
    "    compute_inverse_marginal_utility,\n",
    "    compute_value,\n",
    "    compute_next_period_wealth,\n",
    "    transition_function,\n",
    ") = get_partial_functions(\n",
    "    params_dict,\n",
    "    options,\n",
    "    utility_functions,\n",
    "    budget_constraint,\n",
    "    get_transition_matrix_by_state,\n",
    ")"
   ]
  },
  {
   "cell_type": "code",
   "execution_count": 9,
   "id": "8e233167",
   "metadata": {},
   "outputs": [],
   "source": [
    "taste_shock_scale = 2.220400e-16\n",
    "exogenous_savings_grid = pickle.load(open(\"profiling_resources/exogenous_savings_grid.pkl\", \"rb\"))\n",
    "income_shock_draws = pickle.load(open(\"profiling_resources/income_shock_draws.pkl\", \"rb\"))\n",
    "income_shock_weights = pickle.load(open(\"profiling_resources/income_shock_weights.pkl\", \"rb\"))\n",
    "possible_child_states = pickle.load(open(\"profiling_resources/possible_child_states.pkl\", \"rb\"))\n",
    "choices_child_states = pickle.load(open(\"profiling_resources/choices_child_states.pkl\", \"rb\"))\n",
    "policies_child_states = pickle.load(open(\"profiling_resources/policies_child_states.pkl\", \"rb\"))\n",
    "values_child_states = pickle.load(open(\"profiling_resources/values_child_states.pkl\", \"rb\"))"
   ]
  },
  {
   "cell_type": "code",
   "execution_count": 10,
   "id": "151212ee",
   "metadata": {},
   "outputs": [
    {
     "name": "stderr",
     "output_type": "stream",
     "text": [
      "No GPU/TPU found, falling back to CPU. (Set TF_CPP_MIN_LOG_LEVEL=0 and rerun for more info.)\n"
     ]
    }
   ],
   "source": [
    "num_states = 5000\n",
    "states_repeated = jnp.repeat(possible_child_states, num_states, axis=0)\n",
    "choices_repeated = jnp.repeat(choices_child_states, num_states, axis=0)\n",
    "policies_repeated = jnp.repeat(policies_child_states, num_states, axis=0)\n",
    "values_repeated = jnp.repeat(values_child_states, num_states, axis=0)"
   ]
  },
  {
   "cell_type": "code",
   "execution_count": 11,
   "id": "34b290a5",
   "metadata": {},
   "outputs": [],
   "source": [
    "num_savings_repeats = 5\n",
    "savings_repeated = jnp.repeat(exogenous_savings_grid, num_savings_repeats, axis=0)"
   ]
  },
  {
   "cell_type": "code",
   "execution_count": 12,
   "id": "af71a4b6",
   "metadata": {},
   "outputs": [
    {
     "name": "stderr",
     "output_type": "stream",
     "text": [
      "2023-02-14 23:37:31.759811: W tensorflow/compiler/xla/stream_executor/platform/default/dso_loader.cc:64] Could not load dynamic library 'libcudart.so.11.0'; dlerror: libcudart.so.11.0: cannot open shared object file: No such file or directory\n",
      "2023-02-14 23:37:32.432385: W tensorflow/compiler/xla/stream_executor/platform/default/dso_loader.cc:64] Could not load dynamic library 'libnvinfer.so.7'; dlerror: libnvinfer.so.7: cannot open shared object file: No such file or directory\n",
      "2023-02-14 23:37:32.432470: W tensorflow/compiler/xla/stream_executor/platform/default/dso_loader.cc:64] Could not load dynamic library 'libnvinfer_plugin.so.7'; dlerror: libnvinfer_plugin.so.7: cannot open shared object file: No such file or directory\n",
      "2023-02-14 23:37:32.432478: W tensorflow/compiler/tf2tensorrt/utils/py_utils.cc:38] TF-TRT Warning: Cannot dlopen some TensorRT libraries. If you would like to use Nvidia GPU with TensorRT, please make sure the missing libraries mentioned above are installed properly.\n"
     ]
    }
   ],
   "source": [
    "with jax.profiler.trace(\"jax-trace\", create_perfetto_link=True):\n",
    "    marginal_util, max_exp_value = marginal_util_and_exp_max_value_states_period(\n",
    "        compute_next_period_wealth,\n",
    "        compute_marginal_utility,\n",
    "        compute_value,\n",
    "        taste_shock_scale,\n",
    "        savings_repeated,\n",
    "        income_shock_draws,\n",
    "        income_shock_weights,\n",
    "        states_repeated,\n",
    "        choices_repeated,\n",
    "        policies_repeated,\n",
    "        values_repeated,\n",
    "    )"
   ]
  },
  {
   "cell_type": "code",
   "execution_count": 12,
   "id": "df1b8348",
   "metadata": {},
   "outputs": [
    {
     "name": "stdout",
     "output_type": "stream",
     "text": [
      "3.23 s ± 186 ms per loop (mean ± std. dev. of 7 runs, 1 loop each)\n"
     ]
    }
   ],
   "source": [
    "%%timeit\n",
    "marginal_util, max_exp_value = marginal_util_and_exp_max_value_states_period(\n",
    "    compute_next_period_wealth,\n",
    "    compute_marginal_utility,\n",
    "    compute_value,\n",
    "    taste_shock_scale,\n",
    "    savings_repeated,\n",
    "    income_shock_draws,\n",
    "    income_shock_weights,\n",
    "    states_repeated,\n",
    "    choices_repeated,\n",
    "    policies_repeated,\n",
    "    values_repeated,\n",
    ")"
   ]
  },
  {
   "cell_type": "code",
   "execution_count": 16,
   "id": "8bf6b6a3",
   "metadata": {},
   "outputs": [],
   "source": [
    "# use jax profiler\n",
    "def profiled_marginal_util_and_exp_max_value_states_period(\n",
    "    compute_next_period_wealth,\n",
    "    compute_marginal_utility,\n",
    "    compute_value,\n",
    "    taste_shock_scale,\n",
    "    exogenous_savings_grid,\n",
    "    income_shock_draws,\n",
    "    income_shock_weights,\n",
    "    possible_child_states,\n",
    "    choices_child_states,\n",
    "    policies_child_states,\n",
    "    values_child_states,\n",
    "):\n",
    "    return profiler.call(\n",
    "        marginal_util_and_exp_max_value_states_period,\n",
    "        compute_next_period_wealth,\n",
    "        compute_marginal_utility,\n",
    "        compute_value,\n",
    "        taste_shock_scale,\n",
    "        exogenous_savings_grid,\n",
    "        income_shock_draws,\n",
    "        income_shock_weights,\n",
    "        possible_child_states,\n",
    "        choices_child_states,\n",
    "        policies_child_states,\n",
    "        values_child_states,\n",
    "    )"
   ]
  }
 ],
 "metadata": {
  "kernelspec": {
   "display_name": "Python 3 (ipykernel)",
   "language": "python",
   "name": "python3"
  },
  "language_info": {
   "codemirror_mode": {
    "name": "ipython",
    "version": 3
   },
   "file_extension": ".py",
   "mimetype": "text/x-python",
   "name": "python",
   "nbconvert_exporter": "python",
   "pygments_lexer": "ipython3",
   "version": "3.10.9"
  },
  "vscode": {
   "interpreter": {
    "hash": "295b01d53423e068cbaf4d863176c39060942e8a93c7af67a14cfbcb461e6a22"
   }
  }
 },
 "nbformat": 4,
 "nbformat_minor": 5
}
