{
 "cells": [
  {
   "cell_type": "markdown",
   "metadata": {},
   "source": [
    "# Jax profiler test: marginal_util_and_exp_max_value_states_period"
   ]
  },
  {
   "cell_type": "code",
   "execution_count": 4,
   "metadata": {},
   "outputs": [
    {
     "ename": "ModuleNotFoundError",
     "evalue": "No module named 'toy_models'",
     "output_type": "error",
     "traceback": [
      "\u001b[0;31m---------------------------------------------------------------------------\u001b[0m",
      "\u001b[0;31mModuleNotFoundError\u001b[0m                       Traceback (most recent call last)",
      "\u001b[0;32m<ipython-input-4-13aad4209414>\u001b[0m in \u001b[0;36m<module>\u001b[0;34m\u001b[0m\n\u001b[1;32m      8\u001b[0m \u001b[0;32mimport\u001b[0m \u001b[0myaml\u001b[0m\u001b[0;34m\u001b[0m\u001b[0;34m\u001b[0m\u001b[0m\n\u001b[1;32m      9\u001b[0m \u001b[0;31m#from toy_models.consumption_retirement_model import (compute_expected_value, compute_next_period_marginal_utility,inverse_marginal_utility_crra, utility_func_crra)\u001b[0m\u001b[0;34m\u001b[0m\u001b[0;34m\u001b[0m\u001b[0;34m\u001b[0m\u001b[0m\n\u001b[0;32m---> 10\u001b[0;31m \u001b[0;32mfrom\u001b[0m \u001b[0mtoy_models\u001b[0m\u001b[0;34m.\u001b[0m\u001b[0mconsumption_retirement_model\u001b[0m\u001b[0;34m.\u001b[0m\u001b[0mutility_functions\u001b[0m \u001b[0;32mimport\u001b[0m \u001b[0mutility_func_crra\u001b[0m\u001b[0;34m,\u001b[0m \u001b[0mmarginal_utility_crra\u001b[0m\u001b[0;34m,\u001b[0m \u001b[0minverse_marginal_utility_crra\u001b[0m\u001b[0;34m\u001b[0m\u001b[0;34m\u001b[0m\u001b[0m\n\u001b[0m\u001b[1;32m     11\u001b[0m \u001b[0;32mfrom\u001b[0m \u001b[0mtoy_models\u001b[0m\u001b[0;34m.\u001b[0m\u001b[0mconsumption_retirement_model\u001b[0m\u001b[0;34m.\u001b[0m\u001b[0mbudget_functions\u001b[0m \u001b[0;32mimport\u001b[0m \u001b[0mbudget_constraint\u001b[0m\u001b[0;34m\u001b[0m\u001b[0;34m\u001b[0m\u001b[0m\n\u001b[1;32m     12\u001b[0m \u001b[0;32mfrom\u001b[0m \u001b[0mtoy_models\u001b[0m\u001b[0;34m.\u001b[0m\u001b[0mconsumption_retirement_model\u001b[0m\u001b[0;34m.\u001b[0m\u001b[0mexogenous_processes\u001b[0m \u001b[0;32mimport\u001b[0m \u001b[0mget_transition_matrix_by_state\u001b[0m\u001b[0;34m\u001b[0m\u001b[0;34m\u001b[0m\u001b[0m\n",
      "\u001b[0;31mModuleNotFoundError\u001b[0m: No module named 'toy_models'"
     ]
    }
   ],
   "source": [
    "import io\n",
    "import pickle\n",
    "from typing import Dict, List\n",
    "\n",
    "import matplotlib.pyplot as plt\n",
    "import numpy as np\n",
    "import pandas as pd\n",
    "import yaml\n",
    "#from toy_models.consumption_retirement_model import (compute_expected_value, compute_next_period_marginal_utility,inverse_marginal_utility_crra, utility_func_crra)\n",
    "from toy_models.consumption_retirement_model.utility_functions import utility_func_crra, marginal_utility_crra, inverse_marginal_utility_crra\n",
    "from toy_models.consumption_retirement_model.budget_functions import budget_constraint\n",
    "from toy_models.consumption_retirement_model.exogenous_processes import get_transition_matrix_by_state\n",
    "from dcegm.pre_processing import get_partial_functions, params_todict\n",
    "from dcegm.marg_utilities_and_exp_value import marginal_util_and_exp_max_value_states_period\n",
    "import jax\n",
    "import jax.numpy as jnp\n",
    "from jax import profiler\n",
    "import os\n",
    "from dcegm.solve import solve_dcegm"
   ]
  },
  {
   "cell_type": "markdown",
   "metadata": {},
   "source": [
    "## Specify *utility functions*, *params* and *options*"
   ]
  },
  {
   "cell_type": "code",
   "execution_count": 2,
   "metadata": {},
   "outputs": [],
   "source": [
    "utility_functions = {\n",
    "    \"utility\": utility_func_crra,\n",
    "    \"inverse_marginal_utility\": inverse_marginal_utility_crra,\n",
    "    \"marginal_utility\": marginal_utility_crra,\n",
    "}"
   ]
  },
  {
   "cell_type": "code",
   "execution_count": 2,
   "metadata": {},
   "outputs": [],
   "source": [
    "params = \"\"\"category,name,value,comment\n",
    "beta,beta,0.95,discount factor\n",
    "delta,delta,0,disutility of work\n",
    "utility_function,theta,1,CRRA coefficient\n",
    "wage,constant,0.75,age-independent labor income\n",
    "wage,exp,0.04,return to experience\n",
    "wage,exp_squared,-0.0004,return to experience squared\n",
    "shocks,sigma,0.25,shock on labor income sigma parameter/standard deviation\n",
    "shocks,lambda,2.220400e-16,taste shock (scale) parameter\n",
    "assets,interest_rate,0.05,interest rate on capital\n",
    "assets,initial_wealth_low,0,lowest level of initial wealth (relevant for simulation)\n",
    "assets,initial_wealth_high,30,highest level of initial wealth (relevant for simulation)\n",
    "assets,max_wealth,75,maximum level of wealth\n",
    "assets,consumption_floor,0.0,consumption floor/retirement safety net (only relevant in the dc-egm retirement model)\n",
    "\"\"\""
   ]
  },
  {
   "cell_type": "code",
   "execution_count": 3,
   "metadata": {},
   "outputs": [
    {
     "ename": "NameError",
     "evalue": "name 'pd' is not defined",
     "output_type": "error",
     "traceback": [
      "\u001b[0;31m---------------------------------------------------------------------------\u001b[0m",
      "\u001b[0;31mNameError\u001b[0m                                 Traceback (most recent call last)",
      "\u001b[0;32m<ipython-input-3-e11fea1956b0>\u001b[0m in \u001b[0;36m<module>\u001b[0;34m\u001b[0m\n\u001b[0;32m----> 1\u001b[0;31m \u001b[0mparams\u001b[0m \u001b[0;34m=\u001b[0m \u001b[0mpd\u001b[0m\u001b[0;34m.\u001b[0m\u001b[0mread_csv\u001b[0m\u001b[0;34m(\u001b[0m\u001b[0mio\u001b[0m\u001b[0;34m.\u001b[0m\u001b[0mStringIO\u001b[0m\u001b[0;34m(\u001b[0m\u001b[0mparams\u001b[0m\u001b[0;34m)\u001b[0m\u001b[0;34m,\u001b[0m \u001b[0mindex_col\u001b[0m\u001b[0;34m=\u001b[0m\u001b[0;34m[\u001b[0m\u001b[0;34m\"category\"\u001b[0m\u001b[0;34m,\u001b[0m \u001b[0;34m\"name\"\u001b[0m\u001b[0;34m]\u001b[0m\u001b[0;34m)\u001b[0m\u001b[0;34m\u001b[0m\u001b[0;34m\u001b[0m\u001b[0m\n\u001b[0m\u001b[1;32m      2\u001b[0m \u001b[0mparams\u001b[0m\u001b[0;34m\u001b[0m\u001b[0;34m\u001b[0m\u001b[0m\n",
      "\u001b[0;31mNameError\u001b[0m: name 'pd' is not defined"
     ]
    }
   ],
   "source": [
    "params = pd.read_csv(io.StringIO(params), index_col=[\"category\", \"name\"])\n",
    "params"
   ]
  },
  {
   "cell_type": "code",
   "execution_count": 5,
   "metadata": {},
   "outputs": [],
   "source": [
    "params_dict = params_todict(params)"
   ]
  },
  {
   "cell_type": "code",
   "execution_count": 6,
   "metadata": {},
   "outputs": [],
   "source": [
    "options = \"\"\"n_periods: 25\n",
    "min_age: 20\n",
    "n_discrete_choices: 1\n",
    "grid_points_wealth: 100\n",
    "quadrature_points_stochastic: 10\n",
    "n_simulations: 10\n",
    "n_exog_processes: 1\n",
    "\"\"\""
   ]
  },
  {
   "cell_type": "code",
   "execution_count": 7,
   "metadata": {},
   "outputs": [
    {
     "data": {
      "text/plain": [
       "{'n_periods': 25,\n",
       " 'min_age': 20,\n",
       " 'n_discrete_choices': 1,\n",
       " 'grid_points_wealth': 100,\n",
       " 'quadrature_points_stochastic': 10,\n",
       " 'n_simulations': 10,\n",
       " 'n_exog_processes': 1}"
      ]
     },
     "execution_count": 7,
     "metadata": {},
     "output_type": "execute_result"
    }
   ],
   "source": [
    "options = yaml.safe_load(options)\n",
    "options"
   ]
  },
  {
   "cell_type": "markdown",
   "metadata": {},
   "source": [
    "## Specify inputs for function **marginal_util_and_exp_max_value_states_period**"
   ]
  },
  {
   "cell_type": "code",
   "execution_count": 8,
   "metadata": {},
   "outputs": [],
   "source": [
    "(\n",
    "    compute_utility,\n",
    "    compute_marginal_utility,\n",
    "    compute_inverse_marginal_utility,\n",
    "    compute_value,\n",
    "    compute_next_period_wealth,\n",
    "    transition_function,\n",
    ") = get_partial_functions(\n",
    "    params_dict,\n",
    "    options,\n",
    "    utility_functions,\n",
    "    budget_constraint,\n",
    "    get_transition_matrix_by_state,\n",
    ")"
   ]
  },
  {
   "cell_type": "code",
   "execution_count": 9,
   "metadata": {},
   "outputs": [],
   "source": [
    "taste_shock_scale = 2.220400e-16\n",
    "exogenous_savings_grid = pickle.load(open(\"profiling_resources/exogenous_savings_grid.pkl\", \"rb\"))\n",
    "income_shock_draws = pickle.load(open(\"profiling_resources/income_shock_draws.pkl\", \"rb\"))\n",
    "income_shock_weights = pickle.load(open(\"profiling_resources/income_shock_weights.pkl\", \"rb\"))\n",
    "possible_child_states = pickle.load(open(\"profiling_resources/possible_child_states.pkl\", \"rb\"))\n",
    "choices_child_states = pickle.load(open(\"profiling_resources/choices_child_states.pkl\", \"rb\"))\n",
    "policies_child_states = pickle.load(open(\"profiling_resources/policies_child_states.pkl\", \"rb\"))\n",
    "values_child_states = pickle.load(open(\"profiling_resources/values_child_states.pkl\", \"rb\"))"
   ]
  },
  {
   "cell_type": "code",
   "execution_count": 1,
   "metadata": {},
   "outputs": [
    {
     "ename": "NameError",
     "evalue": "name 'params_dict' is not defined",
     "output_type": "error",
     "traceback": [
      "\u001b[0;31m---------------------------------------------------------------------------\u001b[0m",
      "\u001b[0;31mNameError\u001b[0m                                 Traceback (most recent call last)",
      "\u001b[0;32m<ipython-input-1-6138d14c5258>\u001b[0m in \u001b[0;36m<module>\u001b[0;34m\u001b[0m\n\u001b[0;32m----> 1\u001b[0;31m \u001b[0mparams_dict\u001b[0m\u001b[0;34m(\u001b[0m\u001b[0;34m\"lambda\"\u001b[0m\u001b[0;34m)\u001b[0m\u001b[0;34m\u001b[0m\u001b[0;34m\u001b[0m\u001b[0m\n\u001b[0m",
      "\u001b[0;31mNameError\u001b[0m: name 'params_dict' is not defined"
     ]
    }
   ],
   "source": [
    "params_dict(\"lambda\")"
   ]
  },
  {
   "cell_type": "code",
   "execution_count": null,
   "metadata": {},
   "outputs": [],
   "source": []
  },
  {
   "cell_type": "code",
   "execution_count": 10,
   "metadata": {},
   "outputs": [],
   "source": [
    "num_states = 5000\n",
    "states_repeated = jnp.repeat(possible_child_states, num_states, axis=0)\n",
    "choices_repeated = jnp.repeat(choices_child_states, num_states, axis=0)\n",
    "policies_repeated = jnp.repeat(policies_child_states, num_states, axis=0)\n",
    "values_repeated = jnp.repeat(values_child_states, num_states, axis=0)"
   ]
  },
  {
   "cell_type": "code",
   "execution_count": 11,
   "metadata": {},
   "outputs": [],
   "source": [
    "num_savings_repeats = 5\n",
    "savings_repeated = jnp.repeat(exogenous_savings_grid, num_savings_repeats, axis=0)"
   ]
  },
  {
   "cell_type": "code",
   "execution_count": 14,
   "metadata": {},
   "outputs": [
    {
     "name": "stderr",
     "output_type": "stream",
     "text": [
      "2023-02-15 10:03:28.014761: E external/org_tensorflow/tensorflow/compiler/xla/python/profiler/internal/python_hooks.cc:398] Can't import tensorflow.python.profiler.trace\n",
      "2023-02-15 10:03:34.162133: E external/org_tensorflow/tensorflow/compiler/xla/python/profiler/internal/python_hooks.cc:398] Can't import tensorflow.python.profiler.trace\n"
     ]
    },
    {
     "ename": "ValueError",
     "evalue": "Invalid trace folder: /Users/viktoriakleinschmidt/Desktop/Arbeit/dc-egm/src/dcegm/sandbox/jax-trace/plugins/profile/2023_02_15_10_03_35",
     "output_type": "error",
     "traceback": [
      "\u001b[0;31m---------------------------------------------------------------------------\u001b[0m",
      "\u001b[0;31mValueError\u001b[0m                                Traceback (most recent call last)",
      "Cell \u001b[0;32mIn [14], line 2\u001b[0m\n\u001b[1;32m      1\u001b[0m \u001b[38;5;28;01mwith\u001b[39;00m jax\u001b[38;5;241m.\u001b[39mprofiler\u001b[38;5;241m.\u001b[39mtrace(\u001b[38;5;124m\"\u001b[39m\u001b[38;5;124mjax-trace\u001b[39m\u001b[38;5;124m\"\u001b[39m, create_perfetto_link\u001b[38;5;241m=\u001b[39m\u001b[38;5;28;01mTrue\u001b[39;00m):\n\u001b[0;32m----> 2\u001b[0m     marginal_util, max_exp_value \u001b[38;5;241m=\u001b[39m marginal_util_and_exp_max_value_states_period(\n\u001b[1;32m      3\u001b[0m         compute_next_period_wealth,\n\u001b[1;32m      4\u001b[0m         compute_marginal_utility,\n\u001b[1;32m      5\u001b[0m         compute_value,\n\u001b[1;32m      6\u001b[0m         taste_shock_scale,\n\u001b[1;32m      7\u001b[0m         savings_repeated,\n\u001b[1;32m      8\u001b[0m         income_shock_draws,\n\u001b[1;32m      9\u001b[0m         income_shock_weights,\n\u001b[1;32m     10\u001b[0m         states_repeated,\n\u001b[1;32m     11\u001b[0m         choices_repeated,\n\u001b[1;32m     12\u001b[0m         policies_repeated,\n\u001b[1;32m     13\u001b[0m         values_repeated,\n\u001b[1;32m     14\u001b[0m     )\n",
      "File \u001b[0;32m~/opt/anaconda3/envs/dcegm/lib/python3.9/contextlib.py:126\u001b[0m, in \u001b[0;36m_GeneratorContextManager.__exit__\u001b[0;34m(self, typ, value, traceback)\u001b[0m\n\u001b[1;32m    124\u001b[0m \u001b[38;5;28;01mif\u001b[39;00m typ \u001b[38;5;129;01mis\u001b[39;00m \u001b[38;5;28;01mNone\u001b[39;00m:\n\u001b[1;32m    125\u001b[0m     \u001b[38;5;28;01mtry\u001b[39;00m:\n\u001b[0;32m--> 126\u001b[0m         \u001b[38;5;28;43mnext\u001b[39;49m\u001b[43m(\u001b[49m\u001b[38;5;28;43mself\u001b[39;49m\u001b[38;5;241;43m.\u001b[39;49m\u001b[43mgen\u001b[49m\u001b[43m)\u001b[49m\n\u001b[1;32m    127\u001b[0m     \u001b[38;5;28;01mexcept\u001b[39;00m \u001b[38;5;167;01mStopIteration\u001b[39;00m:\n\u001b[1;32m    128\u001b[0m         \u001b[38;5;28;01mreturn\u001b[39;00m \u001b[38;5;28;01mFalse\u001b[39;00m\n",
      "File \u001b[0;32m~/opt/anaconda3/envs/dcegm/lib/python3.9/site-packages/jax/_src/profiler.py:237\u001b[0m, in \u001b[0;36mtrace\u001b[0;34m(log_dir, create_perfetto_link, create_perfetto_trace)\u001b[0m\n\u001b[1;32m    235\u001b[0m   \u001b[38;5;28;01myield\u001b[39;00m\n\u001b[1;32m    236\u001b[0m \u001b[38;5;28;01mfinally\u001b[39;00m:\n\u001b[0;32m--> 237\u001b[0m   \u001b[43mstop_trace\u001b[49m\u001b[43m(\u001b[49m\u001b[43m)\u001b[49m\n",
      "File \u001b[0;32m~/opt/anaconda3/envs/dcegm/lib/python3.9/site-packages/jax/_src/profiler.py:198\u001b[0m, in \u001b[0;36mstop_trace\u001b[0;34m()\u001b[0m\n\u001b[1;32m    196\u001b[0m _profile_state\u001b[38;5;241m.\u001b[39mprofile_session\u001b[38;5;241m.\u001b[39mstop_and_export(_profile_state\u001b[38;5;241m.\u001b[39mlog_dir)\n\u001b[1;32m    197\u001b[0m \u001b[38;5;28;01mif\u001b[39;00m _profile_state\u001b[38;5;241m.\u001b[39mcreate_perfetto_trace:\n\u001b[0;32m--> 198\u001b[0m   abs_filename \u001b[38;5;241m=\u001b[39m \u001b[43m_write_perfetto_trace_file\u001b[49m\u001b[43m(\u001b[49m\u001b[43m_profile_state\u001b[49m\u001b[38;5;241;43m.\u001b[39;49m\u001b[43mlog_dir\u001b[49m\u001b[43m)\u001b[49m\n\u001b[1;32m    199\u001b[0m   \u001b[38;5;28;01mif\u001b[39;00m _profile_state\u001b[38;5;241m.\u001b[39mcreate_perfetto_link:\n\u001b[1;32m    200\u001b[0m     _host_perfetto_trace_file(abs_filename)\n",
      "File \u001b[0;32m~/opt/anaconda3/envs/dcegm/lib/python3.9/site-packages/jax/_src/profiler.py:135\u001b[0m, in \u001b[0;36m_write_perfetto_trace_file\u001b[0;34m(log_dir)\u001b[0m\n\u001b[1;32m    133\u001b[0m trace_jsons \u001b[38;5;241m=\u001b[39m glob\u001b[38;5;241m.\u001b[39mglob(os\u001b[38;5;241m.\u001b[39mpath\u001b[38;5;241m.\u001b[39mjoin(latest_folder, \u001b[38;5;124m\"\u001b[39m\u001b[38;5;124m*.trace.json.gz\u001b[39m\u001b[38;5;124m\"\u001b[39m))\n\u001b[1;32m    134\u001b[0m \u001b[38;5;28;01mif\u001b[39;00m \u001b[38;5;28mlen\u001b[39m(trace_jsons) \u001b[38;5;241m!=\u001b[39m \u001b[38;5;241m1\u001b[39m:\n\u001b[0;32m--> 135\u001b[0m   \u001b[38;5;28;01mraise\u001b[39;00m \u001b[38;5;167;01mValueError\u001b[39;00m(\u001b[38;5;124mf\u001b[39m\u001b[38;5;124m\"\u001b[39m\u001b[38;5;124mInvalid trace folder: \u001b[39m\u001b[38;5;132;01m{\u001b[39;00mlatest_folder\u001b[38;5;132;01m}\u001b[39;00m\u001b[38;5;124m\"\u001b[39m)\n\u001b[1;32m    136\u001b[0m trace_json, \u001b[38;5;241m=\u001b[39m trace_jsons\n\u001b[1;32m    138\u001b[0m logger\u001b[38;5;241m.\u001b[39minfo(\u001b[38;5;124m\"\u001b[39m\u001b[38;5;124mLoading trace.json.gz and removing its metadata...\u001b[39m\u001b[38;5;124m\"\u001b[39m)\n",
      "\u001b[0;31mValueError\u001b[0m: Invalid trace folder: /Users/viktoriakleinschmidt/Desktop/Arbeit/dc-egm/src/dcegm/sandbox/jax-trace/plugins/profile/2023_02_15_10_03_35"
     ]
    }
   ],
   "source": [
    "with jax.profiler.trace(\"jax-trace\", create_perfetto_link=True):\n",
    "    marginal_util, max_exp_value = marginal_util_and_exp_max_value_states_period(\n",
    "        compute_next_period_wealth,\n",
    "        compute_marginal_utility,\n",
    "        compute_value,\n",
    "        taste_shock_scale,\n",
    "        savings_repeated,\n",
    "        income_shock_draws,\n",
    "        income_shock_weights,\n",
    "        states_repeated,\n",
    "        choices_repeated,\n",
    "        policies_repeated,\n",
    "        values_repeated,\n",
    "    )"
   ]
  },
  {
   "cell_type": "code",
   "execution_count": 15,
   "metadata": {},
   "outputs": [
    {
     "name": "stdout",
     "output_type": "stream",
     "text": [
      "2.46 s ± 214 ms per loop (mean ± std. dev. of 7 runs, 1 loop each)\n"
     ]
    }
   ],
   "source": [
    "%%timeit\n",
    "marginal_util, max_exp_value = marginal_util_and_exp_max_value_states_period(\n",
    "    compute_next_period_wealth,\n",
    "    compute_marginal_utility,\n",
    "    compute_value,\n",
    "    taste_shock_scale,\n",
    "    savings_repeated,\n",
    "    income_shock_draws,\n",
    "    income_shock_weights,\n",
    "    states_repeated,\n",
    "    choices_repeated,\n",
    "    policies_repeated,\n",
    "    values_repeated,\n",
    ")"
   ]
  },
  {
   "cell_type": "code",
   "execution_count": 1,
   "metadata": {},
   "outputs": [],
   "source": [
    "# use jax profiler\n",
    "def profiled_marginal_util_and_exp_max_value_states_period(\n",
    "    compute_next_period_wealth,\n",
    "    compute_marginal_utility,\n",
    "    compute_value,\n",
    "    taste_shock_scale,\n",
    "    exogenous_savings_grid,\n",
    "    income_shock_draws,\n",
    "    income_shock_weights,\n",
    "    possible_child_states,\n",
    "    choices_child_states,\n",
    "    policies_child_states,\n",
    "    values_child_states,\n",
    "):\n",
    "    return profiler.call(\n",
    "        marginal_util_and_exp_max_value_states_period,\n",
    "        compute_next_period_wealth,\n",
    "        compute_marginal_utility,\n",
    "        compute_value,\n",
    "        taste_shock_scale,\n",
    "        exogenous_savings_grid,\n",
    "        income_shock_draws,\n",
    "        income_shock_weights,\n",
    "        possible_child_states,\n",
    "        choices_child_states,\n",
    "        policies_child_states,\n",
    "        values_child_states,\n",
    "    )"
   ]
  },
  {
   "cell_type": "code",
   "execution_count": 12,
   "metadata": {},
   "outputs": [
    {
     "ename": "ValueError",
     "evalue": "Invalid trace folder: /tmp/jax-trace/plugins/profile/2023_02_15_11_28_40",
     "output_type": "error",
     "traceback": [
      "\u001b[0;31m---------------------------------------------------------------------------\u001b[0m",
      "\u001b[0;31mNameError\u001b[0m                                 Traceback (most recent call last)",
      "File \u001b[0;32m~/opt/anaconda3/envs/dcegm/lib/python3.9/site-packages/jax/_src/profiler.py:235\u001b[0m, in \u001b[0;36mtrace\u001b[0;34m(log_dir, create_perfetto_link, create_perfetto_trace)\u001b[0m\n\u001b[1;32m    234\u001b[0m \u001b[38;5;28;01mtry\u001b[39;00m:\n\u001b[0;32m--> 235\u001b[0m   \u001b[38;5;28;01myield\u001b[39;00m\n\u001b[1;32m    236\u001b[0m \u001b[38;5;28;01mfinally\u001b[39;00m:\n",
      "Cell \u001b[0;32mIn [12], line 3\u001b[0m\n\u001b[1;32m      1\u001b[0m \u001b[38;5;28;01mwith\u001b[39;00m jax\u001b[38;5;241m.\u001b[39mprofiler\u001b[38;5;241m.\u001b[39mtrace(\u001b[38;5;124m\"\u001b[39m\u001b[38;5;124m/tmp/jax-trace\u001b[39m\u001b[38;5;124m\"\u001b[39m, create_perfetto_link\u001b[38;5;241m=\u001b[39m\u001b[38;5;28;01mTrue\u001b[39;00m):\n\u001b[0;32m----> 3\u001b[0m     result \u001b[38;5;241m=\u001b[39m \u001b[43mprofiled_marginal_util_and_exp_max_value_states_period\u001b[49m(\n\u001b[1;32m      4\u001b[0m         compute_next_period_wealth,\n\u001b[1;32m      5\u001b[0m         compute_marginal_utility,\n\u001b[1;32m      6\u001b[0m         compute_value,\n\u001b[1;32m      7\u001b[0m         taste_shock_scale,\n\u001b[1;32m      8\u001b[0m         exogenous_savings_grid,\n\u001b[1;32m      9\u001b[0m         income_shock_draws,\n\u001b[1;32m     10\u001b[0m         income_shock_weights,\n\u001b[1;32m     11\u001b[0m         possible_child_states,\n\u001b[1;32m     12\u001b[0m         choices_child_states,\n\u001b[1;32m     13\u001b[0m         policies_child_states,\n\u001b[1;32m     14\u001b[0m         values_child_states,\n\u001b[1;32m     15\u001b[0m     )\n\u001b[1;32m     16\u001b[0m     result\u001b[38;5;241m.\u001b[39mblock_until_ready()\n",
      "\u001b[0;31mNameError\u001b[0m: name 'profiled_marginal_util_and_exp_max_value_states_period' is not defined",
      "\nDuring handling of the above exception, another exception occurred:\n",
      "\u001b[0;31mValueError\u001b[0m                                Traceback (most recent call last)",
      "Cell \u001b[0;32mIn [12], line 16\u001b[0m\n\u001b[1;32m      1\u001b[0m \u001b[38;5;28;01mwith\u001b[39;00m jax\u001b[38;5;241m.\u001b[39mprofiler\u001b[38;5;241m.\u001b[39mtrace(\u001b[38;5;124m\"\u001b[39m\u001b[38;5;124m/tmp/jax-trace\u001b[39m\u001b[38;5;124m\"\u001b[39m, create_perfetto_link\u001b[38;5;241m=\u001b[39m\u001b[38;5;28;01mTrue\u001b[39;00m):\n\u001b[1;32m      3\u001b[0m     result \u001b[38;5;241m=\u001b[39m profiled_marginal_util_and_exp_max_value_states_period(\n\u001b[1;32m      4\u001b[0m         compute_next_period_wealth,\n\u001b[1;32m      5\u001b[0m         compute_marginal_utility,\n\u001b[0;32m   (...)\u001b[0m\n\u001b[1;32m     14\u001b[0m         values_child_states,\n\u001b[1;32m     15\u001b[0m     )\n\u001b[0;32m---> 16\u001b[0m     result\u001b[38;5;241m.\u001b[39mblock_until_ready()\n",
      "File \u001b[0;32m~/opt/anaconda3/envs/dcegm/lib/python3.9/contextlib.py:137\u001b[0m, in \u001b[0;36m_GeneratorContextManager.__exit__\u001b[0;34m(self, typ, value, traceback)\u001b[0m\n\u001b[1;32m    135\u001b[0m     value \u001b[38;5;241m=\u001b[39m typ()\n\u001b[1;32m    136\u001b[0m \u001b[38;5;28;01mtry\u001b[39;00m:\n\u001b[0;32m--> 137\u001b[0m     \u001b[38;5;28;43mself\u001b[39;49m\u001b[38;5;241;43m.\u001b[39;49m\u001b[43mgen\u001b[49m\u001b[38;5;241;43m.\u001b[39;49m\u001b[43mthrow\u001b[49m\u001b[43m(\u001b[49m\u001b[43mtyp\u001b[49m\u001b[43m,\u001b[49m\u001b[43m \u001b[49m\u001b[43mvalue\u001b[49m\u001b[43m,\u001b[49m\u001b[43m \u001b[49m\u001b[43mtraceback\u001b[49m\u001b[43m)\u001b[49m\n\u001b[1;32m    138\u001b[0m \u001b[38;5;28;01mexcept\u001b[39;00m \u001b[38;5;167;01mStopIteration\u001b[39;00m \u001b[38;5;28;01mas\u001b[39;00m exc:\n\u001b[1;32m    139\u001b[0m     \u001b[38;5;66;03m# Suppress StopIteration *unless* it's the same exception that\u001b[39;00m\n\u001b[1;32m    140\u001b[0m     \u001b[38;5;66;03m# was passed to throw().  This prevents a StopIteration\u001b[39;00m\n\u001b[1;32m    141\u001b[0m     \u001b[38;5;66;03m# raised inside the \"with\" statement from being suppressed.\u001b[39;00m\n\u001b[1;32m    142\u001b[0m     \u001b[38;5;28;01mreturn\u001b[39;00m exc \u001b[38;5;129;01mis\u001b[39;00m \u001b[38;5;129;01mnot\u001b[39;00m value\n",
      "File \u001b[0;32m~/opt/anaconda3/envs/dcegm/lib/python3.9/site-packages/jax/_src/profiler.py:237\u001b[0m, in \u001b[0;36mtrace\u001b[0;34m(log_dir, create_perfetto_link, create_perfetto_trace)\u001b[0m\n\u001b[1;32m    235\u001b[0m   \u001b[38;5;28;01myield\u001b[39;00m\n\u001b[1;32m    236\u001b[0m \u001b[38;5;28;01mfinally\u001b[39;00m:\n\u001b[0;32m--> 237\u001b[0m   \u001b[43mstop_trace\u001b[49m\u001b[43m(\u001b[49m\u001b[43m)\u001b[49m\n",
      "File \u001b[0;32m~/opt/anaconda3/envs/dcegm/lib/python3.9/site-packages/jax/_src/profiler.py:198\u001b[0m, in \u001b[0;36mstop_trace\u001b[0;34m()\u001b[0m\n\u001b[1;32m    196\u001b[0m _profile_state\u001b[38;5;241m.\u001b[39mprofile_session\u001b[38;5;241m.\u001b[39mstop_and_export(_profile_state\u001b[38;5;241m.\u001b[39mlog_dir)\n\u001b[1;32m    197\u001b[0m \u001b[38;5;28;01mif\u001b[39;00m _profile_state\u001b[38;5;241m.\u001b[39mcreate_perfetto_trace:\n\u001b[0;32m--> 198\u001b[0m   abs_filename \u001b[38;5;241m=\u001b[39m \u001b[43m_write_perfetto_trace_file\u001b[49m\u001b[43m(\u001b[49m\u001b[43m_profile_state\u001b[49m\u001b[38;5;241;43m.\u001b[39;49m\u001b[43mlog_dir\u001b[49m\u001b[43m)\u001b[49m\n\u001b[1;32m    199\u001b[0m   \u001b[38;5;28;01mif\u001b[39;00m _profile_state\u001b[38;5;241m.\u001b[39mcreate_perfetto_link:\n\u001b[1;32m    200\u001b[0m     _host_perfetto_trace_file(abs_filename)\n",
      "File \u001b[0;32m~/opt/anaconda3/envs/dcegm/lib/python3.9/site-packages/jax/_src/profiler.py:135\u001b[0m, in \u001b[0;36m_write_perfetto_trace_file\u001b[0;34m(log_dir)\u001b[0m\n\u001b[1;32m    133\u001b[0m trace_jsons \u001b[38;5;241m=\u001b[39m glob\u001b[38;5;241m.\u001b[39mglob(os\u001b[38;5;241m.\u001b[39mpath\u001b[38;5;241m.\u001b[39mjoin(latest_folder, \u001b[38;5;124m\"\u001b[39m\u001b[38;5;124m*.trace.json.gz\u001b[39m\u001b[38;5;124m\"\u001b[39m))\n\u001b[1;32m    134\u001b[0m \u001b[38;5;28;01mif\u001b[39;00m \u001b[38;5;28mlen\u001b[39m(trace_jsons) \u001b[38;5;241m!=\u001b[39m \u001b[38;5;241m1\u001b[39m:\n\u001b[0;32m--> 135\u001b[0m   \u001b[38;5;28;01mraise\u001b[39;00m \u001b[38;5;167;01mValueError\u001b[39;00m(\u001b[38;5;124mf\u001b[39m\u001b[38;5;124m\"\u001b[39m\u001b[38;5;124mInvalid trace folder: \u001b[39m\u001b[38;5;132;01m{\u001b[39;00mlatest_folder\u001b[38;5;132;01m}\u001b[39;00m\u001b[38;5;124m\"\u001b[39m)\n\u001b[1;32m    136\u001b[0m trace_json, \u001b[38;5;241m=\u001b[39m trace_jsons\n\u001b[1;32m    138\u001b[0m logger\u001b[38;5;241m.\u001b[39minfo(\u001b[38;5;124m\"\u001b[39m\u001b[38;5;124mLoading trace.json.gz and removing its metadata...\u001b[39m\u001b[38;5;124m\"\u001b[39m)\n",
      "\u001b[0;31mValueError\u001b[0m: Invalid trace folder: /tmp/jax-trace/plugins/profile/2023_02_15_11_28_40"
     ]
    }
   ],
   "source": [
    "with jax.profiler.trace(\"/tmp/jax-trace\", create_perfetto_link=True):\n",
    "\n",
    "    result = profiled_marginal_util_and_exp_max_value_states_period(\n",
    "        compute_next_period_wealth,\n",
    "        compute_marginal_utility,\n",
    "        compute_value,\n",
    "        taste_shock_scale,\n",
    "        exogenous_savings_grid,\n",
    "        income_shock_draws,\n",
    "        income_shock_weights,\n",
    "        possible_child_states,\n",
    "        choices_child_states,\n",
    "        policies_child_states,\n",
    "        values_child_states,\n",
    "    )\n",
    "    result.block_until_ready()"
   ]
  },
  {
   "cell_type": "code",
   "execution_count": 19,
   "metadata": {},
   "outputs": [
    {
     "name": "stdout",
     "output_type": "stream",
     "text": [
      "Collecting tensorflow\n",
      "  Downloading tensorflow-2.11.0-cp39-cp39-macosx_10_14_x86_64.whl (244.3 MB)\n",
      "\u001b[2K     \u001b[90m━━━━━━━━━━━━━━━━━━━━━━━━━━━━━━━━━━━━━━━\u001b[0m \u001b[32m244.3/244.3 MB\u001b[0m \u001b[31m2.7 MB/s\u001b[0m eta \u001b[36m0:00:00\u001b[0m00:01\u001b[0m00:01\u001b[0m\n",
      "\u001b[?25hCollecting tensorboard-plugin-profile\n",
      "  Downloading tensorboard_plugin_profile-2.11.1-py3-none-any.whl (5.4 MB)\n",
      "\u001b[2K     \u001b[90m━━━━━━━━━━━━━━━━━━━━━━━━━━━━━━━━━━━━━━━━\u001b[0m \u001b[32m5.4/5.4 MB\u001b[0m \u001b[31m6.9 MB/s\u001b[0m eta \u001b[36m0:00:00\u001b[0m00:01\u001b[0m00:01\u001b[0mm\n",
      "\u001b[?25hCollecting tensorflow-io-gcs-filesystem>=0.23.1\n",
      "  Downloading tensorflow_io_gcs_filesystem-0.30.0-cp39-cp39-macosx_10_14_x86_64.whl (1.6 MB)\n",
      "\u001b[2K     \u001b[90m━━━━━━━━━━━━━━━━━━━━━━━━━━━━━━━━━━━━━━━━\u001b[0m \u001b[32m1.6/1.6 MB\u001b[0m \u001b[31m7.2 MB/s\u001b[0m eta \u001b[36m0:00:00\u001b[0ma \u001b[36m0:00:01\u001b[0mm\n",
      "\u001b[?25hCollecting tensorboard<2.12,>=2.11\n",
      "  Downloading tensorboard-2.11.2-py3-none-any.whl (6.0 MB)\n",
      "\u001b[2K     \u001b[90m━━━━━━━━━━━━━━━━━━━━━━━━━━━━━━━━━━━━━━━━\u001b[0m \u001b[32m6.0/6.0 MB\u001b[0m \u001b[31m6.8 MB/s\u001b[0m eta \u001b[36m0:00:00\u001b[0m00:01\u001b[0m00:01\u001b[0m\n",
      "\u001b[?25hCollecting google-pasta>=0.1.1\n",
      "  Downloading google_pasta-0.2.0-py3-none-any.whl (57 kB)\n",
      "\u001b[2K     \u001b[90m━━━━━━━━━━━━━━━━━━━━━━━━━━━━━━━━━━━━━━━━\u001b[0m \u001b[32m57.5/57.5 kB\u001b[0m \u001b[31m1.8 MB/s\u001b[0m eta \u001b[36m0:00:00\u001b[0m\n",
      "\u001b[?25hCollecting libclang>=13.0.0\n",
      "  Downloading libclang-15.0.6.1-py2.py3-none-macosx_10_9_x86_64.whl (25.0 MB)\n",
      "\u001b[2K     \u001b[90m━━━━━━━━━━━━━━━━━━━━━━━━━━━━━━━━━━━━━━━━\u001b[0m \u001b[32m25.0/25.0 MB\u001b[0m \u001b[31m6.7 MB/s\u001b[0m eta \u001b[36m0:00:00\u001b[0m00:01\u001b[0m00:01\u001b[0m\n",
      "\u001b[?25hCollecting astunparse>=1.6.0\n",
      "  Downloading astunparse-1.6.3-py2.py3-none-any.whl (12 kB)\n",
      "Collecting h5py>=2.9.0\n",
      "  Downloading h5py-3.8.0-cp39-cp39-macosx_10_9_x86_64.whl (3.2 MB)\n",
      "\u001b[2K     \u001b[90m━━━━━━━━━━━━━━━━━━━━━━━━━━━━━━━━━━━━━━━━\u001b[0m \u001b[32m3.2/3.2 MB\u001b[0m \u001b[31m6.7 MB/s\u001b[0m eta \u001b[36m0:00:00\u001b[0m00:01\u001b[0m00:01\u001b[0m\n",
      "\u001b[?25hCollecting absl-py>=1.0.0\n",
      "  Downloading absl_py-1.4.0-py3-none-any.whl (126 kB)\n",
      "\u001b[2K     \u001b[90m━━━━━━━━━━━━━━━━━━━━━━━━━━━━━━━━━━━━━━━\u001b[0m \u001b[32m126.5/126.5 kB\u001b[0m \u001b[31m3.0 MB/s\u001b[0m eta \u001b[36m0:00:00\u001b[0ma \u001b[36m0:00:01\u001b[0m\n",
      "\u001b[?25hCollecting gast<=0.4.0,>=0.2.1\n",
      "  Downloading gast-0.4.0-py3-none-any.whl (9.8 kB)\n",
      "Requirement already satisfied: setuptools in /Users/viktoriakleinschmidt/opt/anaconda3/envs/dcegm/lib/python3.9/site-packages (from tensorflow) (65.5.1)\n",
      "Requirement already satisfied: typing-extensions>=3.6.6 in /Users/viktoriakleinschmidt/opt/anaconda3/envs/dcegm/lib/python3.9/site-packages (from tensorflow) (4.4.0)\n",
      "Collecting flatbuffers>=2.0\n",
      "  Downloading flatbuffers-23.1.21-py2.py3-none-any.whl (26 kB)\n",
      "Collecting wrapt>=1.11.0\n",
      "  Downloading wrapt-1.14.1-cp39-cp39-macosx_10_9_x86_64.whl (35 kB)\n",
      "Requirement already satisfied: packaging in /Users/viktoriakleinschmidt/opt/anaconda3/envs/dcegm/lib/python3.9/site-packages (from tensorflow) (21.3)\n",
      "Collecting tensorflow-estimator<2.12,>=2.11.0\n",
      "  Downloading tensorflow_estimator-2.11.0-py2.py3-none-any.whl (439 kB)\n",
      "\u001b[2K     \u001b[90m━━━━━━━━━━━━━━━━━━━━━━━━━━━━━━━━━━━━━━━\u001b[0m \u001b[32m439.2/439.2 kB\u001b[0m \u001b[31m5.8 MB/s\u001b[0m eta \u001b[36m0:00:00\u001b[0ma \u001b[36m0:00:01\u001b[0m\n",
      "\u001b[?25hCollecting protobuf<3.20,>=3.9.2\n",
      "  Downloading protobuf-3.19.6-cp39-cp39-macosx_10_9_x86_64.whl (980 kB)\n",
      "\u001b[2K     \u001b[90m━━━━━━━━━━━━━━━━━━━━━━━━━━━━━━━━━━━━━━━\u001b[0m \u001b[32m980.5/980.5 kB\u001b[0m \u001b[31m6.3 MB/s\u001b[0m eta \u001b[36m0:00:00\u001b[0ma \u001b[36m0:00:01\u001b[0m\n",
      "\u001b[?25hCollecting termcolor>=1.1.0\n",
      "  Downloading termcolor-2.2.0-py3-none-any.whl (6.6 kB)\n",
      "Collecting keras<2.12,>=2.11.0\n",
      "  Downloading keras-2.11.0-py2.py3-none-any.whl (1.7 MB)\n",
      "\u001b[2K     \u001b[90m━━━━━━━━━━━━━━━━━━━━━━━━━━━━━━━━━━━━━━━━\u001b[0m \u001b[32m1.7/1.7 MB\u001b[0m \u001b[31m6.7 MB/s\u001b[0m eta \u001b[36m0:00:00\u001b[0m00:01\u001b[0m00:01\u001b[0m\n",
      "\u001b[?25hRequirement already satisfied: six>=1.12.0 in /Users/viktoriakleinschmidt/opt/anaconda3/envs/dcegm/lib/python3.9/site-packages (from tensorflow) (1.16.0)\n",
      "Requirement already satisfied: numpy>=1.20 in /Users/viktoriakleinschmidt/opt/anaconda3/envs/dcegm/lib/python3.9/site-packages (from tensorflow) (1.23.5)\n",
      "Requirement already satisfied: opt-einsum>=2.3.2 in /Users/viktoriakleinschmidt/opt/anaconda3/envs/dcegm/lib/python3.9/site-packages (from tensorflow) (3.3.0)\n",
      "Collecting grpcio<2.0,>=1.24.3\n",
      "  Downloading grpcio-1.51.1-cp39-cp39-macosx_10_10_x86_64.whl (4.6 MB)\n",
      "\u001b[2K     \u001b[90m━━━━━━━━━━━━━━━━━━━━━━━━━━━━━━━━━━━━━━━━\u001b[0m \u001b[32m4.6/4.6 MB\u001b[0m \u001b[31m6.8 MB/s\u001b[0m eta \u001b[36m0:00:00\u001b[0m00:01\u001b[0m00:01\u001b[0m\n",
      "\u001b[?25hCollecting werkzeug>=0.11.15\n",
      "  Downloading Werkzeug-2.2.3-py3-none-any.whl (233 kB)\n",
      "\u001b[2K     \u001b[90m━━━━━━━━━━━━━━━━━━━━━━━━━━━━━━━━━━━━━━━\u001b[0m \u001b[32m233.6/233.6 kB\u001b[0m \u001b[31m4.2 MB/s\u001b[0m eta \u001b[36m0:00:00\u001b[0ma \u001b[36m0:00:01\u001b[0m\n",
      "\u001b[?25hCollecting gviz-api>=1.9.0\n",
      "  Downloading gviz_api-1.10.0-py2.py3-none-any.whl (13 kB)\n",
      "Requirement already satisfied: wheel<1.0,>=0.23.0 in /Users/viktoriakleinschmidt/opt/anaconda3/envs/dcegm/lib/python3.9/site-packages (from astunparse>=1.6.0->tensorflow) (0.38.4)\n",
      "Collecting google-auth-oauthlib<0.5,>=0.4.1\n",
      "  Downloading google_auth_oauthlib-0.4.6-py2.py3-none-any.whl (18 kB)\n",
      "Collecting markdown>=2.6.8\n",
      "  Downloading Markdown-3.4.1-py3-none-any.whl (93 kB)\n",
      "\u001b[2K     \u001b[90m━━━━━━━━━━━━━━━━━━━━━━━━━━━━━━━━━━━━━━━━\u001b[0m \u001b[32m93.3/93.3 kB\u001b[0m \u001b[31m3.4 MB/s\u001b[0m eta \u001b[36m0:00:00\u001b[0m\n",
      "\u001b[?25hCollecting google-auth<3,>=1.6.3\n",
      "  Downloading google_auth-2.16.0-py2.py3-none-any.whl (177 kB)\n",
      "\u001b[2K     \u001b[90m━━━━━━━━━━━━━━━━━━━━━━━━━━━━━━━━━━━━━━━\u001b[0m \u001b[32m177.8/177.8 kB\u001b[0m \u001b[31m4.7 MB/s\u001b[0m eta \u001b[36m0:00:00\u001b[0m\n",
      "\u001b[?25hCollecting tensorboard-plugin-wit>=1.6.0\n",
      "  Downloading tensorboard_plugin_wit-1.8.1-py3-none-any.whl (781 kB)\n",
      "\u001b[2K     \u001b[90m━━━━━━━━━━━━━━━━━━━━━━━━━━━━━━━━━━━━━━━\u001b[0m \u001b[32m781.3/781.3 kB\u001b[0m \u001b[31m5.9 MB/s\u001b[0m eta \u001b[36m0:00:00\u001b[0m00:01\u001b[0m00:01\u001b[0m\n",
      "\u001b[?25hCollecting tensorboard-data-server<0.7.0,>=0.6.0\n",
      "  Downloading tensorboard_data_server-0.6.1-py3-none-macosx_10_9_x86_64.whl (3.5 MB)\n",
      "\u001b[2K     \u001b[90m━━━━━━━━━━━━━━━━━━━━━━━━━━━━━━━━━━━━━━━━\u001b[0m \u001b[32m3.5/3.5 MB\u001b[0m \u001b[31m6.9 MB/s\u001b[0m eta \u001b[36m0:00:00\u001b[0m00:01\u001b[0m00:01\u001b[0m\n",
      "\u001b[?25hRequirement already satisfied: requests<3,>=2.21.0 in /Users/viktoriakleinschmidt/opt/anaconda3/envs/dcegm/lib/python3.9/site-packages (from tensorboard<2.12,>=2.11->tensorflow) (2.28.1)\n",
      "Requirement already satisfied: MarkupSafe>=2.1.1 in /Users/viktoriakleinschmidt/opt/anaconda3/envs/dcegm/lib/python3.9/site-packages (from werkzeug>=0.11.15->tensorboard-plugin-profile) (2.1.1)\n",
      "Requirement already satisfied: pyparsing!=3.0.5,>=2.0.2 in /Users/viktoriakleinschmidt/opt/anaconda3/envs/dcegm/lib/python3.9/site-packages (from packaging->tensorflow) (3.0.9)\n",
      "Collecting cachetools<6.0,>=2.0.0\n",
      "  Downloading cachetools-5.3.0-py3-none-any.whl (9.3 kB)\n",
      "Collecting pyasn1-modules>=0.2.1\n",
      "  Downloading pyasn1_modules-0.2.8-py2.py3-none-any.whl (155 kB)\n",
      "\u001b[2K     \u001b[90m━━━━━━━━━━━━━━━━━━━━━━━━━━━━━━━━━━━━━━━\u001b[0m \u001b[32m155.3/155.3 kB\u001b[0m \u001b[31m5.1 MB/s\u001b[0m eta \u001b[36m0:00:00\u001b[0m\n",
      "\u001b[?25hCollecting rsa<5,>=3.1.4\n",
      "  Downloading rsa-4.9-py3-none-any.whl (34 kB)\n",
      "Collecting requests-oauthlib>=0.7.0\n",
      "  Downloading requests_oauthlib-1.3.1-py2.py3-none-any.whl (23 kB)\n",
      "Requirement already satisfied: importlib-metadata>=4.4 in /Users/viktoriakleinschmidt/opt/anaconda3/envs/dcegm/lib/python3.9/site-packages (from markdown>=2.6.8->tensorboard<2.12,>=2.11->tensorflow) (5.1.0)\n",
      "Requirement already satisfied: certifi>=2017.4.17 in /Users/viktoriakleinschmidt/opt/anaconda3/envs/dcegm/lib/python3.9/site-packages (from requests<3,>=2.21.0->tensorboard<2.12,>=2.11->tensorflow) (2022.9.24)\n",
      "Requirement already satisfied: charset-normalizer<3,>=2 in /Users/viktoriakleinschmidt/opt/anaconda3/envs/dcegm/lib/python3.9/site-packages (from requests<3,>=2.21.0->tensorboard<2.12,>=2.11->tensorflow) (2.1.1)\n",
      "Requirement already satisfied: idna<4,>=2.5 in /Users/viktoriakleinschmidt/opt/anaconda3/envs/dcegm/lib/python3.9/site-packages (from requests<3,>=2.21.0->tensorboard<2.12,>=2.11->tensorflow) (3.4)\n",
      "Requirement already satisfied: urllib3<1.27,>=1.21.1 in /Users/viktoriakleinschmidt/opt/anaconda3/envs/dcegm/lib/python3.9/site-packages (from requests<3,>=2.21.0->tensorboard<2.12,>=2.11->tensorflow) (1.26.13)\n",
      "Requirement already satisfied: zipp>=0.5 in /Users/viktoriakleinschmidt/opt/anaconda3/envs/dcegm/lib/python3.9/site-packages (from importlib-metadata>=4.4->markdown>=2.6.8->tensorboard<2.12,>=2.11->tensorflow) (3.11.0)\n",
      "Collecting pyasn1<0.5.0,>=0.4.6\n",
      "  Downloading pyasn1-0.4.8-py2.py3-none-any.whl (77 kB)\n"
     ]
    },
    {
     "name": "stdout",
     "output_type": "stream",
     "text": [
      "\u001b[2K     \u001b[90m━━━━━━━━━━━━━━━━━━━━━━━━━━━━━━━━━━━━━━━━\u001b[0m \u001b[32m77.1/77.1 kB\u001b[0m \u001b[31m2.8 MB/s\u001b[0m eta \u001b[36m0:00:00\u001b[0m\n",
      "\u001b[?25hCollecting oauthlib>=3.0.0\n",
      "  Downloading oauthlib-3.2.2-py3-none-any.whl (151 kB)\n",
      "\u001b[2K     \u001b[90m━━━━━━━━━━━━━━━━━━━━━━━━━━━━━━━━━━━━━━━\u001b[0m \u001b[32m151.7/151.7 kB\u001b[0m \u001b[31m4.2 MB/s\u001b[0m eta \u001b[36m0:00:00\u001b[0m\n",
      "\u001b[?25hInstalling collected packages: tensorboard-plugin-wit, pyasn1, libclang, flatbuffers, wrapt, werkzeug, termcolor, tensorflow-io-gcs-filesystem, tensorflow-estimator, tensorboard-data-server, rsa, pyasn1-modules, protobuf, oauthlib, keras, h5py, gviz-api, grpcio, google-pasta, gast, cachetools, astunparse, absl-py, tensorboard-plugin-profile, requests-oauthlib, markdown, google-auth, google-auth-oauthlib, tensorboard, tensorflow\n",
      "Successfully installed absl-py-1.4.0 astunparse-1.6.3 cachetools-5.3.0 flatbuffers-23.1.21 gast-0.4.0 google-auth-2.16.0 google-auth-oauthlib-0.4.6 google-pasta-0.2.0 grpcio-1.51.1 gviz-api-1.10.0 h5py-3.8.0 keras-2.11.0 libclang-15.0.6.1 markdown-3.4.1 oauthlib-3.2.2 protobuf-3.19.6 pyasn1-0.4.8 pyasn1-modules-0.2.8 requests-oauthlib-1.3.1 rsa-4.9 tensorboard-2.11.2 tensorboard-data-server-0.6.1 tensorboard-plugin-profile-2.11.1 tensorboard-plugin-wit-1.8.1 tensorflow-2.11.0 tensorflow-estimator-2.11.0 tensorflow-io-gcs-filesystem-0.30.0 termcolor-2.2.0 werkzeug-2.2.3 wrapt-1.14.1\n",
      "Note: you may need to restart the kernel to use updated packages.\n"
     ]
    }
   ],
   "source": [
    "pip install tensorflow tensorboard-plugin-profile"
   ]
  },
  {
   "cell_type": "code",
   "execution_count": 23,
   "metadata": {},
   "outputs": [
    {
     "name": "stderr",
     "output_type": "stream",
     "text": [
      "WARNING:tensorflow:From /Users/viktoriakleinschmidt/opt/anaconda3/envs/dcegm/lib/python3.9/site-packages/tensorflow/python/ops/summary_ops_v2.py:1332: start (from tensorflow.python.eager.profiler) is deprecated and will be removed after 2020-07-01.\n",
      "Instructions for updating:\n",
      "use `tf.profiler.experimental.start` instead.\n",
      "WARNING:tensorflow:From /Users/viktoriakleinschmidt/opt/anaconda3/envs/dcegm/lib/python3.9/site-packages/tensorflow/python/ops/summary_ops_v2.py:1383: stop (from tensorflow.python.eager.profiler) is deprecated and will be removed after 2020-07-01.\n",
      "Instructions for updating:\n",
      "use `tf.profiler.experimental.stop` instead.\n",
      "WARNING:tensorflow:From /Users/viktoriakleinschmidt/opt/anaconda3/envs/dcegm/lib/python3.9/site-packages/tensorflow/python/ops/summary_ops_v2.py:1383: save (from tensorflow.python.eager.profiler) is deprecated and will be removed after 2020-07-01.\n",
      "Instructions for updating:\n",
      "`tf.python.eager.profiler` has deprecated, use `tf.profiler` instead.\n",
      "WARNING:tensorflow:From /Users/viktoriakleinschmidt/opt/anaconda3/envs/dcegm/lib/python3.9/site-packages/tensorflow/python/eager/profiler.py:150: maybe_create_event_file (from tensorflow.python.eager.profiler) is deprecated and will be removed after 2020-07-01.\n",
      "Instructions for updating:\n",
      "`tf.python.eager.profiler` has deprecated, use `tf.profiler` instead.\n"
     ]
    }
   ],
   "source": [
    "# from ChatGPT conversation\n",
    "import tensorflow as tf\n",
    "from jax import jit\n",
    "# Trace the function to create a computation graph\n",
    "traced_computation = jit(profiled_marginal_util_and_exp_max_value_states_period)\n",
    "# Use TensorBoard to visualize the computation graph\n",
    "with tf.summary.create_file_writer(\"logs\").as_default():\n",
    "    tf.summary.trace_on(graph=True, profiler=True)\n",
    "    marginal_util, max_exp_value = marginal_util_and_exp_max_value_states_period(\n",
    "        compute_next_period_wealth,\n",
    "        compute_marginal_utility,\n",
    "        compute_value,\n",
    "        taste_shock_scale,\n",
    "        savings_repeated,\n",
    "        income_shock_draws,\n",
    "        income_shock_weights,\n",
    "        states_repeated,\n",
    "        choices_repeated,\n",
    "        policies_repeated,\n",
    "        values_repeated,\n",
    "    )\n",
    "    with tf.summary.record_if(True):\n",
    "        tf.summary.trace_export(\n",
    "            name=\"my_computation_graph\",\n",
    "            step=0,\n",
    "            profiler_outdir=\"logs\"\n",
    "        )\n"
   ]
  },
  {
   "cell_type": "code",
   "execution_count": 30,
   "metadata": {},
   "outputs": [
    {
     "ename": "TypeError",
     "evalue": "Cannot interpret '<CompiledFunction of functools.partial(<function budget_constraint at 0x13fdb4ee0>, params_dict={'beta': 0.95, 'delta': 0.0, 'theta': 1.0, 'constant': 0.75, 'exp': 0.04, 'exp_squared': -0.0004, 'sigma': 0.25, 'lambda': 2.2204e-16, 'interest_rate': 0.05, 'initial_wealth_low': 0.0, 'initial_wealth_high': 30.0, 'max_wealth': 75.0, 'consumption_floor': 0.0}, options={'n_periods': 25, 'min_age': 20, 'n_discrete_choices': 1, 'grid_points_wealth': 100, 'quadrature_points_stochastic': 10, 'n_simulations': 10, 'n_exog_processes': 1})>' as a data type",
     "output_type": "error",
     "traceback": [
      "\u001b[0;31m---------------------------------------------------------------------------\u001b[0m",
      "\u001b[0;31mKeyError\u001b[0m                                  Traceback (most recent call last)",
      "File \u001b[0;32m~/opt/anaconda3/envs/dcegm/lib/python3.9/site-packages/jax/_src/api_util.py:450\u001b[0m, in \u001b[0;36mshaped_abstractify\u001b[0;34m(x)\u001b[0m\n\u001b[1;32m    449\u001b[0m \u001b[38;5;28;01mtry\u001b[39;00m:\n\u001b[0;32m--> 450\u001b[0m   \u001b[38;5;28;01mreturn\u001b[39;00m \u001b[43m_shaped_abstractify_handlers\u001b[49m\u001b[43m[\u001b[49m\u001b[38;5;28;43mtype\u001b[39;49m\u001b[43m(\u001b[49m\u001b[43mx\u001b[49m\u001b[43m)\u001b[49m\u001b[43m]\u001b[49m(x)\n\u001b[1;32m    451\u001b[0m \u001b[38;5;28;01mexcept\u001b[39;00m \u001b[38;5;167;01mKeyError\u001b[39;00m:\n",
      "\u001b[0;31mKeyError\u001b[0m: <class 'jaxlib.xla_extension.CompiledFunction'>",
      "\nDuring handling of the above exception, another exception occurred:\n",
      "\u001b[0;31mTypeError\u001b[0m                                 Traceback (most recent call last)",
      "Cell \u001b[0;32mIn [30], line 1\u001b[0m\n\u001b[0;32m----> 1\u001b[0m result\u001b[38;5;241m=\u001b[39m\u001b[43mjax\u001b[49m\u001b[38;5;241;43m.\u001b[39;49m\u001b[43mxla_computation\u001b[49m\u001b[43m(\u001b[49m\u001b[43mmarginal_util_and_exp_max_value_states_period\u001b[49m\u001b[43m)\u001b[49m\u001b[43m(\u001b[49m\n\u001b[1;32m      2\u001b[0m \u001b[43m        \u001b[49m\u001b[43mcompute_next_period_wealth\u001b[49m\u001b[43m,\u001b[49m\n\u001b[1;32m      3\u001b[0m \u001b[43m        \u001b[49m\u001b[43mcompute_marginal_utility\u001b[49m\u001b[43m,\u001b[49m\n\u001b[1;32m      4\u001b[0m \u001b[43m        \u001b[49m\u001b[43mcompute_value\u001b[49m\u001b[43m,\u001b[49m\n\u001b[1;32m      5\u001b[0m \u001b[43m        \u001b[49m\u001b[43mtaste_shock_scale\u001b[49m\u001b[43m,\u001b[49m\n\u001b[1;32m      6\u001b[0m \u001b[43m        \u001b[49m\u001b[43msavings_repeated\u001b[49m\u001b[43m,\u001b[49m\n\u001b[1;32m      7\u001b[0m \u001b[43m        \u001b[49m\u001b[43mincome_shock_draws\u001b[49m\u001b[43m,\u001b[49m\n\u001b[1;32m      8\u001b[0m \u001b[43m        \u001b[49m\u001b[43mincome_shock_weights\u001b[49m\u001b[43m,\u001b[49m\n\u001b[1;32m      9\u001b[0m \u001b[43m        \u001b[49m\u001b[43mstates_repeated\u001b[49m\u001b[43m,\u001b[49m\n\u001b[1;32m     10\u001b[0m \u001b[43m        \u001b[49m\u001b[43mchoices_repeated\u001b[49m\u001b[43m,\u001b[49m\n\u001b[1;32m     11\u001b[0m \u001b[43m        \u001b[49m\u001b[43mpolicies_repeated\u001b[49m\u001b[43m,\u001b[49m\n\u001b[1;32m     12\u001b[0m \u001b[43m        \u001b[49m\u001b[43mvalues_repeated\u001b[49m\u001b[43m,\u001b[49m\n\u001b[1;32m     13\u001b[0m \u001b[43m    \u001b[49m\u001b[43m)\u001b[49m\n",
      "    \u001b[0;31m[... skipping hidden 10 frame]\u001b[0m\n",
      "File \u001b[0;32m<__array_function__ internals>:180\u001b[0m, in \u001b[0;36mresult_type\u001b[0;34m(*args, **kwargs)\u001b[0m\n",
      "\u001b[0;31mTypeError\u001b[0m: Cannot interpret '<CompiledFunction of functools.partial(<function budget_constraint at 0x13fdb4ee0>, params_dict={'beta': 0.95, 'delta': 0.0, 'theta': 1.0, 'constant': 0.75, 'exp': 0.04, 'exp_squared': -0.0004, 'sigma': 0.25, 'lambda': 2.2204e-16, 'interest_rate': 0.05, 'initial_wealth_low': 0.0, 'initial_wealth_high': 30.0, 'max_wealth': 75.0, 'consumption_floor': 0.0}, options={'n_periods': 25, 'min_age': 20, 'n_discrete_choices': 1, 'grid_points_wealth': 100, 'quadrature_points_stochastic': 10, 'n_simulations': 10, 'n_exog_processes': 1})>' as a data type"
     ]
    }
   ],
   "source": [
    "result=jax.xla_computation(marginal_util_and_exp_max_value_states_period)(\n",
    "        compute_next_period_wealth,\n",
    "        compute_marginal_utility,\n",
    "        compute_value,\n",
    "        taste_shock_scale,\n",
    "        savings_repeated,\n",
    "        income_shock_draws,\n",
    "        income_shock_weights,\n",
    "        states_repeated,\n",
    "        choices_repeated,\n",
    "        policies_repeated,\n",
    "        values_repeated,\n",
    "    )"
   ]
  },
  {
   "cell_type": "code",
   "execution_count": null,
   "metadata": {},
   "outputs": [],
   "source": []
  }
 ],
 "metadata": {
  "kernelspec": {
   "display_name": "Python 3",
   "language": "python",
   "name": "python3"
  },
  "language_info": {
   "codemirror_mode": {
    "name": "ipython",
    "version": 3
   },
   "file_extension": ".py",
   "mimetype": "text/x-python",
   "name": "python",
   "nbconvert_exporter": "python",
   "pygments_lexer": "ipython3",
   "version": "3.8.3"
  },
  "vscode": {
   "interpreter": {
    "hash": "295b01d53423e068cbaf4d863176c39060942e8a93c7af67a14cfbcb461e6a22"
   }
  }
 },
 "nbformat": 4,
 "nbformat_minor": 5
}
