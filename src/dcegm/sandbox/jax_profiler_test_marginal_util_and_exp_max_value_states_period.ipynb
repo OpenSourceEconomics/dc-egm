{
 "cells": [
  {
   "cell_type": "markdown",
   "id": "0c091d68",
   "metadata": {},
   "source": [
    "# Jax profiler test: marginal_util_and_exp_max_value_states_period"
   ]
  },
  {
   "cell_type": "code",
   "execution_count": 13,
   "id": "b7e51a52",
   "metadata": {},
   "outputs": [],
   "source": [
    "import io\n",
    "import pickle\n",
    "from typing import Dict, List\n",
    "\n",
    "import matplotlib.pyplot as plt\n",
    "import numpy as np\n",
    "import pandas as pd\n",
    "import yaml\n",
    "#from toy_models.consumption_retirement_model import (compute_expected_value, compute_next_period_marginal_utility,inverse_marginal_utility_crra, utility_func_crra)\n",
    "from toy_models.consumption_retirement_model.utility_functions import utility_func_crra, marginal_utility_crra, inverse_marginal_utility_crra\n",
    "from toy_models.consumption_retirement_model.budget_functions import budget_constraint\n",
    "from toy_models.consumption_retirement_model.exogenous_processes import get_transition_matrix_by_state\n",
    "from dcegm.pre_processing import get_partial_functions, params_todict\n",
    "from dcegm.marg_utilities_and_exp_value import marginal_util_and_exp_max_value_states_period\n",
    "import jax\n",
    "import jax.numpy as jnp\n",
    "from jax import profiler\n",
    "import os\n",
    "from dcegm.solve import solve_dcegm\n",
    "from functools import partial"
   ]
  },
  {
   "cell_type": "markdown",
   "id": "87b02495",
   "metadata": {},
   "source": [
    "## Specify *utility functions*, *params* and *options*"
   ]
  },
  {
   "cell_type": "code",
   "execution_count": 2,
   "id": "e0bcfa10",
   "metadata": {},
   "outputs": [],
   "source": [
    "utility_functions = {\n",
    "    \"utility\": utility_func_crra,\n",
    "    \"inverse_marginal_utility\": inverse_marginal_utility_crra,\n",
    "    \"marginal_utility\": marginal_utility_crra,\n",
    "}"
   ]
  },
  {
   "cell_type": "code",
   "execution_count": 3,
   "id": "84299415",
   "metadata": {},
   "outputs": [],
   "source": [
    "params = \"\"\"category,name,value,comment\n",
    "beta,beta,0.95,discount factor\n",
    "delta,delta,0,disutility of work\n",
    "utility_function,theta,1,CRRA coefficient\n",
    "wage,constant,0.75,age-independent labor income\n",
    "wage,exp,0.04,return to experience\n",
    "wage,exp_squared,-0.0004,return to experience squared\n",
    "shocks,sigma,0.25,shock on labor income sigma parameter/standard deviation\n",
    "shocks,lambda,2.220400e-16,taste shock (scale) parameter\n",
    "assets,interest_rate,0.05,interest rate on capital\n",
    "assets,initial_wealth_low,0,lowest level of initial wealth (relevant for simulation)\n",
    "assets,initial_wealth_high,30,highest level of initial wealth (relevant for simulation)\n",
    "assets,max_wealth,75,maximum level of wealth\n",
    "assets,consumption_floor,0.0,consumption floor/retirement safety net (only relevant in the dc-egm retirement model)\n",
    "\"\"\""
   ]
  },
  {
   "cell_type": "code",
   "execution_count": 4,
   "id": "6c240e9a",
   "metadata": {},
   "outputs": [
    {
     "data": {
      "text/html": [
       "<div>\n",
       "<style scoped>\n",
       "    .dataframe tbody tr th:only-of-type {\n",
       "        vertical-align: middle;\n",
       "    }\n",
       "\n",
       "    .dataframe tbody tr th {\n",
       "        vertical-align: top;\n",
       "    }\n",
       "\n",
       "    .dataframe thead th {\n",
       "        text-align: right;\n",
       "    }\n",
       "</style>\n",
       "<table border=\"1\" class=\"dataframe\">\n",
       "  <thead>\n",
       "    <tr style=\"text-align: right;\">\n",
       "      <th></th>\n",
       "      <th></th>\n",
       "      <th>value</th>\n",
       "      <th>comment</th>\n",
       "    </tr>\n",
       "    <tr>\n",
       "      <th>category</th>\n",
       "      <th>name</th>\n",
       "      <th></th>\n",
       "      <th></th>\n",
       "    </tr>\n",
       "  </thead>\n",
       "  <tbody>\n",
       "    <tr>\n",
       "      <th>beta</th>\n",
       "      <th>beta</th>\n",
       "      <td>9.500000e-01</td>\n",
       "      <td>discount factor</td>\n",
       "    </tr>\n",
       "    <tr>\n",
       "      <th>delta</th>\n",
       "      <th>delta</th>\n",
       "      <td>0.000000e+00</td>\n",
       "      <td>disutility of work</td>\n",
       "    </tr>\n",
       "    <tr>\n",
       "      <th>utility_function</th>\n",
       "      <th>theta</th>\n",
       "      <td>1.000000e+00</td>\n",
       "      <td>CRRA coefficient</td>\n",
       "    </tr>\n",
       "    <tr>\n",
       "      <th rowspan=\"3\" valign=\"top\">wage</th>\n",
       "      <th>constant</th>\n",
       "      <td>7.500000e-01</td>\n",
       "      <td>age-independent labor income</td>\n",
       "    </tr>\n",
       "    <tr>\n",
       "      <th>exp</th>\n",
       "      <td>4.000000e-02</td>\n",
       "      <td>return to experience</td>\n",
       "    </tr>\n",
       "    <tr>\n",
       "      <th>exp_squared</th>\n",
       "      <td>-4.000000e-04</td>\n",
       "      <td>return to experience squared</td>\n",
       "    </tr>\n",
       "    <tr>\n",
       "      <th rowspan=\"2\" valign=\"top\">shocks</th>\n",
       "      <th>sigma</th>\n",
       "      <td>2.500000e-01</td>\n",
       "      <td>shock on labor income sigma parameter/standard...</td>\n",
       "    </tr>\n",
       "    <tr>\n",
       "      <th>lambda</th>\n",
       "      <td>2.220400e-16</td>\n",
       "      <td>taste shock (scale) parameter</td>\n",
       "    </tr>\n",
       "    <tr>\n",
       "      <th rowspan=\"5\" valign=\"top\">assets</th>\n",
       "      <th>interest_rate</th>\n",
       "      <td>5.000000e-02</td>\n",
       "      <td>interest rate on capital</td>\n",
       "    </tr>\n",
       "    <tr>\n",
       "      <th>initial_wealth_low</th>\n",
       "      <td>0.000000e+00</td>\n",
       "      <td>lowest level of initial wealth (relevant for s...</td>\n",
       "    </tr>\n",
       "    <tr>\n",
       "      <th>initial_wealth_high</th>\n",
       "      <td>3.000000e+01</td>\n",
       "      <td>highest level of initial wealth (relevant for ...</td>\n",
       "    </tr>\n",
       "    <tr>\n",
       "      <th>max_wealth</th>\n",
       "      <td>7.500000e+01</td>\n",
       "      <td>maximum level of wealth</td>\n",
       "    </tr>\n",
       "    <tr>\n",
       "      <th>consumption_floor</th>\n",
       "      <td>0.000000e+00</td>\n",
       "      <td>consumption floor/retirement safety net (only ...</td>\n",
       "    </tr>\n",
       "  </tbody>\n",
       "</table>\n",
       "</div>"
      ],
      "text/plain": [
       "                                             value  \\\n",
       "category         name                                \n",
       "beta             beta                 9.500000e-01   \n",
       "delta            delta                0.000000e+00   \n",
       "utility_function theta                1.000000e+00   \n",
       "wage             constant             7.500000e-01   \n",
       "                 exp                  4.000000e-02   \n",
       "                 exp_squared         -4.000000e-04   \n",
       "shocks           sigma                2.500000e-01   \n",
       "                 lambda               2.220400e-16   \n",
       "assets           interest_rate        5.000000e-02   \n",
       "                 initial_wealth_low   0.000000e+00   \n",
       "                 initial_wealth_high  3.000000e+01   \n",
       "                 max_wealth           7.500000e+01   \n",
       "                 consumption_floor    0.000000e+00   \n",
       "\n",
       "                                                                                comment  \n",
       "category         name                                                                    \n",
       "beta             beta                                                   discount factor  \n",
       "delta            delta                                               disutility of work  \n",
       "utility_function theta                                                 CRRA coefficient  \n",
       "wage             constant                                  age-independent labor income  \n",
       "                 exp                                               return to experience  \n",
       "                 exp_squared                               return to experience squared  \n",
       "shocks           sigma                shock on labor income sigma parameter/standard...  \n",
       "                 lambda                                   taste shock (scale) parameter  \n",
       "assets           interest_rate                                 interest rate on capital  \n",
       "                 initial_wealth_low   lowest level of initial wealth (relevant for s...  \n",
       "                 initial_wealth_high  highest level of initial wealth (relevant for ...  \n",
       "                 max_wealth                                     maximum level of wealth  \n",
       "                 consumption_floor    consumption floor/retirement safety net (only ...  "
      ]
     },
     "execution_count": 4,
     "metadata": {},
     "output_type": "execute_result"
    }
   ],
   "source": [
    "params = pd.read_csv(io.StringIO(params), index_col=[\"category\", \"name\"])\n",
    "params"
   ]
  },
  {
   "cell_type": "code",
   "execution_count": 5,
   "id": "14449c09",
   "metadata": {},
   "outputs": [],
   "source": [
    "params_dict = params_todict(params)"
   ]
  },
  {
   "cell_type": "code",
   "execution_count": 6,
   "id": "76867532",
   "metadata": {},
   "outputs": [],
   "source": [
    "options = \"\"\"n_periods: 25\n",
    "min_age: 20\n",
    "n_discrete_choices: 1\n",
    "grid_points_wealth: 100\n",
    "quadrature_points_stochastic: 10\n",
    "n_simulations: 10\n",
    "n_exog_processes: 1\n",
    "\"\"\""
   ]
  },
  {
   "cell_type": "code",
   "execution_count": 7,
   "id": "e08bd73d",
   "metadata": {},
   "outputs": [
    {
     "data": {
      "text/plain": [
       "{'n_periods': 25,\n",
       " 'min_age': 20,\n",
       " 'n_discrete_choices': 1,\n",
       " 'grid_points_wealth': 100,\n",
       " 'quadrature_points_stochastic': 10,\n",
       " 'n_simulations': 10,\n",
       " 'n_exog_processes': 1}"
      ]
     },
     "execution_count": 7,
     "metadata": {},
     "output_type": "execute_result"
    }
   ],
   "source": [
    "options = yaml.safe_load(options)\n",
    "options"
   ]
  },
  {
   "cell_type": "markdown",
   "id": "3450bb6c",
   "metadata": {},
   "source": [
    "## Specify inputs for function **marginal_util_and_exp_max_value_states_period**"
   ]
  },
  {
   "cell_type": "code",
   "execution_count": 8,
   "id": "bcd20083",
   "metadata": {},
   "outputs": [],
   "source": [
    "(\n",
    "    compute_utility,\n",
    "    compute_marginal_utility,\n",
    "    compute_inverse_marginal_utility,\n",
    "    compute_value,\n",
    "    compute_next_period_wealth,\n",
    "    transition_function,\n",
    ") = get_partial_functions(\n",
    "    params_dict,\n",
    "    options,\n",
    "    utility_functions,\n",
    "    budget_constraint,\n",
    "    get_transition_matrix_by_state,\n",
    ")"
   ]
  },
  {
   "cell_type": "code",
   "execution_count": 9,
   "id": "1997ae6e",
   "metadata": {},
   "outputs": [],
   "source": [
    "taste_shock_scale = 2.220400e-16\n",
    "exogenous_savings_grid = pickle.load(open(\"profiling_resources/exogenous_savings_grid.pkl\", \"rb\"))\n",
    "income_shock_draws = pickle.load(open(\"profiling_resources/income_shock_draws.pkl\", \"rb\"))\n",
    "income_shock_weights = pickle.load(open(\"profiling_resources/income_shock_weights.pkl\", \"rb\"))\n",
    "possible_child_states = pickle.load(open(\"profiling_resources/possible_child_states.pkl\", \"rb\"))\n",
    "choices_child_states = pickle.load(open(\"profiling_resources/choices_child_states.pkl\", \"rb\"))\n",
    "policies_child_states = pickle.load(open(\"profiling_resources/policies_child_states.pkl\", \"rb\"))\n",
    "values_child_states = pickle.load(open(\"profiling_resources/values_child_states.pkl\", \"rb\"))"
   ]
  },
  {
   "cell_type": "code",
   "execution_count": 10,
   "id": "48481afe",
   "metadata": {},
   "outputs": [
    {
     "name": "stderr",
     "output_type": "stream",
     "text": [
      "No GPU/TPU found, falling back to CPU. (Set TF_CPP_MIN_LOG_LEVEL=0 and rerun for more info.)\n"
     ]
    }
   ],
   "source": [
    "num_states = 5000\n",
    "states_repeated = jnp.repeat(possible_child_states, num_states, axis=0)\n",
    "choices_repeated = jnp.repeat(choices_child_states, num_states, axis=0)\n",
    "policies_repeated = jnp.repeat(policies_child_states, num_states, axis=0)\n",
    "values_repeated = jnp.repeat(values_child_states, num_states, axis=0)"
   ]
  },
  {
   "cell_type": "code",
   "execution_count": 11,
   "id": "af50b4a7",
   "metadata": {},
   "outputs": [],
   "source": [
    "num_savings_repeats = 5\n",
    "savings_repeated = jnp.repeat(exogenous_savings_grid, num_savings_repeats, axis=0)"
   ]
  },
  {
   "cell_type": "code",
   "execution_count": 16,
   "id": "2d7f33c7",
   "metadata": {},
   "outputs": [],
   "source": [
    "partial_func = partial(marginal_util_and_exp_max_value_states_period,\n",
    "    compute_next_period_wealth=compute_next_period_wealth,\n",
    "    compute_marginal_utility=compute_marginal_utility,\n",
    "    compute_value=compute_value)\n",
    "partil_jit = jax.jit(partial_func)"
   ]
  },
  {
   "cell_type": "code",
   "execution_count": 20,
   "id": "2ac25772",
   "metadata": {},
   "outputs": [
    {
     "name": "stdout",
     "output_type": "stream",
     "text": [
      "3.07 s ± 113 ms per loop (mean ± std. dev. of 7 runs, 1 loop each)\n"
     ]
    }
   ],
   "source": [
    "%%timeit\n",
    "marginal_util, max_exp_value = partil_jit(\n",
    "   taste_shock_scale=taste_shock_scale,\n",
    "   exogenous_savings_grid=savings_repeated,\n",
    "   income_shock_draws=income_shock_draws,\n",
    "   income_shock_weights=income_shock_weights,\n",
    "   possible_child_states=states_repeated,\n",
    "   choices_child_states=choices_repeated,\n",
    "   policies_child_states=policies_repeated,\n",
    "   values_child_states=values_repeated,\n",
    ")"
   ]
  },
  {
   "cell_type": "code",
   "execution_count": 30,
   "id": "4d65ae05",
   "metadata": {},
   "outputs": [],
   "source": [
    "import jax"
   ]
  },
  {
   "cell_type": "code",
   "execution_count": 49,
   "id": "c6265434",
   "metadata": {},
   "outputs": [
    {
     "name": "stdout",
     "output_type": "stream",
     "text": [
      "63.8 µs ± 7.52 µs per loop (mean ± std. dev. of 7 runs, 1 loop each)\n"
     ]
    }
   ],
   "source": [
    "int_inner = 10000\n",
    "int_outer = 50000\n",
    "def func_vmaped_0(non_arg):\n",
    "    for i in jnp.arange(int_inner):\n",
    "        result = i + 10\n",
    "    result = vmap(lambda a : a + 10, in_axes=(0))()\n",
    "    return result + non_arg\n",
    "\n",
    "outer_range = jnp.arange(int_outer)\n",
    "jitted_vmap = jax.jit(vmap(func_vmaped_0, in_axes=(0)))\n",
    "    \n",
    "%timeit jitted_vmap(np.arange(int_outer)).block_until_ready()"
   ]
  },
  {
   "cell_type": "code",
   "execution_count": null,
   "id": "3d0cb459",
   "metadata": {},
   "outputs": [],
   "source": [
    "int_inner = 10000\n",
    "int_outer = 50000\n",
    "def func_vmaped_2(non_arg)\n",
    "    range_inner = jnp.arange(int_inner) \n",
    "    result = vmap(lambda a : a + 10, in_axes=(0))(range_inner)\n",
    "    return result + non_arg\n",
    "\n",
    "outer_range = jnp.arange(int_outer)\n",
    "jitted_vmap = jax.jit(vmap(func_vmaped, in_axes=(0)))\n",
    "    \n",
    "%timeit jitted_vmap(np.arange(int_outer)).block_until_ready()"
   ]
  },
  {
   "cell_type": "code",
   "execution_count": 14,
   "id": "256a214f",
   "metadata": {
    "scrolled": true
   },
   "outputs": [
    {
     "name": "stderr",
     "output_type": "stream",
     "text": [
      "2023-02-17 15:43:05.707377: W tensorflow/compiler/xla/stream_executor/platform/default/dso_loader.cc:64] Could not load dynamic library 'libcudart.so.11.0'; dlerror: libcudart.so.11.0: cannot open shared object file: No such file or directory\n",
      "2023-02-17 15:43:07.792171: W tensorflow/compiler/xla/stream_executor/platform/default/dso_loader.cc:64] Could not load dynamic library 'libnvinfer.so.7'; dlerror: libnvinfer.so.7: cannot open shared object file: No such file or directory\n",
      "2023-02-17 15:43:07.792475: W tensorflow/compiler/xla/stream_executor/platform/default/dso_loader.cc:64] Could not load dynamic library 'libnvinfer_plugin.so.7'; dlerror: libnvinfer_plugin.so.7: cannot open shared object file: No such file or directory\n",
      "2023-02-17 15:43:07.792496: W tensorflow/compiler/tf2tensorrt/utils/py_utils.cc:38] TF-TRT Warning: Cannot dlopen some TensorRT libraries. If you would like to use Nvidia GPU with TensorRT, please make sure the missing libraries mentioned above are installed properly.\n"
     ]
    },
    {
     "name": "stdout",
     "output_type": "stream",
     "text": [
      "Open URL in browser: https://ui.perfetto.dev/#!/?url=http://127.0.0.1:9001/perfetto_trace.json.gz\n"
     ]
    },
    {
     "name": "stderr",
     "output_type": "stream",
     "text": [
      "127.0.0.1 - - [17/Feb/2023 15:46:17] code 404, message File not found\n",
      "127.0.0.1 - - [17/Feb/2023 15:46:17] \"POST /status HTTP/1.1\" 404 -\n",
      "127.0.0.1 - - [17/Feb/2023 15:46:18] \"GET /perfetto_trace.json.gz HTTP/1.1\" 200 -\n"
     ]
    }
   ],
   "source": [
    "with jax.profiler.trace(\"jax-trace\", create_perfetto_link=True):\n",
    "    marginal_util, max_exp_value = marginal_util_and_exp_max_value_states_period(\n",
    "        compute_next_period_wealth,\n",
    "        compute_marginal_utility,\n",
    "        compute_value,\n",
    "        taste_shock_scale,\n",
    "        savings_repeated,\n",
    "        income_shock_draws,\n",
    "        income_shock_weights,\n",
    "        states_repeated,\n",
    "        choices_repeated,\n",
    "        policies_repeated,\n",
    "        values_repeated,\n",
    "    )"
   ]
  },
  {
   "cell_type": "code",
   "execution_count": 1,
   "id": "7ca58d51",
   "metadata": {},
   "outputs": [],
   "source": [
    "# use jax profiler\n",
    "def profiled_marginal_util_and_exp_max_value_states_period(\n",
    "    compute_next_period_wealth,\n",
    "    compute_marginal_utility,\n",
    "    compute_value,\n",
    "    taste_shock_scale,\n",
    "    exogenous_savings_grid,\n",
    "    income_shock_draws,\n",
    "    income_shock_weights,\n",
    "    possible_child_states,\n",
    "    choices_child_states,\n",
    "    policies_child_states,\n",
    "    values_child_states,\n",
    "):\n",
    "    return profiler.call(\n",
    "        marginal_util_and_exp_max_value_states_period,\n",
    "        compute_next_period_wealth,\n",
    "        compute_marginal_utility,\n",
    "        compute_value,\n",
    "        taste_shock_scale,\n",
    "        exogenous_savings_grid,\n",
    "        income_shock_draws,\n",
    "        income_shock_weights,\n",
    "        possible_child_states,\n",
    "        choices_child_states,\n",
    "        policies_child_states,\n",
    "        values_child_states,\n",
    "    )"
   ]
  },
  {
   "cell_type": "code",
   "execution_count": 12,
   "id": "e8f77856",
   "metadata": {},
   "outputs": [
    {
     "ename": "ValueError",
     "evalue": "Invalid trace folder: /tmp/jax-trace/plugins/profile/2023_02_15_11_28_40",
     "output_type": "error",
     "traceback": [
      "\u001B[0;31m---------------------------------------------------------------------------\u001B[0m",
      "\u001B[0;31mNameError\u001B[0m                                 Traceback (most recent call last)",
      "File \u001B[0;32m~/opt/anaconda3/envs/dcegm/lib/python3.9/site-packages/jax/_src/profiler.py:235\u001B[0m, in \u001B[0;36mtrace\u001B[0;34m(log_dir, create_perfetto_link, create_perfetto_trace)\u001B[0m\n\u001B[1;32m    234\u001B[0m \u001B[38;5;28;01mtry\u001B[39;00m:\n\u001B[0;32m--> 235\u001B[0m   \u001B[38;5;28;01myield\u001B[39;00m\n\u001B[1;32m    236\u001B[0m \u001B[38;5;28;01mfinally\u001B[39;00m:\n",
      "Cell \u001B[0;32mIn [12], line 3\u001B[0m\n\u001B[1;32m      1\u001B[0m \u001B[38;5;28;01mwith\u001B[39;00m jax\u001B[38;5;241m.\u001B[39mprofiler\u001B[38;5;241m.\u001B[39mtrace(\u001B[38;5;124m\"\u001B[39m\u001B[38;5;124m/tmp/jax-trace\u001B[39m\u001B[38;5;124m\"\u001B[39m, create_perfetto_link\u001B[38;5;241m=\u001B[39m\u001B[38;5;28;01mTrue\u001B[39;00m):\n\u001B[0;32m----> 3\u001B[0m     result \u001B[38;5;241m=\u001B[39m \u001B[43mprofiled_marginal_util_and_exp_max_value_states_period\u001B[49m(\n\u001B[1;32m      4\u001B[0m         compute_next_period_wealth,\n\u001B[1;32m      5\u001B[0m         compute_marginal_utility,\n\u001B[1;32m      6\u001B[0m         compute_value,\n\u001B[1;32m      7\u001B[0m         taste_shock_scale,\n\u001B[1;32m      8\u001B[0m         exogenous_savings_grid,\n\u001B[1;32m      9\u001B[0m         income_shock_draws,\n\u001B[1;32m     10\u001B[0m         income_shock_weights,\n\u001B[1;32m     11\u001B[0m         possible_child_states,\n\u001B[1;32m     12\u001B[0m         choices_child_states,\n\u001B[1;32m     13\u001B[0m         policies_child_states,\n\u001B[1;32m     14\u001B[0m         values_child_states,\n\u001B[1;32m     15\u001B[0m     )\n\u001B[1;32m     16\u001B[0m     result\u001B[38;5;241m.\u001B[39mblock_until_ready()\n",
      "\u001B[0;31mNameError\u001B[0m: name 'profiled_marginal_util_and_exp_max_value_states_period' is not defined",
      "\nDuring handling of the above exception, another exception occurred:\n",
      "\u001B[0;31mValueError\u001B[0m                                Traceback (most recent call last)",
      "Cell \u001B[0;32mIn [12], line 16\u001B[0m\n\u001B[1;32m      1\u001B[0m \u001B[38;5;28;01mwith\u001B[39;00m jax\u001B[38;5;241m.\u001B[39mprofiler\u001B[38;5;241m.\u001B[39mtrace(\u001B[38;5;124m\"\u001B[39m\u001B[38;5;124m/tmp/jax-trace\u001B[39m\u001B[38;5;124m\"\u001B[39m, create_perfetto_link\u001B[38;5;241m=\u001B[39m\u001B[38;5;28;01mTrue\u001B[39;00m):\n\u001B[1;32m      3\u001B[0m     result \u001B[38;5;241m=\u001B[39m profiled_marginal_util_and_exp_max_value_states_period(\n\u001B[1;32m      4\u001B[0m         compute_next_period_wealth,\n\u001B[1;32m      5\u001B[0m         compute_marginal_utility,\n\u001B[0;32m   (...)\u001B[0m\n\u001B[1;32m     14\u001B[0m         values_child_states,\n\u001B[1;32m     15\u001B[0m     )\n\u001B[0;32m---> 16\u001B[0m     result\u001B[38;5;241m.\u001B[39mblock_until_ready()\n",
      "File \u001B[0;32m~/opt/anaconda3/envs/dcegm/lib/python3.9/contextlib.py:137\u001B[0m, in \u001B[0;36m_GeneratorContextManager.__exit__\u001B[0;34m(self, typ, value, traceback)\u001B[0m\n\u001B[1;32m    135\u001B[0m     value \u001B[38;5;241m=\u001B[39m typ()\n\u001B[1;32m    136\u001B[0m \u001B[38;5;28;01mtry\u001B[39;00m:\n\u001B[0;32m--> 137\u001B[0m     \u001B[38;5;28;43mself\u001B[39;49m\u001B[38;5;241;43m.\u001B[39;49m\u001B[43mgen\u001B[49m\u001B[38;5;241;43m.\u001B[39;49m\u001B[43mthrow\u001B[49m\u001B[43m(\u001B[49m\u001B[43mtyp\u001B[49m\u001B[43m,\u001B[49m\u001B[43m \u001B[49m\u001B[43mvalue\u001B[49m\u001B[43m,\u001B[49m\u001B[43m \u001B[49m\u001B[43mtraceback\u001B[49m\u001B[43m)\u001B[49m\n\u001B[1;32m    138\u001B[0m \u001B[38;5;28;01mexcept\u001B[39;00m \u001B[38;5;167;01mStopIteration\u001B[39;00m \u001B[38;5;28;01mas\u001B[39;00m exc:\n\u001B[1;32m    139\u001B[0m     \u001B[38;5;66;03m# Suppress StopIteration *unless* it's the same exception that\u001B[39;00m\n\u001B[1;32m    140\u001B[0m     \u001B[38;5;66;03m# was passed to throw().  This prevents a StopIteration\u001B[39;00m\n\u001B[1;32m    141\u001B[0m     \u001B[38;5;66;03m# raised inside the \"with\" statement from being suppressed.\u001B[39;00m\n\u001B[1;32m    142\u001B[0m     \u001B[38;5;28;01mreturn\u001B[39;00m exc \u001B[38;5;129;01mis\u001B[39;00m \u001B[38;5;129;01mnot\u001B[39;00m value\n",
      "File \u001B[0;32m~/opt/anaconda3/envs/dcegm/lib/python3.9/site-packages/jax/_src/profiler.py:237\u001B[0m, in \u001B[0;36mtrace\u001B[0;34m(log_dir, create_perfetto_link, create_perfetto_trace)\u001B[0m\n\u001B[1;32m    235\u001B[0m   \u001B[38;5;28;01myield\u001B[39;00m\n\u001B[1;32m    236\u001B[0m \u001B[38;5;28;01mfinally\u001B[39;00m:\n\u001B[0;32m--> 237\u001B[0m   \u001B[43mstop_trace\u001B[49m\u001B[43m(\u001B[49m\u001B[43m)\u001B[49m\n",
      "File \u001B[0;32m~/opt/anaconda3/envs/dcegm/lib/python3.9/site-packages/jax/_src/profiler.py:198\u001B[0m, in \u001B[0;36mstop_trace\u001B[0;34m()\u001B[0m\n\u001B[1;32m    196\u001B[0m _profile_state\u001B[38;5;241m.\u001B[39mprofile_session\u001B[38;5;241m.\u001B[39mstop_and_export(_profile_state\u001B[38;5;241m.\u001B[39mlog_dir)\n\u001B[1;32m    197\u001B[0m \u001B[38;5;28;01mif\u001B[39;00m _profile_state\u001B[38;5;241m.\u001B[39mcreate_perfetto_trace:\n\u001B[0;32m--> 198\u001B[0m   abs_filename \u001B[38;5;241m=\u001B[39m \u001B[43m_write_perfetto_trace_file\u001B[49m\u001B[43m(\u001B[49m\u001B[43m_profile_state\u001B[49m\u001B[38;5;241;43m.\u001B[39;49m\u001B[43mlog_dir\u001B[49m\u001B[43m)\u001B[49m\n\u001B[1;32m    199\u001B[0m   \u001B[38;5;28;01mif\u001B[39;00m _profile_state\u001B[38;5;241m.\u001B[39mcreate_perfetto_link:\n\u001B[1;32m    200\u001B[0m     _host_perfetto_trace_file(abs_filename)\n",
      "File \u001B[0;32m~/opt/anaconda3/envs/dcegm/lib/python3.9/site-packages/jax/_src/profiler.py:135\u001B[0m, in \u001B[0;36m_write_perfetto_trace_file\u001B[0;34m(log_dir)\u001B[0m\n\u001B[1;32m    133\u001B[0m trace_jsons \u001B[38;5;241m=\u001B[39m glob\u001B[38;5;241m.\u001B[39mglob(os\u001B[38;5;241m.\u001B[39mpath\u001B[38;5;241m.\u001B[39mjoin(latest_folder, \u001B[38;5;124m\"\u001B[39m\u001B[38;5;124m*.trace.json.gz\u001B[39m\u001B[38;5;124m\"\u001B[39m))\n\u001B[1;32m    134\u001B[0m \u001B[38;5;28;01mif\u001B[39;00m \u001B[38;5;28mlen\u001B[39m(trace_jsons) \u001B[38;5;241m!=\u001B[39m \u001B[38;5;241m1\u001B[39m:\n\u001B[0;32m--> 135\u001B[0m   \u001B[38;5;28;01mraise\u001B[39;00m \u001B[38;5;167;01mValueError\u001B[39;00m(\u001B[38;5;124mf\u001B[39m\u001B[38;5;124m\"\u001B[39m\u001B[38;5;124mInvalid trace folder: \u001B[39m\u001B[38;5;132;01m{\u001B[39;00mlatest_folder\u001B[38;5;132;01m}\u001B[39;00m\u001B[38;5;124m\"\u001B[39m)\n\u001B[1;32m    136\u001B[0m trace_json, \u001B[38;5;241m=\u001B[39m trace_jsons\n\u001B[1;32m    138\u001B[0m logger\u001B[38;5;241m.\u001B[39minfo(\u001B[38;5;124m\"\u001B[39m\u001B[38;5;124mLoading trace.json.gz and removing its metadata...\u001B[39m\u001B[38;5;124m\"\u001B[39m)\n",
      "\u001B[0;31mValueError\u001B[0m: Invalid trace folder: /tmp/jax-trace/plugins/profile/2023_02_15_11_28_40"
     ]
    }
   ],
   "source": [
    "with jax.profiler.trace(\"/tmp/jax-trace\", create_perfetto_link=True):\n",
    "\n",
    "    result = profiled_marginal_util_and_exp_max_value_states_period(\n",
    "        compute_next_period_wealth,\n",
    "        compute_marginal_utility,\n",
    "        compute_value,\n",
    "        taste_shock_scale,\n",
    "        exogenous_savings_grid,\n",
    "        income_shock_draws,\n",
    "        income_shock_weights,\n",
    "        possible_child_states,\n",
    "        choices_child_states,\n",
    "        policies_child_states,\n",
    "        values_child_states,\n",
    "    )\n",
    "    result.block_until_ready()"
   ]
  },
  {
   "cell_type": "code",
   "execution_count": 19,
   "id": "ff495dd6",
   "metadata": {},
   "outputs": [
    {
     "name": "stdout",
     "output_type": "stream",
     "text": [
      "Collecting tensorflow\n",
      "  Downloading tensorflow-2.11.0-cp39-cp39-macosx_10_14_x86_64.whl (244.3 MB)\n",
      "\u001B[2K     \u001B[90m━━━━━━━━━━━━━━━━━━━━━━━━━━━━━━━━━━━━━━━\u001B[0m \u001B[32m244.3/244.3 MB\u001B[0m \u001B[31m2.7 MB/s\u001B[0m eta \u001B[36m0:00:00\u001B[0m00:01\u001B[0m00:01\u001B[0m\n",
      "\u001B[?25hCollecting tensorboard-plugin-profile\n",
      "  Downloading tensorboard_plugin_profile-2.11.1-py3-none-any.whl (5.4 MB)\n",
      "\u001B[2K     \u001B[90m━━━━━━━━━━━━━━━━━━━━━━━━━━━━━━━━━━━━━━━━\u001B[0m \u001B[32m5.4/5.4 MB\u001B[0m \u001B[31m6.9 MB/s\u001B[0m eta \u001B[36m0:00:00\u001B[0m00:01\u001B[0m00:01\u001B[0mm\n",
      "\u001B[?25hCollecting tensorflow-io-gcs-filesystem>=0.23.1\n",
      "  Downloading tensorflow_io_gcs_filesystem-0.30.0-cp39-cp39-macosx_10_14_x86_64.whl (1.6 MB)\n",
      "\u001B[2K     \u001B[90m━━━━━━━━━━━━━━━━━━━━━━━━━━━━━━━━━━━━━━━━\u001B[0m \u001B[32m1.6/1.6 MB\u001B[0m \u001B[31m7.2 MB/s\u001B[0m eta \u001B[36m0:00:00\u001B[0ma \u001B[36m0:00:01\u001B[0mm\n",
      "\u001B[?25hCollecting tensorboard<2.12,>=2.11\n",
      "  Downloading tensorboard-2.11.2-py3-none-any.whl (6.0 MB)\n",
      "\u001B[2K     \u001B[90m━━━━━━━━━━━━━━━━━━━━━━━━━━━━━━━━━━━━━━━━\u001B[0m \u001B[32m6.0/6.0 MB\u001B[0m \u001B[31m6.8 MB/s\u001B[0m eta \u001B[36m0:00:00\u001B[0m00:01\u001B[0m00:01\u001B[0m\n",
      "\u001B[?25hCollecting google-pasta>=0.1.1\n",
      "  Downloading google_pasta-0.2.0-py3-none-any.whl (57 kB)\n",
      "\u001B[2K     \u001B[90m━━━━━━━━━━━━━━━━━━━━━━━━━━━━━━━━━━━━━━━━\u001B[0m \u001B[32m57.5/57.5 kB\u001B[0m \u001B[31m1.8 MB/s\u001B[0m eta \u001B[36m0:00:00\u001B[0m\n",
      "\u001B[?25hCollecting libclang>=13.0.0\n",
      "  Downloading libclang-15.0.6.1-py2.py3-none-macosx_10_9_x86_64.whl (25.0 MB)\n",
      "\u001B[2K     \u001B[90m━━━━━━━━━━━━━━━━━━━━━━━━━━━━━━━━━━━━━━━━\u001B[0m \u001B[32m25.0/25.0 MB\u001B[0m \u001B[31m6.7 MB/s\u001B[0m eta \u001B[36m0:00:00\u001B[0m00:01\u001B[0m00:01\u001B[0m\n",
      "\u001B[?25hCollecting astunparse>=1.6.0\n",
      "  Downloading astunparse-1.6.3-py2.py3-none-any.whl (12 kB)\n",
      "Collecting h5py>=2.9.0\n",
      "  Downloading h5py-3.8.0-cp39-cp39-macosx_10_9_x86_64.whl (3.2 MB)\n",
      "\u001B[2K     \u001B[90m━━━━━━━━━━━━━━━━━━━━━━━━━━━━━━━━━━━━━━━━\u001B[0m \u001B[32m3.2/3.2 MB\u001B[0m \u001B[31m6.7 MB/s\u001B[0m eta \u001B[36m0:00:00\u001B[0m00:01\u001B[0m00:01\u001B[0m\n",
      "\u001B[?25hCollecting absl-py>=1.0.0\n",
      "  Downloading absl_py-1.4.0-py3-none-any.whl (126 kB)\n",
      "\u001B[2K     \u001B[90m━━━━━━━━━━━━━━━━━━━━━━━━━━━━━━━━━━━━━━━\u001B[0m \u001B[32m126.5/126.5 kB\u001B[0m \u001B[31m3.0 MB/s\u001B[0m eta \u001B[36m0:00:00\u001B[0ma \u001B[36m0:00:01\u001B[0m\n",
      "\u001B[?25hCollecting gast<=0.4.0,>=0.2.1\n",
      "  Downloading gast-0.4.0-py3-none-any.whl (9.8 kB)\n",
      "Requirement already satisfied: setuptools in /Users/viktoriakleinschmidt/opt/anaconda3/envs/dcegm/lib/python3.9/site-packages (from tensorflow) (65.5.1)\n",
      "Requirement already satisfied: typing-extensions>=3.6.6 in /Users/viktoriakleinschmidt/opt/anaconda3/envs/dcegm/lib/python3.9/site-packages (from tensorflow) (4.4.0)\n",
      "Collecting flatbuffers>=2.0\n",
      "  Downloading flatbuffers-23.1.21-py2.py3-none-any.whl (26 kB)\n",
      "Collecting wrapt>=1.11.0\n",
      "  Downloading wrapt-1.14.1-cp39-cp39-macosx_10_9_x86_64.whl (35 kB)\n",
      "Requirement already satisfied: packaging in /Users/viktoriakleinschmidt/opt/anaconda3/envs/dcegm/lib/python3.9/site-packages (from tensorflow) (21.3)\n",
      "Collecting tensorflow-estimator<2.12,>=2.11.0\n",
      "  Downloading tensorflow_estimator-2.11.0-py2.py3-none-any.whl (439 kB)\n",
      "\u001B[2K     \u001B[90m━━━━━━━━━━━━━━━━━━━━━━━━━━━━━━━━━━━━━━━\u001B[0m \u001B[32m439.2/439.2 kB\u001B[0m \u001B[31m5.8 MB/s\u001B[0m eta \u001B[36m0:00:00\u001B[0ma \u001B[36m0:00:01\u001B[0m\n",
      "\u001B[?25hCollecting protobuf<3.20,>=3.9.2\n",
      "  Downloading protobuf-3.19.6-cp39-cp39-macosx_10_9_x86_64.whl (980 kB)\n",
      "\u001B[2K     \u001B[90m━━━━━━━━━━━━━━━━━━━━━━━━━━━━━━━━━━━━━━━\u001B[0m \u001B[32m980.5/980.5 kB\u001B[0m \u001B[31m6.3 MB/s\u001B[0m eta \u001B[36m0:00:00\u001B[0ma \u001B[36m0:00:01\u001B[0m\n",
      "\u001B[?25hCollecting termcolor>=1.1.0\n",
      "  Downloading termcolor-2.2.0-py3-none-any.whl (6.6 kB)\n",
      "Collecting keras<2.12,>=2.11.0\n",
      "  Downloading keras-2.11.0-py2.py3-none-any.whl (1.7 MB)\n",
      "\u001B[2K     \u001B[90m━━━━━━━━━━━━━━━━━━━━━━━━━━━━━━━━━━━━━━━━\u001B[0m \u001B[32m1.7/1.7 MB\u001B[0m \u001B[31m6.7 MB/s\u001B[0m eta \u001B[36m0:00:00\u001B[0m00:01\u001B[0m00:01\u001B[0m\n",
      "\u001B[?25hRequirement already satisfied: six>=1.12.0 in /Users/viktoriakleinschmidt/opt/anaconda3/envs/dcegm/lib/python3.9/site-packages (from tensorflow) (1.16.0)\n",
      "Requirement already satisfied: numpy>=1.20 in /Users/viktoriakleinschmidt/opt/anaconda3/envs/dcegm/lib/python3.9/site-packages (from tensorflow) (1.23.5)\n",
      "Requirement already satisfied: opt-einsum>=2.3.2 in /Users/viktoriakleinschmidt/opt/anaconda3/envs/dcegm/lib/python3.9/site-packages (from tensorflow) (3.3.0)\n",
      "Collecting grpcio<2.0,>=1.24.3\n",
      "  Downloading grpcio-1.51.1-cp39-cp39-macosx_10_10_x86_64.whl (4.6 MB)\n",
      "\u001B[2K     \u001B[90m━━━━━━━━━━━━━━━━━━━━━━━━━━━━━━━━━━━━━━━━\u001B[0m \u001B[32m4.6/4.6 MB\u001B[0m \u001B[31m6.8 MB/s\u001B[0m eta \u001B[36m0:00:00\u001B[0m00:01\u001B[0m00:01\u001B[0m\n",
      "\u001B[?25hCollecting werkzeug>=0.11.15\n",
      "  Downloading Werkzeug-2.2.3-py3-none-any.whl (233 kB)\n",
      "\u001B[2K     \u001B[90m━━━━━━━━━━━━━━━━━━━━━━━━━━━━━━━━━━━━━━━\u001B[0m \u001B[32m233.6/233.6 kB\u001B[0m \u001B[31m4.2 MB/s\u001B[0m eta \u001B[36m0:00:00\u001B[0ma \u001B[36m0:00:01\u001B[0m\n",
      "\u001B[?25hCollecting gviz-api>=1.9.0\n",
      "  Downloading gviz_api-1.10.0-py2.py3-none-any.whl (13 kB)\n",
      "Requirement already satisfied: wheel<1.0,>=0.23.0 in /Users/viktoriakleinschmidt/opt/anaconda3/envs/dcegm/lib/python3.9/site-packages (from astunparse>=1.6.0->tensorflow) (0.38.4)\n",
      "Collecting google-auth-oauthlib<0.5,>=0.4.1\n",
      "  Downloading google_auth_oauthlib-0.4.6-py2.py3-none-any.whl (18 kB)\n",
      "Collecting markdown>=2.6.8\n",
      "  Downloading Markdown-3.4.1-py3-none-any.whl (93 kB)\n",
      "\u001B[2K     \u001B[90m━━━━━━━━━━━━━━━━━━━━━━━━━━━━━━━━━━━━━━━━\u001B[0m \u001B[32m93.3/93.3 kB\u001B[0m \u001B[31m3.4 MB/s\u001B[0m eta \u001B[36m0:00:00\u001B[0m\n",
      "\u001B[?25hCollecting google-auth<3,>=1.6.3\n",
      "  Downloading google_auth-2.16.0-py2.py3-none-any.whl (177 kB)\n",
      "\u001B[2K     \u001B[90m━━━━━━━━━━━━━━━━━━━━━━━━━━━━━━━━━━━━━━━\u001B[0m \u001B[32m177.8/177.8 kB\u001B[0m \u001B[31m4.7 MB/s\u001B[0m eta \u001B[36m0:00:00\u001B[0m\n",
      "\u001B[?25hCollecting tensorboard-plugin-wit>=1.6.0\n",
      "  Downloading tensorboard_plugin_wit-1.8.1-py3-none-any.whl (781 kB)\n",
      "\u001B[2K     \u001B[90m━━━━━━━━━━━━━━━━━━━━━━━━━━━━━━━━━━━━━━━\u001B[0m \u001B[32m781.3/781.3 kB\u001B[0m \u001B[31m5.9 MB/s\u001B[0m eta \u001B[36m0:00:00\u001B[0m00:01\u001B[0m00:01\u001B[0m\n",
      "\u001B[?25hCollecting tensorboard-data-server<0.7.0,>=0.6.0\n",
      "  Downloading tensorboard_data_server-0.6.1-py3-none-macosx_10_9_x86_64.whl (3.5 MB)\n",
      "\u001B[2K     \u001B[90m━━━━━━━━━━━━━━━━━━━━━━━━━━━━━━━━━━━━━━━━\u001B[0m \u001B[32m3.5/3.5 MB\u001B[0m \u001B[31m6.9 MB/s\u001B[0m eta \u001B[36m0:00:00\u001B[0m00:01\u001B[0m00:01\u001B[0m\n",
      "\u001B[?25hRequirement already satisfied: requests<3,>=2.21.0 in /Users/viktoriakleinschmidt/opt/anaconda3/envs/dcegm/lib/python3.9/site-packages (from tensorboard<2.12,>=2.11->tensorflow) (2.28.1)\n",
      "Requirement already satisfied: MarkupSafe>=2.1.1 in /Users/viktoriakleinschmidt/opt/anaconda3/envs/dcegm/lib/python3.9/site-packages (from werkzeug>=0.11.15->tensorboard-plugin-profile) (2.1.1)\n",
      "Requirement already satisfied: pyparsing!=3.0.5,>=2.0.2 in /Users/viktoriakleinschmidt/opt/anaconda3/envs/dcegm/lib/python3.9/site-packages (from packaging->tensorflow) (3.0.9)\n",
      "Collecting cachetools<6.0,>=2.0.0\n",
      "  Downloading cachetools-5.3.0-py3-none-any.whl (9.3 kB)\n",
      "Collecting pyasn1-modules>=0.2.1\n",
      "  Downloading pyasn1_modules-0.2.8-py2.py3-none-any.whl (155 kB)\n",
      "\u001B[2K     \u001B[90m━━━━━━━━━━━━━━━━━━━━━━━━━━━━━━━━━━━━━━━\u001B[0m \u001B[32m155.3/155.3 kB\u001B[0m \u001B[31m5.1 MB/s\u001B[0m eta \u001B[36m0:00:00\u001B[0m\n",
      "\u001B[?25hCollecting rsa<5,>=3.1.4\n",
      "  Downloading rsa-4.9-py3-none-any.whl (34 kB)\n",
      "Collecting requests-oauthlib>=0.7.0\n",
      "  Downloading requests_oauthlib-1.3.1-py2.py3-none-any.whl (23 kB)\n",
      "Requirement already satisfied: importlib-metadata>=4.4 in /Users/viktoriakleinschmidt/opt/anaconda3/envs/dcegm/lib/python3.9/site-packages (from markdown>=2.6.8->tensorboard<2.12,>=2.11->tensorflow) (5.1.0)\n",
      "Requirement already satisfied: certifi>=2017.4.17 in /Users/viktoriakleinschmidt/opt/anaconda3/envs/dcegm/lib/python3.9/site-packages (from requests<3,>=2.21.0->tensorboard<2.12,>=2.11->tensorflow) (2022.9.24)\n",
      "Requirement already satisfied: charset-normalizer<3,>=2 in /Users/viktoriakleinschmidt/opt/anaconda3/envs/dcegm/lib/python3.9/site-packages (from requests<3,>=2.21.0->tensorboard<2.12,>=2.11->tensorflow) (2.1.1)\n",
      "Requirement already satisfied: idna<4,>=2.5 in /Users/viktoriakleinschmidt/opt/anaconda3/envs/dcegm/lib/python3.9/site-packages (from requests<3,>=2.21.0->tensorboard<2.12,>=2.11->tensorflow) (3.4)\n",
      "Requirement already satisfied: urllib3<1.27,>=1.21.1 in /Users/viktoriakleinschmidt/opt/anaconda3/envs/dcegm/lib/python3.9/site-packages (from requests<3,>=2.21.0->tensorboard<2.12,>=2.11->tensorflow) (1.26.13)\n",
      "Requirement already satisfied: zipp>=0.5 in /Users/viktoriakleinschmidt/opt/anaconda3/envs/dcegm/lib/python3.9/site-packages (from importlib-metadata>=4.4->markdown>=2.6.8->tensorboard<2.12,>=2.11->tensorflow) (3.11.0)\n",
      "Collecting pyasn1<0.5.0,>=0.4.6\n",
      "  Downloading pyasn1-0.4.8-py2.py3-none-any.whl (77 kB)\n"
     ]
    },
    {
     "name": "stdout",
     "output_type": "stream",
     "text": [
      "\u001B[2K     \u001B[90m━━━━━━━━━━━━━━━━━━━━━━━━━━━━━━━━━━━━━━━━\u001B[0m \u001B[32m77.1/77.1 kB\u001B[0m \u001B[31m2.8 MB/s\u001B[0m eta \u001B[36m0:00:00\u001B[0m\n",
      "\u001B[?25hCollecting oauthlib>=3.0.0\n",
      "  Downloading oauthlib-3.2.2-py3-none-any.whl (151 kB)\n",
      "\u001B[2K     \u001B[90m━━━━━━━━━━━━━━━━━━━━━━━━━━━━━━━━━━━━━━━\u001B[0m \u001B[32m151.7/151.7 kB\u001B[0m \u001B[31m4.2 MB/s\u001B[0m eta \u001B[36m0:00:00\u001B[0m\n",
      "\u001B[?25hInstalling collected packages: tensorboard-plugin-wit, pyasn1, libclang, flatbuffers, wrapt, werkzeug, termcolor, tensorflow-io-gcs-filesystem, tensorflow-estimator, tensorboard-data-server, rsa, pyasn1-modules, protobuf, oauthlib, keras, h5py, gviz-api, grpcio, google-pasta, gast, cachetools, astunparse, absl-py, tensorboard-plugin-profile, requests-oauthlib, markdown, google-auth, google-auth-oauthlib, tensorboard, tensorflow\n",
      "Successfully installed absl-py-1.4.0 astunparse-1.6.3 cachetools-5.3.0 flatbuffers-23.1.21 gast-0.4.0 google-auth-2.16.0 google-auth-oauthlib-0.4.6 google-pasta-0.2.0 grpcio-1.51.1 gviz-api-1.10.0 h5py-3.8.0 keras-2.11.0 libclang-15.0.6.1 markdown-3.4.1 oauthlib-3.2.2 protobuf-3.19.6 pyasn1-0.4.8 pyasn1-modules-0.2.8 requests-oauthlib-1.3.1 rsa-4.9 tensorboard-2.11.2 tensorboard-data-server-0.6.1 tensorboard-plugin-profile-2.11.1 tensorboard-plugin-wit-1.8.1 tensorflow-2.11.0 tensorflow-estimator-2.11.0 tensorflow-io-gcs-filesystem-0.30.0 termcolor-2.2.0 werkzeug-2.2.3 wrapt-1.14.1\n",
      "Note: you may need to restart the kernel to use updated packages.\n"
     ]
    }
   ],
   "source": [
    "pip install tensorflow tensorboard-plugin-profile"
   ]
  },
  {
   "cell_type": "code",
   "execution_count": 23,
   "id": "7365f51d",
   "metadata": {},
   "outputs": [
    {
     "name": "stderr",
     "output_type": "stream",
     "text": [
      "WARNING:tensorflow:From /Users/viktoriakleinschmidt/opt/anaconda3/envs/dcegm/lib/python3.9/site-packages/tensorflow/python/ops/summary_ops_v2.py:1332: start (from tensorflow.python.eager.profiler) is deprecated and will be removed after 2020-07-01.\n",
      "Instructions for updating:\n",
      "use `tf.profiler.experimental.start` instead.\n",
      "WARNING:tensorflow:From /Users/viktoriakleinschmidt/opt/anaconda3/envs/dcegm/lib/python3.9/site-packages/tensorflow/python/ops/summary_ops_v2.py:1383: stop (from tensorflow.python.eager.profiler) is deprecated and will be removed after 2020-07-01.\n",
      "Instructions for updating:\n",
      "use `tf.profiler.experimental.stop` instead.\n",
      "WARNING:tensorflow:From /Users/viktoriakleinschmidt/opt/anaconda3/envs/dcegm/lib/python3.9/site-packages/tensorflow/python/ops/summary_ops_v2.py:1383: save (from tensorflow.python.eager.profiler) is deprecated and will be removed after 2020-07-01.\n",
      "Instructions for updating:\n",
      "`tf.python.eager.profiler` has deprecated, use `tf.profiler` instead.\n",
      "WARNING:tensorflow:From /Users/viktoriakleinschmidt/opt/anaconda3/envs/dcegm/lib/python3.9/site-packages/tensorflow/python/eager/profiler.py:150: maybe_create_event_file (from tensorflow.python.eager.profiler) is deprecated and will be removed after 2020-07-01.\n",
      "Instructions for updating:\n",
      "`tf.python.eager.profiler` has deprecated, use `tf.profiler` instead.\n"
     ]
    }
   ],
   "source": [
    "# from ChatGPT conversation\n",
    "import tensorflow as tf\n",
    "from jax import jit\n",
    "# Trace the function to create a computation graph\n",
    "traced_computation = jit(profiled_marginal_util_and_exp_max_value_states_period)\n",
    "# Use TensorBoard to visualize the computation graph\n",
    "with tf.summary.create_file_writer(\"logs\").as_default():\n",
    "    tf.summary.trace_on(graph=True, profiler=True)\n",
    "    marginal_util, max_exp_value = marginal_util_and_exp_max_value_states_period(\n",
    "        compute_next_period_wealth,\n",
    "        compute_marginal_utility,\n",
    "        compute_value,\n",
    "        taste_shock_scale,\n",
    "        savings_repeated,\n",
    "        income_shock_draws,\n",
    "        income_shock_weights,\n",
    "        states_repeated,\n",
    "        choices_repeated,\n",
    "        policies_repeated,\n",
    "        values_repeated,\n",
    "    )\n",
    "    with tf.summary.record_if(True):\n",
    "        tf.summary.trace_export(\n",
    "            name=\"my_computation_graph\",\n",
    "            step=0,\n",
    "            profiler_outdir=\"logs\"\n",
    "        )\n"
   ]
  },
  {
   "cell_type": "code",
   "execution_count": 30,
   "id": "116e647c",
   "metadata": {},
   "outputs": [
    {
     "ename": "TypeError",
     "evalue": "Cannot interpret '<CompiledFunction of functools.partial(<function budget_constraint at 0x13fdb4ee0>, params_dict={'beta': 0.95, 'delta': 0.0, 'theta': 1.0, 'constant': 0.75, 'exp': 0.04, 'exp_squared': -0.0004, 'sigma': 0.25, 'lambda': 2.2204e-16, 'interest_rate': 0.05, 'initial_wealth_low': 0.0, 'initial_wealth_high': 30.0, 'max_wealth': 75.0, 'consumption_floor': 0.0}, options={'n_periods': 25, 'min_age': 20, 'n_discrete_choices': 1, 'grid_points_wealth': 100, 'quadrature_points_stochastic': 10, 'n_simulations': 10, 'n_exog_processes': 1})>' as a data type",
     "output_type": "error",
     "traceback": [
      "\u001B[0;31m---------------------------------------------------------------------------\u001B[0m",
      "\u001B[0;31mKeyError\u001B[0m                                  Traceback (most recent call last)",
      "File \u001B[0;32m~/opt/anaconda3/envs/dcegm/lib/python3.9/site-packages/jax/_src/api_util.py:450\u001B[0m, in \u001B[0;36mshaped_abstractify\u001B[0;34m(x)\u001B[0m\n\u001B[1;32m    449\u001B[0m \u001B[38;5;28;01mtry\u001B[39;00m:\n\u001B[0;32m--> 450\u001B[0m   \u001B[38;5;28;01mreturn\u001B[39;00m \u001B[43m_shaped_abstractify_handlers\u001B[49m\u001B[43m[\u001B[49m\u001B[38;5;28;43mtype\u001B[39;49m\u001B[43m(\u001B[49m\u001B[43mx\u001B[49m\u001B[43m)\u001B[49m\u001B[43m]\u001B[49m(x)\n\u001B[1;32m    451\u001B[0m \u001B[38;5;28;01mexcept\u001B[39;00m \u001B[38;5;167;01mKeyError\u001B[39;00m:\n",
      "\u001B[0;31mKeyError\u001B[0m: <class 'jaxlib.xla_extension.CompiledFunction'>",
      "\nDuring handling of the above exception, another exception occurred:\n",
      "\u001B[0;31mTypeError\u001B[0m                                 Traceback (most recent call last)",
      "Cell \u001B[0;32mIn [30], line 1\u001B[0m\n\u001B[0;32m----> 1\u001B[0m result\u001B[38;5;241m=\u001B[39m\u001B[43mjax\u001B[49m\u001B[38;5;241;43m.\u001B[39;49m\u001B[43mxla_computation\u001B[49m\u001B[43m(\u001B[49m\u001B[43mmarginal_util_and_exp_max_value_states_period\u001B[49m\u001B[43m)\u001B[49m\u001B[43m(\u001B[49m\n\u001B[1;32m      2\u001B[0m \u001B[43m        \u001B[49m\u001B[43mcompute_next_period_wealth\u001B[49m\u001B[43m,\u001B[49m\n\u001B[1;32m      3\u001B[0m \u001B[43m        \u001B[49m\u001B[43mcompute_marginal_utility\u001B[49m\u001B[43m,\u001B[49m\n\u001B[1;32m      4\u001B[0m \u001B[43m        \u001B[49m\u001B[43mcompute_value\u001B[49m\u001B[43m,\u001B[49m\n\u001B[1;32m      5\u001B[0m \u001B[43m        \u001B[49m\u001B[43mtaste_shock_scale\u001B[49m\u001B[43m,\u001B[49m\n\u001B[1;32m      6\u001B[0m \u001B[43m        \u001B[49m\u001B[43msavings_repeated\u001B[49m\u001B[43m,\u001B[49m\n\u001B[1;32m      7\u001B[0m \u001B[43m        \u001B[49m\u001B[43mincome_shock_draws\u001B[49m\u001B[43m,\u001B[49m\n\u001B[1;32m      8\u001B[0m \u001B[43m        \u001B[49m\u001B[43mincome_shock_weights\u001B[49m\u001B[43m,\u001B[49m\n\u001B[1;32m      9\u001B[0m \u001B[43m        \u001B[49m\u001B[43mstates_repeated\u001B[49m\u001B[43m,\u001B[49m\n\u001B[1;32m     10\u001B[0m \u001B[43m        \u001B[49m\u001B[43mchoices_repeated\u001B[49m\u001B[43m,\u001B[49m\n\u001B[1;32m     11\u001B[0m \u001B[43m        \u001B[49m\u001B[43mpolicies_repeated\u001B[49m\u001B[43m,\u001B[49m\n\u001B[1;32m     12\u001B[0m \u001B[43m        \u001B[49m\u001B[43mvalues_repeated\u001B[49m\u001B[43m,\u001B[49m\n\u001B[1;32m     13\u001B[0m \u001B[43m    \u001B[49m\u001B[43m)\u001B[49m\n",
      "    \u001B[0;31m[... skipping hidden 10 frame]\u001B[0m\n",
      "File \u001B[0;32m<__array_function__ internals>:180\u001B[0m, in \u001B[0;36mresult_type\u001B[0;34m(*args, **kwargs)\u001B[0m\n",
      "\u001B[0;31mTypeError\u001B[0m: Cannot interpret '<CompiledFunction of functools.partial(<function budget_constraint at 0x13fdb4ee0>, params_dict={'beta': 0.95, 'delta': 0.0, 'theta': 1.0, 'constant': 0.75, 'exp': 0.04, 'exp_squared': -0.0004, 'sigma': 0.25, 'lambda': 2.2204e-16, 'interest_rate': 0.05, 'initial_wealth_low': 0.0, 'initial_wealth_high': 30.0, 'max_wealth': 75.0, 'consumption_floor': 0.0}, options={'n_periods': 25, 'min_age': 20, 'n_discrete_choices': 1, 'grid_points_wealth': 100, 'quadrature_points_stochastic': 10, 'n_simulations': 10, 'n_exog_processes': 1})>' as a data type"
     ]
    }
   ],
   "source": [
    "result=jax.xla_computation(marginal_util_and_exp_max_value_states_period)(\n",
    "        compute_next_period_wealth,\n",
    "        compute_marginal_utility,\n",
    "        compute_value,\n",
    "        taste_shock_scale,\n",
    "        savings_repeated,\n",
    "        income_shock_draws,\n",
    "        income_shock_weights,\n",
    "        states_repeated,\n",
    "        choices_repeated,\n",
    "        policies_repeated,\n",
    "        values_repeated,\n",
    "    )"
   ]
  },
  {
   "cell_type": "code",
   "execution_count": null,
   "id": "995a85f2",
   "metadata": {},
   "outputs": [],
   "source": []
  }
 ],
 "metadata": {
  "kernelspec": {
   "display_name": "Python 3 (ipykernel)",
   "language": "python",
   "name": "python3"
  },
  "language_info": {
   "codemirror_mode": {
    "name": "ipython",
    "version": 3
   },
   "file_extension": ".py",
   "mimetype": "text/x-python",
   "name": "python",
   "nbconvert_exporter": "python",
   "pygments_lexer": "ipython3",
   "version": "3.10.9"
  },
  "vscode": {
   "interpreter": {
    "hash": "295b01d53423e068cbaf4d863176c39060942e8a93c7af67a14cfbcb461e6a22"
   }
  }
 },
 "nbformat": 4,
 "nbformat_minor": 5
}
