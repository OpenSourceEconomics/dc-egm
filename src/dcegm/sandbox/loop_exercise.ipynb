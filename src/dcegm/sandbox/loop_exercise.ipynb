{
 "cells": [
  {
   "cell_type": "code",
   "execution_count": 29,
   "id": "35ab80e3",
   "metadata": {},
   "outputs": [],
   "source": [
    "from jax import vmap, jit\n",
    "import pickle\n",
    "import pandas as pd\n",
    "import io\n",
    "import yaml\n",
    "from functools import partial\n",
    "import jax.numpy as jnp\n",
    "\n",
    "from toy_models.consumption_retirement_model.utility_functions import (\n",
    "    utility_func_crra,\n",
    "    marginal_utility_crra,\n",
    "    inverse_marginal_utility_crra,\n",
    ")\n",
    "from toy_models.consumption_retirement_model.budget_functions import budget_constraint\n",
    "from toy_models.consumption_retirement_model.exogenous_processes import (\n",
    "    get_transition_matrix_by_state,\n",
    ")\n",
    "from dcegm.pre_processing import get_partial_functions, params_todict"
   ]
  },
  {
   "cell_type": "code",
   "execution_count": 10,
   "id": "7d1d3cdc",
   "metadata": {},
   "outputs": [],
   "source": [
    "utility_functions = {\n",
    "    \"utility\": utility_func_crra,\n",
    "    \"inverse_marginal_utility\": inverse_marginal_utility_crra,\n",
    "    \"marginal_utility\": marginal_utility_crra,\n",
    "}"
   ]
  },
  {
   "cell_type": "code",
   "execution_count": 18,
   "id": "753eb09c",
   "metadata": {},
   "outputs": [],
   "source": [
    "params = \"\"\"category,name,value,comment\n",
    "beta,beta,0.95,discount factor\n",
    "delta,delta,0,disutility of work\n",
    "utility_function,theta,1,CRRA coefficient\n",
    "wage,constant,0.75,age-independent labor income\n",
    "wage,exp,0.04,return to experience\n",
    "wage,exp_squared,-0.0004,return to experience squared\n",
    "shocks,sigma,0.25,shock on labor income sigma parameter/standard deviation\n",
    "shocks,lambda,2.220400e-16,taste shock (scale) parameter\n",
    "assets,interest_rate,0.05,interest rate on capital\n",
    "assets,initial_wealth_low,0,lowest level of initial wealth (relevant for simulation)\n",
    "assets,initial_wealth_high,30,highest level of initial wealth (relevant for simulation)\n",
    "assets,max_wealth,75,maximum level of wealth\n",
    "assets,consumption_floor,0.0,consumption floor/retirement safety net (only relevant in the dc-egm retirement model)\n",
    "\"\"\"\n",
    "\n",
    "params = pd.read_csv(io.StringIO(params), index_col=[\"category\", \"name\"])\n",
    "params_dict = params_todict(params)"
   ]
  },
  {
   "cell_type": "code",
   "execution_count": 19,
   "id": "ced208da",
   "metadata": {},
   "outputs": [
    {
     "data": {
      "text/plain": [
       "{'n_periods': 25,\n",
       " 'min_age': 20,\n",
       " 'n_discrete_choices': 1,\n",
       " 'grid_points_wealth': 100,\n",
       " 'quadrature_points_stochastic': 10,\n",
       " 'n_simulations': 10,\n",
       " 'n_exog_processes': 1}"
      ]
     },
     "execution_count": 19,
     "metadata": {},
     "output_type": "execute_result"
    }
   ],
   "source": [
    "options = \"\"\"n_periods: 25\n",
    "min_age: 20\n",
    "n_discrete_choices: 1\n",
    "grid_points_wealth: 100\n",
    "quadrature_points_stochastic: 10\n",
    "n_simulations: 10\n",
    "n_exog_processes: 1\n",
    "\"\"\"\n",
    "\n",
    "options = yaml.safe_load(options)\n",
    "options"
   ]
  },
  {
   "cell_type": "code",
   "execution_count": 20,
   "id": "84b19e4d",
   "metadata": {},
   "outputs": [],
   "source": [
    "(\n",
    "    compute_utility,\n",
    "    compute_marginal_utility,\n",
    "    compute_inverse_marginal_utility,\n",
    "    compute_value,\n",
    "    compute_next_period_wealth,\n",
    "    transition_function,\n",
    ") = get_partial_functions(\n",
    "    params_dict,\n",
    "    options,\n",
    "    utility_functions,\n",
    "    budget_constraint,\n",
    "    get_transition_matrix_by_state,\n",
    ")"
   ]
  },
  {
   "cell_type": "code",
   "execution_count": 21,
   "id": "0f4447a1",
   "metadata": {},
   "outputs": [],
   "source": [
    "possible_child_states = pickle.load(\n",
    "    open(\"profiling_resources/possible_child_states.pkl\", \"rb\")\n",
    ")\n",
    "exogenous_savings_grid = pickle.load(\n",
    "    open(\"profiling_resources/exogenous_savings_grid.pkl\", \"rb\")\n",
    ")\n",
    "income_shock_draws = pickle.load(\n",
    "    open(\"profiling_resources/income_shock_draws.pkl\", \"rb\")\n",
    ")"
   ]
  },
  {
   "cell_type": "code",
   "execution_count": 30,
   "id": "341e32b7",
   "metadata": {},
   "outputs": [
    {
     "name": "stderr",
     "output_type": "stream",
     "text": [
      "No GPU/TPU found, falling back to CPU. (Set TF_CPP_MIN_LOG_LEVEL=0 and rerun for more info.)\n"
     ]
    }
   ],
   "source": [
    "num_states = 50000\n",
    "states_repeated = jnp.repeat(possible_child_states, num_states, axis=0)"
   ]
  },
  {
   "cell_type": "code",
   "execution_count": 36,
   "id": "09af4abb",
   "metadata": {},
   "outputs": [],
   "source": [
    "num_savings_repeats = 5\n",
    "savings_repeated = jnp.repeat(exogenous_savings_grid, num_savings_repeats, axis=0)"
   ]
  },
  {
   "cell_type": "code",
   "execution_count": 37,
   "id": "2438d3ba",
   "metadata": {},
   "outputs": [],
   "source": [
    "jited_vmap = jit(\n",
    "    vmap(\n",
    "        vmap(\n",
    "            vmap(compute_next_period_wealth, in_axes=(0, None, None)),\n",
    "            in_axes=(None, 0, None),\n",
    "        ),\n",
    "        in_axes=(None, None, 0),\n",
    "    )\n",
    ")"
   ]
  },
  {
   "cell_type": "code",
   "execution_count": 38,
   "id": "798657a4",
   "metadata": {},
   "outputs": [],
   "source": [
    "def loop_func(states, savings, income, states_per_period, runs):\n",
    "    for i in range(runs):\n",
    "        result = vmap(\n",
    "            vmap(\n",
    "                vmap(compute_next_period_wealth, in_axes=(0, None, None)),\n",
    "                in_axes=(None, 0, None),\n",
    "            ),\n",
    "            in_axes=(None, None, 0),\n",
    "        )(states[:states_per_period], savings, income)\n",
    "    return result"
   ]
  },
  {
   "cell_type": "code",
   "execution_count": 39,
   "id": "1a2f8a1a",
   "metadata": {},
   "outputs": [],
   "source": [
    "jitted_lopp_func = jit(\n",
    "    partial(loop_func, states_per_period=int(num_states / 500), runs=500)\n",
    ")"
   ]
  },
  {
   "cell_type": "code",
   "execution_count": 40,
   "id": "1a03f521",
   "metadata": {},
   "outputs": [
    {
     "name": "stdout",
     "output_type": "stream",
     "text": [
      "134 µs ± 20.1 µs per loop (mean ± std. dev. of 7 runs, 1 loop each)\n"
     ]
    }
   ],
   "source": [
    "%timeit jitted_lopp_func(states=states_repeated, savings=savings_repeated, income=income_shock_draws).block_until_ready()"
   ]
  },
  {
   "cell_type": "code",
   "execution_count": 41,
   "id": "550e6fb1",
   "metadata": {},
   "outputs": [
    {
     "name": "stdout",
     "output_type": "stream",
     "text": [
      "305 ms ± 19.9 ms per loop (mean ± std. dev. of 7 runs, 1 loop each)\n"
     ]
    }
   ],
   "source": [
    "%timeit jited_vmap(states_repeated, savings_repeated, income_shock_draws).block_until_ready()"
   ]
  },
  {
   "cell_type": "code",
   "execution_count": null,
   "id": "66daaddc",
   "metadata": {},
   "outputs": [],
   "source": []
  }
 ],
 "metadata": {
  "kernelspec": {
   "display_name": "Python 3 (ipykernel)",
   "language": "python",
   "name": "python3"
  },
  "language_info": {
   "codemirror_mode": {
    "name": "ipython",
    "version": 3
   },
   "file_extension": ".py",
   "mimetype": "text/x-python",
   "name": "python",
   "nbconvert_exporter": "python",
   "pygments_lexer": "ipython3",
   "version": "3.10.9"
  }
 },
 "nbformat": 4,
 "nbformat_minor": 5
}
