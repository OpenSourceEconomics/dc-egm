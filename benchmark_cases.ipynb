{
 "cells": [
  {
   "cell_type": "markdown",
   "id": "e2d98897",
   "metadata": {},
   "source": [
    "# Benchmark Cases: EGM & DC-EGM"
   ]
  },
  {
   "cell_type": "code",
   "execution_count": null,
   "id": "f83a7fff",
   "metadata": {},
   "outputs": [],
   "source": [
    "import io\n",
    "import yaml\n",
    "import pickle\n",
    "from typing import Dict, List\n",
    "\n",
    "import numpy as np\n",
    "import pandas as pd\n",
    "\n",
    "import matplotlib.pyplot as plt\n",
    "\n",
    "from dcegm.solve import solve_dcegm\n",
    "from dcegm.consumption_retirement_model import (\n",
    "    utility_func_crra,\n",
    "    inverse_marginal_utility_crra,\n",
    "    compute_next_period_marginal_utility,\n",
    "    compute_expected_value,\n",
    ")\n",
    "\n",
    "plt.rcParams[\"figure.figsize\"] = (10, 10)\n",
    "plt.rcParams[\"figure.titlesize\"] = \"xx-large\"\n",
    "plt.rcParams[\"axes.labelsize\"] = 14"
   ]
  },
  {
   "cell_type": "code",
   "execution_count": null,
   "id": "fbcfbdb5",
   "metadata": {},
   "outputs": [],
   "source": [
    "def plot_optimal_consumption(\n",
    "    policy: List[np.ndarray], params: pd.DataFrame, options: Dict[str, int]\n",
    ") -> None:\n",
    "    \"\"\"Plots optimal consumption rules by age.\"\"\"\n",
    "    max_wealth = params.loc[(\"assets\", \"max_wealth\"), \"value\"]\n",
    "    n_periods = options[\"n_periods\"]\n",
    "    n_choices = options[\"n_discrete_choices\"]\n",
    "\n",
    "    if n_choices > 1:\n",
    "        fig, (ax, ax2) = plt.subplots(nrows=1, ncols=2, figsize=(20, 12))\n",
    "        worker, retiree = 1, 0\n",
    "    else:\n",
    "        fig, ax = plt.subplots(nrows=1, ncols=1, figsize=(9, 9))\n",
    "        worker = 0\n",
    "        \n",
    "    fig.suptitle(\"Optimal Consumption Rules by Age\")\n",
    "\n",
    "    for period in range(n_periods - 1, -1, -1):\n",
    "\n",
    "        ax.plot(policy[period][worker][0, :], policy[period][worker][1, :], linewidth=1)\n",
    "        ax.set_xlim(0, max_wealth)\n",
    "        ax.set_ylim(0, max_wealth)\n",
    "\n",
    "        ax.set_xlabel(\"Wealth\")\n",
    "        ax.set_ylabel(\"Optimal Consumption\")\n",
    "        ax.set_title(\"Worker\", fontweight=\"bold\")\n",
    "        \n",
    "        \n",
    "    if n_choices > 1:\n",
    "        for period in range(n_periods - 1, -1, -1):\n",
    "\n",
    "            ax2.plot(policy[period][retiree][0, :], policy[period][retiree][1, :], linewidth=1)\n",
    "            ax2.set_xlim(0, max_wealth)\n",
    "            ax2.set_ylim(0, max_wealth)\n",
    "\n",
    "            ax2.set_xlabel(\"Wealth\")\n",
    "            ax2.set_title(\"Retiree\", fontweight=\"bold\")\n",
    "\n",
    "    plt.tight_layout()\n",
    "    \n",
    "    \n",
    "def plot_value_function(\n",
    "    value: List[np.ndarray], params: pd.DataFrame, options: Dict[str, int]\n",
    ") -> None:\n",
    "    \"\"\"Plots optimal consumption rules by age.\"\"\"\n",
    "    max_wealth = params.loc[(\"assets\", \"max_wealth\"), \"value\"]\n",
    "    n_periods = options[\"n_periods\"]\n",
    "    n_choices = options[\"n_discrete_choices\"]\n",
    "    \n",
    "    if n_choices > 1:\n",
    "        fig, (ax, ax2) = plt.subplots(nrows=1, ncols=2, figsize=(20, 12))\n",
    "        worker, retiree = 1, 0\n",
    "    else:\n",
    "        fig, ax = plt.subplots(nrows=1, ncols=1, figsize=(9, 9))\n",
    "        worker = 0\n",
    "\n",
    "    fig.suptitle(\"Value Functions by Age\")\n",
    "\n",
    "    for period in range(n_periods - 2, -1, -1):\n",
    "\n",
    "        ax.plot(value[period][worker][0, :], value[period][worker][1, :], linewidth=1)\n",
    "        ax.set_xlim(0, max_wealth)\n",
    "        ax.set_ylim(-15, 15)\n",
    "\n",
    "        ax.set_xlabel(\"Wealth\")\n",
    "        ax.set_ylabel(\"Value function\")\n",
    "        ax.set_title(\"Worker\", fontweight=\"bold\")\n",
    "        \n",
    "    if n_choices > 1:\n",
    "        for period in range(n_periods - 2, -1, -1):\n",
    "\n",
    "            ax2.plot(value[period][retiree][0, :], value[period][retiree][1, :], linewidth=1)\n",
    "            ax2.set_xlim(0, max_wealth)\n",
    "            ax2.set_ylim(-15, 15)\n",
    "\n",
    "            ax2.set_xlabel(\"Wealth\")\n",
    "            ax2.set_title(\"Retiree\", fontweight=\"bold\")\n",
    "\n",
    "    plt.tight_layout()"
   ]
  },
  {
   "cell_type": "markdown",
   "id": "99d14e65",
   "metadata": {},
   "source": [
    "## Specify *utility functions*, *params* and *options*"
   ]
  },
  {
   "cell_type": "code",
   "execution_count": null,
   "id": "93d4d79d",
   "metadata": {},
   "outputs": [],
   "source": [
    "utility_functions = {\n",
    "    \"utility\": utility_func_crra,\n",
    "    \"inverse_marginal_utility\": inverse_marginal_utility_crra,\n",
    "    \"next_period_marginal_utility\": compute_next_period_marginal_utility,\n",
    "}"
   ]
  },
  {
   "cell_type": "code",
   "execution_count": null,
   "id": "0b02d3e1",
   "metadata": {},
   "outputs": [],
   "source": [
    "params = \"\"\"category,name,value,comment\n",
    "beta,beta,0.95,discount factor\n",
    "delta,delta,0,disutility of work\n",
    "utility_function,theta,1,CRRA coefficient\n",
    "wage,constant,0.75,age-independent labor income\n",
    "wage,exp,0.04,return to experience\n",
    "wage,exp_squared,-0.0004,return to experience squared\n",
    "shocks,sigma,0.25,shock on labor income sigma parameter/standard deviation\n",
    "shocks,lambda,0.00,taste shock (scale) parameter\n",
    "assets,interest_rate,0.05,interest rate on capital\n",
    "assets,initial_wealth_low,0,lowest level of initial wealth (relevant for simulation)\n",
    "assets,initial_wealth_high,30,highest level of initial wealth (relevant for simulation)\n",
    "assets,max_wealth,75,maximum level of wealth\n",
    "assets,consumption_floor,0.0,consumption floor/retirement safety net (only relevant in the dc-egm retirement model)\n",
    "\"\"\""
   ]
  },
  {
   "cell_type": "code",
   "execution_count": null,
   "id": "323aa087",
   "metadata": {},
   "outputs": [],
   "source": [
    "params = pd.read_csv(io.StringIO(params), index_col=[\"category\", \"name\"])\n",
    "params"
   ]
  },
  {
   "cell_type": "code",
   "execution_count": null,
   "id": "e92ab4c7",
   "metadata": {},
   "outputs": [],
   "source": [
    "options = \"\"\"n_periods: 25\n",
    "min_age: 20\n",
    "n_discrete_choices: 1\n",
    "grid_points_wealth: 100\n",
    "quadrature_points_stochastic: 10\n",
    "n_simulations: 10\n",
    "\"\"\""
   ]
  },
  {
   "cell_type": "code",
   "execution_count": null,
   "id": "60514585",
   "metadata": {},
   "outputs": [],
   "source": [
    "options = yaml.safe_load(options)\n",
    "options"
   ]
  },
  {
   "cell_type": "code",
   "execution_count": null,
   "id": "04288906",
   "metadata": {},
   "outputs": [],
   "source": []
  },
  {
   "cell_type": "markdown",
   "id": "2c954208",
   "metadata": {},
   "source": [
    "# 1) EGM: Consumption Savings Model with Income Shocks and Credit Constraint alla Deaton"
   ]
  },
  {
   "cell_type": "code",
   "execution_count": null,
   "id": "45bc7827",
   "metadata": {},
   "outputs": [],
   "source": [
    "policy_deaton, value_deaton = solve_dcegm(\n",
    "    params, options, utility_functions, compute_expected_value,\n",
    ")"
   ]
  },
  {
   "cell_type": "code",
   "execution_count": null,
   "id": "d1d189cd",
   "metadata": {},
   "outputs": [],
   "source": [
    "# Compare with expected results from MATLAB\n",
    "TEST_RESOURCES_DIR = \"tests/resources/\"\n",
    "\n",
    "policy_expected = pickle.load(open(TEST_RESOURCES_DIR + \"policy_deaton.pkl\", \"rb\"))\n",
    "value_expected = pickle.load(open(TEST_RESOURCES_DIR + \"value_deaton.pkl\", \"rb\"))\n",
    "\n",
    "\n",
    "for period in range(23, -1, -1):\n",
    "    for choice in [0]:\n",
    "        np.testing.assert_array_almost_equal(\n",
    "            policy_deaton[period, choice, :][\n",
    "                :, ~np.isnan(policy_deaton[period, choice, :]).any(axis=0),\n",
    "            ],\n",
    "            policy_expected[period, choice],\n",
    "        )\n",
    "        np.testing.assert_array_almost_equal(\n",
    "            value_deaton[period, choice, :][\n",
    "                :, ~np.isnan(value_deaton[period, choice, :]).any(axis=0),\n",
    "            ],\n",
    "            value_expected[period, choice],\n",
    "        )"
   ]
  },
  {
   "cell_type": "code",
   "execution_count": null,
   "id": "e19c7abc",
   "metadata": {},
   "outputs": [],
   "source": [
    "plot_optimal_consumption(policy_deaton, params, options)"
   ]
  },
  {
   "cell_type": "code",
   "execution_count": null,
   "id": "51c14541",
   "metadata": {},
   "outputs": [],
   "source": [
    "# The older the agent, the steeper (more positive) the curve (i.e. the more is consumed\n",
    "# and the less is saved).\n",
    "\n",
    "# Final period, everything consumed, nothing saved"
   ]
  },
  {
   "cell_type": "code",
   "execution_count": null,
   "id": "a6cba5c0",
   "metadata": {},
   "outputs": [],
   "source": []
  },
  {
   "cell_type": "markdown",
   "id": "40da2a45",
   "metadata": {},
   "source": [
    "# 2) DC-EGM: Retirement Model"
   ]
  },
  {
   "cell_type": "markdown",
   "id": "79912dce",
   "metadata": {},
   "source": [
    "## a) Without taste shocks"
   ]
  },
  {
   "cell_type": "markdown",
   "id": "9182af60",
   "metadata": {},
   "source": [
    "### Update *params* and *options*"
   ]
  },
  {
   "cell_type": "code",
   "execution_count": null,
   "id": "d2d79042",
   "metadata": {},
   "outputs": [],
   "source": [
    "params.loc[(\"beta\", \"beta\"), \"value\"] = 0.95\n",
    "params.loc[(\"delta\", \"delta\"), \"value\"] = 0.35\n",
    "params.loc[(\"utility_function\", \"theta\"), \"value\"] = 1.95\n",
    "params.loc[(\"wage\", \"exp_squared\"), \"value\"] = -0.0002\n",
    "params.loc[(\"shocks\", \"sigma\"), \"value\"] = 0.00\n",
    "params.loc[(\"shocks\", \"lambda\"), \"value\"] = 2.2204e-16\n",
    "params.loc[(\"assets\", \"max_wealth\"), \"value\"] = 50\n",
    "params.loc[(\"assets\", \"consumption_floor\"), \"value\"] = 0.001\n",
    "\n",
    "params.loc[(\"beta\", \"beta\"), \"value\"] = 0.95\n",
    "params.loc[(\"shocks\", \"sigma\"), \"value\"] = 0.00\n",
    "params.loc[(\"shocks\", \"lambda\"), \"value\"] = 2.2204e-16"
   ]
  },
  {
   "cell_type": "code",
   "execution_count": null,
   "id": "eeaeabdb",
   "metadata": {},
   "outputs": [],
   "source": [
    "options[\"n_discrete_choices\"] = 2\n",
    "options[\"grid_points_wealth\"] = 500\n",
    "options[\"quadrature_points_stochastic\"] = 5"
   ]
  },
  {
   "cell_type": "code",
   "execution_count": null,
   "id": "6fc98c37",
   "metadata": {},
   "outputs": [],
   "source": [
    "policy_retirement, value_retirement = solve_dcegm(\n",
    "    params, options, utility_functions, compute_expected_value,\n",
    ")"
   ]
  },
  {
   "cell_type": "code",
   "execution_count": null,
   "id": "aa6e5abd",
   "metadata": {},
   "outputs": [],
   "source": [
    "with open(TEST_RESOURCES_DIR + \"policy_retirement_no_taste_shocks.pkl\", 'rb') as file : \n",
    "    policy_expected = pickle.load(file)\n",
    "with open(TEST_RESOURCES_DIR + \"value_retirement_no_taste_shocks.pkl\", 'rb') as file : \n",
    "    value_expected = pickle.load(file)\n",
    "\n",
    "for period in range(23, -1, -1):\n",
    "    for choice in [1,0]:\n",
    "        np.testing.assert_array_almost_equal(\n",
    "            policy_retirement[period, choice, :][\n",
    "                :, ~np.isnan(policy_retirement[period, choice, :]).any(axis=0),\n",
    "            ],\n",
    "            policy_expected[period][choice].T,\n",
    "        )\n",
    "        np.testing.assert_array_almost_equal(\n",
    "            value_retirement[period, choice, :][\n",
    "                :, ~np.isnan(value_retirement[period, choice, :]).any(axis=0),\n",
    "            ],\n",
    "            value_expected[period][choice].T,\n",
    "        )"
   ]
  },
  {
   "cell_type": "markdown",
   "id": "5cc212c8",
   "metadata": {},
   "source": [
    "Note the kinks in the value function of the worker and discontinuities in the optimal consumption rules."
   ]
  },
  {
   "cell_type": "code",
   "execution_count": null,
   "id": "f20602bb",
   "metadata": {},
   "outputs": [],
   "source": [
    "plot_optimal_consumption(policy_retirement, params, options)"
   ]
  },
  {
   "cell_type": "code",
   "execution_count": null,
   "id": "f29b01eb",
   "metadata": {},
   "outputs": [],
   "source": [
    "plot_value_function(value_retirement, params, options)"
   ]
  },
  {
   "cell_type": "markdown",
   "id": "94194b24",
   "metadata": {},
   "source": [
    "## b) With taste shocks"
   ]
  },
  {
   "cell_type": "markdown",
   "id": "18aaad21",
   "metadata": {},
   "source": [
    "### Update *params*"
   ]
  },
  {
   "cell_type": "code",
   "execution_count": null,
   "id": "3022bf46",
   "metadata": {},
   "outputs": [],
   "source": [
    "r = params.loc[(\"assets\", \"interest_rate\"), \"value\"]\n",
    "params.loc[(\"beta\", \"beta\"), \"value\"] = 1 / (1 + r)\n",
    "params.loc[(\"shocks\", \"sigma\"), \"value\"] = 0.35\n",
    "params.loc[(\"shocks\", \"lambda\"), \"value\"] = 0.2"
   ]
  },
  {
   "cell_type": "code",
   "execution_count": null,
   "id": "fdf3cf45",
   "metadata": {},
   "outputs": [],
   "source": [
    "policy_retirement, value_retirement = solve_dcegm(\n",
    "    params, options, utility_functions, compute_expected_value,\n",
    ")"
   ]
  },
  {
   "cell_type": "code",
   "execution_count": null,
   "id": "ab8825da",
   "metadata": {},
   "outputs": [],
   "source": [
    "with open(TEST_RESOURCES_DIR + \"policy_retirement_taste_shocks.pkl\", \"rb\") as file:\n",
    "    policy_expected = pickle.load(file)\n",
    "with open(TEST_RESOURCES_DIR + \"value_retirement_taste_shocks.pkl\", \"rb\") as file:\n",
    "    value_expected = pickle.load(file)\n",
    "\n",
    "for period in range(23, -1, -1):\n",
    "    for choice in [1, 0]:\n",
    "        np.testing.assert_array_almost_equal(\n",
    "            policy_retirement[period, choice, :][\n",
    "                :, ~np.isnan(policy_retirement[period, choice, :]).any(axis=0),\n",
    "            ],\n",
    "            policy_expected[period][choice].T,\n",
    "        )\n",
    "        np.testing.assert_array_almost_equal(\n",
    "            value_retirement[period, choice, :][\n",
    "                :, ~np.isnan(value_retirement[period, choice, :]).any(axis=0),\n",
    "            ],\n",
    "            value_expected[period][choice].T,\n",
    "        )"
   ]
  },
  {
   "cell_type": "markdown",
   "id": "52fca3a9",
   "metadata": {},
   "source": [
    "The kinks in the value function of the worker and discontinuities in the optimal consumption rules are smoothed with extreme value distributed taste shocks"
   ]
  },
  {
   "cell_type": "code",
   "execution_count": null,
   "id": "391c7784",
   "metadata": {},
   "outputs": [],
   "source": [
    "plot_optimal_consumption(policy_retirement, params, options)"
   ]
  },
  {
   "cell_type": "code",
   "execution_count": null,
   "id": "ee72b7f9",
   "metadata": {},
   "outputs": [],
   "source": [
    "plot_value_function(value_retirement, params, options)"
   ]
  }
 ],
 "metadata": {
  "kernelspec": {
   "display_name": "Python 3",
   "language": "python",
   "name": "python3"
  },
  "language_info": {
   "codemirror_mode": {
    "name": "ipython",
    "version": 3
   },
   "file_extension": ".py",
   "mimetype": "text/x-python",
   "name": "python",
   "nbconvert_exporter": "python",
   "pygments_lexer": "ipython3",
   "version": "3.8.10"
  }
 },
 "nbformat": 4,
 "nbformat_minor": 5
}
